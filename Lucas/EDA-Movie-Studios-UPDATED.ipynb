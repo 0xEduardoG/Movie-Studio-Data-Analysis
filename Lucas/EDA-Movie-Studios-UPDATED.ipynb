{
 "cells": [
  {
   "cell_type": "markdown",
   "metadata": {},
   "source": [
    "# Data Analysis on Movie Studios | Lucas Kimball & Eduardo Gonzalez | 9.15.23"
   ]
  },
  {
   "cell_type": "markdown",
   "metadata": {
    "jp-MarkdownHeadingCollapsed": true
   },
   "source": [
    "## Business Problem"
   ]
  },
  {
   "cell_type": "markdown",
   "metadata": {
    "jp-MarkdownHeadingCollapsed": true
   },
   "source": [
    "\n",
    "Welcome to the world of 'Just for Glory' Studios. We've ventured into the movie industry, driven not by financial gain but by our passion for creating exceptional films. Having achieved success in various other ventures, we embark on this cinematic journey with a singular goal – to produce top-tier, award-worthy movies that will stand the test of time.\n",
    "\n",
    "Our mission is simple: we aspire to become the most decorated studio in the industry. To achieve this, we seek to unravel the secrets behind crafting award-winning films. We're keen to understand what makes a movie truly award-worthy, explore the genres that hold the key to success, and identify the factors that set exceptional movies apart from the rest.\n",
    "\n",
    "## Data Sources\n",
    "\n",
    "To embark on this exciting quest, we've armed ourselves with a wealth of data from various sources, including:\n",
    "\n",
    "- Academy Award winners spanning from 1927 to 2015.\n",
    "- Golden Globe Awards victors from 1944 to 2020.\n",
    "- Valuable insights from Box Office Mojo.\n",
    "- IMDb's extensive film database.\n",
    "- Rotten Tomatoes' critical and audience scores.\n",
    "- The Movie Database (TMDb) for comprehensive movie information.\n",
    "- The Numbers, offering insights into movie financials.\n",
    "\n",
    "Join us on this cinematic exploration as we dive into the data and uncover the ingredients that make movies shine on the silver screen. Let's begin our journey towards creating award-worthy masterpieces!\n"
   ]
  },
  {
   "cell_type": "markdown",
   "metadata": {},
   "source": [
    "## Import packages and data"
   ]
  },
  {
   "cell_type": "code",
   "execution_count": 25,
   "metadata": {},
   "outputs": [],
   "source": [
    "# Import necessary packages and suppress warnings\n",
    "\n",
    "import pandas as pd\n",
    "import sqlite3\n",
    "import numpy as np\n",
    "import matplotlib.pyplot as plt\n",
    "import seaborn as sns\n",
    "import warnings\n",
    "import gzip\n",
    "import time\n",
    "from fuzzywuzzy import fuzz\n",
    "from fuzzywuzzy import process\n",
    "warnings.filterwarnings('ignore')"
   ]
  },
  {
   "cell_type": "markdown",
   "metadata": {},
   "source": [
    "## Importing the data"
   ]
  },
  {
   "cell_type": "code",
   "execution_count": 26,
   "metadata": {},
   "outputs": [],
   "source": [
    "#read in movie budgets dataset\n",
    "movie_budgets = pd.read_csv(\"/Users/lkimball/Desktop/Flatiron/Movie-Studio-Data-Analysis/Eduardo/zippedData/tn.movie_budgets.csv.gz\")\n",
    "\n",
    "#reading in tmdb movies dataset\n",
    "tmdb_movies = pd.read_csv(\"/Users/lkimball/Desktop/Flatiron/Movie-Studio-Data-Analysis/Eduardo/zippedData/tmdb.movies.csv.gz\")\n",
    "\n",
    "#opening reviews dataset\n",
    "with gzip.open(\"/Users/lkimball/Desktop/Flatiron/Movie-Studio-Data-Analysis/Eduardo/zippedData/rt.reviews.tsv.gz\", 'rt', errors='replace') as file:\n",
    "    reviews = pd.read_csv(file, delimiter = '\\t')\n",
    "\n",
    "#opening movie info dataset\n",
    "with gzip.open(\"/Users/lkimball/Desktop/Flatiron/Movie-Studio-Data-Analysis/Eduardo/zippedData/rt.movie_info.tsv.gz\", 'rt', errors='replace') as file:\n",
    "    movie_info = pd.read_csv(file, delimiter = '\\t')\n",
    "\n",
    "#opening movie gross dataset\n",
    "with gzip.open(\"/Users/lkimball/Desktop/Flatiron/Movie-Studio-Data-Analysis/Eduardo/zippedData/bom.movie_gross.csv.gz\", 'rt', errors='replace') as file:\n",
    "    movie_gross = pd.read_csv(file, delimiter = '\\t')\n",
    "\n",
    "#creating sql connection\n",
    "conn = sqlite3.Connection(\"/Users/lkimball/Desktop/im.db\")"
   ]
  },
  {
   "cell_type": "code",
   "execution_count": 27,
   "metadata": {},
   "outputs": [],
   "source": [
    "df_list = ['conn','movie_gross','movie_info','reviews','tmdb_movies','movie_budgets', 'golden_globe_awards','academy_awards']"
   ]
  },
  {
   "cell_type": "markdown",
   "metadata": {},
   "source": [
    "### Exploring the IM Database"
   ]
  },
  {
   "cell_type": "code",
   "execution_count": 28,
   "metadata": {},
   "outputs": [
    {
     "data": {
      "text/html": [
       "<div>\n",
       "<style scoped>\n",
       "    .dataframe tbody tr th:only-of-type {\n",
       "        vertical-align: middle;\n",
       "    }\n",
       "\n",
       "    .dataframe tbody tr th {\n",
       "        vertical-align: top;\n",
       "    }\n",
       "\n",
       "    .dataframe thead th {\n",
       "        text-align: right;\n",
       "    }\n",
       "</style>\n",
       "<table border=\"1\" class=\"dataframe\">\n",
       "  <thead>\n",
       "    <tr style=\"text-align: right;\">\n",
       "      <th></th>\n",
       "      <th>name</th>\n",
       "      <th>sql</th>\n",
       "    </tr>\n",
       "  </thead>\n",
       "  <tbody>\n",
       "    <tr>\n",
       "      <th>0</th>\n",
       "      <td>movie_basics</td>\n",
       "      <td>CREATE TABLE \"movie_basics\" (\\n\"movie_id\" TEXT...</td>\n",
       "    </tr>\n",
       "    <tr>\n",
       "      <th>1</th>\n",
       "      <td>directors</td>\n",
       "      <td>CREATE TABLE \"directors\" (\\n\"movie_id\" TEXT,\\n...</td>\n",
       "    </tr>\n",
       "    <tr>\n",
       "      <th>2</th>\n",
       "      <td>known_for</td>\n",
       "      <td>CREATE TABLE \"known_for\" (\\n\"person_id\" TEXT,\\...</td>\n",
       "    </tr>\n",
       "    <tr>\n",
       "      <th>3</th>\n",
       "      <td>movie_akas</td>\n",
       "      <td>CREATE TABLE \"movie_akas\" (\\n\"movie_id\" TEXT,\\...</td>\n",
       "    </tr>\n",
       "    <tr>\n",
       "      <th>4</th>\n",
       "      <td>movie_ratings</td>\n",
       "      <td>CREATE TABLE \"movie_ratings\" (\\n\"movie_id\" TEX...</td>\n",
       "    </tr>\n",
       "    <tr>\n",
       "      <th>5</th>\n",
       "      <td>persons</td>\n",
       "      <td>CREATE TABLE \"persons\" (\\n\"person_id\" TEXT,\\n ...</td>\n",
       "    </tr>\n",
       "    <tr>\n",
       "      <th>6</th>\n",
       "      <td>principals</td>\n",
       "      <td>CREATE TABLE \"principals\" (\\n\"movie_id\" TEXT,\\...</td>\n",
       "    </tr>\n",
       "    <tr>\n",
       "      <th>7</th>\n",
       "      <td>writers</td>\n",
       "      <td>CREATE TABLE \"writers\" (\\n\"movie_id\" TEXT,\\n  ...</td>\n",
       "    </tr>\n",
       "  </tbody>\n",
       "</table>\n",
       "</div>"
      ],
      "text/plain": [
       "            name                                                sql\n",
       "0   movie_basics  CREATE TABLE \"movie_basics\" (\\n\"movie_id\" TEXT...\n",
       "1      directors  CREATE TABLE \"directors\" (\\n\"movie_id\" TEXT,\\n...\n",
       "2      known_for  CREATE TABLE \"known_for\" (\\n\"person_id\" TEXT,\\...\n",
       "3     movie_akas  CREATE TABLE \"movie_akas\" (\\n\"movie_id\" TEXT,\\...\n",
       "4  movie_ratings  CREATE TABLE \"movie_ratings\" (\\n\"movie_id\" TEX...\n",
       "5        persons  CREATE TABLE \"persons\" (\\n\"person_id\" TEXT,\\n ...\n",
       "6     principals  CREATE TABLE \"principals\" (\\n\"movie_id\" TEXT,\\...\n",
       "7        writers  CREATE TABLE \"writers\" (\\n\"movie_id\" TEXT,\\n  ..."
      ]
     },
     "execution_count": 28,
     "metadata": {},
     "output_type": "execute_result"
    }
   ],
   "source": [
    "pd.read_sql(\"\"\"SELECT name, sql FROM sqlite_master WHERE type='table';\"\"\",conn)"
   ]
  },
  {
   "cell_type": "code",
   "execution_count": 29,
   "metadata": {},
   "outputs": [
    {
     "data": {
      "text/html": [
       "<div>\n",
       "<style scoped>\n",
       "    .dataframe tbody tr th:only-of-type {\n",
       "        vertical-align: middle;\n",
       "    }\n",
       "\n",
       "    .dataframe tbody tr th {\n",
       "        vertical-align: top;\n",
       "    }\n",
       "\n",
       "    .dataframe thead th {\n",
       "        text-align: right;\n",
       "    }\n",
       "</style>\n",
       "<table border=\"1\" class=\"dataframe\">\n",
       "  <thead>\n",
       "    <tr style=\"text-align: right;\">\n",
       "      <th></th>\n",
       "      <th>movie_id</th>\n",
       "      <th>primary_title</th>\n",
       "      <th>original_title</th>\n",
       "      <th>start_year</th>\n",
       "      <th>runtime_minutes</th>\n",
       "      <th>genres</th>\n",
       "    </tr>\n",
       "  </thead>\n",
       "  <tbody>\n",
       "    <tr>\n",
       "      <th>0</th>\n",
       "      <td>tt0063540</td>\n",
       "      <td>Sunghursh</td>\n",
       "      <td>Sunghursh</td>\n",
       "      <td>2013</td>\n",
       "      <td>175.0</td>\n",
       "      <td>Action,Crime,Drama</td>\n",
       "    </tr>\n",
       "    <tr>\n",
       "      <th>1</th>\n",
       "      <td>tt0066787</td>\n",
       "      <td>One Day Before the Rainy Season</td>\n",
       "      <td>Ashad Ka Ek Din</td>\n",
       "      <td>2019</td>\n",
       "      <td>114.0</td>\n",
       "      <td>Biography,Drama</td>\n",
       "    </tr>\n",
       "  </tbody>\n",
       "</table>\n",
       "</div>"
      ],
      "text/plain": [
       "    movie_id                    primary_title   original_title  start_year  \\\n",
       "0  tt0063540                        Sunghursh        Sunghursh        2013   \n",
       "1  tt0066787  One Day Before the Rainy Season  Ashad Ka Ek Din        2019   \n",
       "\n",
       "   runtime_minutes              genres  \n",
       "0            175.0  Action,Crime,Drama  \n",
       "1            114.0     Biography,Drama  "
      ]
     },
     "execution_count": 29,
     "metadata": {},
     "output_type": "execute_result"
    }
   ],
   "source": [
    "pd.read_sql(\"\"\"SELECT * FROM movie_basics LIMIT 2\"\"\",conn)"
   ]
  },
  {
   "cell_type": "code",
   "execution_count": 30,
   "metadata": {},
   "outputs": [
    {
     "data": {
      "text/html": [
       "<div>\n",
       "<style scoped>\n",
       "    .dataframe tbody tr th:only-of-type {\n",
       "        vertical-align: middle;\n",
       "    }\n",
       "\n",
       "    .dataframe tbody tr th {\n",
       "        vertical-align: top;\n",
       "    }\n",
       "\n",
       "    .dataframe thead th {\n",
       "        text-align: right;\n",
       "    }\n",
       "</style>\n",
       "<table border=\"1\" class=\"dataframe\">\n",
       "  <thead>\n",
       "    <tr style=\"text-align: right;\">\n",
       "      <th></th>\n",
       "      <th>movie_id</th>\n",
       "      <th>person_id</th>\n",
       "    </tr>\n",
       "  </thead>\n",
       "  <tbody>\n",
       "    <tr>\n",
       "      <th>0</th>\n",
       "      <td>tt0285252</td>\n",
       "      <td>nm0899854</td>\n",
       "    </tr>\n",
       "    <tr>\n",
       "      <th>1</th>\n",
       "      <td>tt0462036</td>\n",
       "      <td>nm1940585</td>\n",
       "    </tr>\n",
       "  </tbody>\n",
       "</table>\n",
       "</div>"
      ],
      "text/plain": [
       "    movie_id  person_id\n",
       "0  tt0285252  nm0899854\n",
       "1  tt0462036  nm1940585"
      ]
     },
     "execution_count": 30,
     "metadata": {},
     "output_type": "execute_result"
    }
   ],
   "source": [
    "pd.read_sql(\"\"\"SELECT * FROM directors LIMIT 2\"\"\",conn)"
   ]
  },
  {
   "cell_type": "code",
   "execution_count": 31,
   "metadata": {},
   "outputs": [
    {
     "data": {
      "text/html": [
       "<div>\n",
       "<style scoped>\n",
       "    .dataframe tbody tr th:only-of-type {\n",
       "        vertical-align: middle;\n",
       "    }\n",
       "\n",
       "    .dataframe tbody tr th {\n",
       "        vertical-align: top;\n",
       "    }\n",
       "\n",
       "    .dataframe thead th {\n",
       "        text-align: right;\n",
       "    }\n",
       "</style>\n",
       "<table border=\"1\" class=\"dataframe\">\n",
       "  <thead>\n",
       "    <tr style=\"text-align: right;\">\n",
       "      <th></th>\n",
       "      <th>person_id</th>\n",
       "      <th>movie_id</th>\n",
       "    </tr>\n",
       "  </thead>\n",
       "  <tbody>\n",
       "    <tr>\n",
       "      <th>0</th>\n",
       "      <td>nm0061671</td>\n",
       "      <td>tt0837562</td>\n",
       "    </tr>\n",
       "    <tr>\n",
       "      <th>1</th>\n",
       "      <td>nm0061671</td>\n",
       "      <td>tt2398241</td>\n",
       "    </tr>\n",
       "  </tbody>\n",
       "</table>\n",
       "</div>"
      ],
      "text/plain": [
       "   person_id   movie_id\n",
       "0  nm0061671  tt0837562\n",
       "1  nm0061671  tt2398241"
      ]
     },
     "execution_count": 31,
     "metadata": {},
     "output_type": "execute_result"
    }
   ],
   "source": [
    "pd.read_sql(\"\"\"SELECT * FROM known_for LIMIT 2\"\"\",conn)"
   ]
  },
  {
   "cell_type": "code",
   "execution_count": 32,
   "metadata": {},
   "outputs": [
    {
     "data": {
      "text/html": [
       "<div>\n",
       "<style scoped>\n",
       "    .dataframe tbody tr th:only-of-type {\n",
       "        vertical-align: middle;\n",
       "    }\n",
       "\n",
       "    .dataframe tbody tr th {\n",
       "        vertical-align: top;\n",
       "    }\n",
       "\n",
       "    .dataframe thead th {\n",
       "        text-align: right;\n",
       "    }\n",
       "</style>\n",
       "<table border=\"1\" class=\"dataframe\">\n",
       "  <thead>\n",
       "    <tr style=\"text-align: right;\">\n",
       "      <th></th>\n",
       "      <th>movie_id</th>\n",
       "      <th>ordering</th>\n",
       "      <th>title</th>\n",
       "      <th>region</th>\n",
       "      <th>language</th>\n",
       "      <th>types</th>\n",
       "      <th>attributes</th>\n",
       "      <th>is_original_title</th>\n",
       "    </tr>\n",
       "  </thead>\n",
       "  <tbody>\n",
       "    <tr>\n",
       "      <th>0</th>\n",
       "      <td>tt0369610</td>\n",
       "      <td>10</td>\n",
       "      <td>Джурасик свят</td>\n",
       "      <td>BG</td>\n",
       "      <td>bg</td>\n",
       "      <td>None</td>\n",
       "      <td>None</td>\n",
       "      <td>0.0</td>\n",
       "    </tr>\n",
       "    <tr>\n",
       "      <th>1</th>\n",
       "      <td>tt0369610</td>\n",
       "      <td>11</td>\n",
       "      <td>Jurashikku warudo</td>\n",
       "      <td>JP</td>\n",
       "      <td>None</td>\n",
       "      <td>imdbDisplay</td>\n",
       "      <td>None</td>\n",
       "      <td>0.0</td>\n",
       "    </tr>\n",
       "  </tbody>\n",
       "</table>\n",
       "</div>"
      ],
      "text/plain": [
       "    movie_id  ordering              title region language        types  \\\n",
       "0  tt0369610        10      Джурасик свят     BG       bg         None   \n",
       "1  tt0369610        11  Jurashikku warudo     JP     None  imdbDisplay   \n",
       "\n",
       "  attributes  is_original_title  \n",
       "0       None                0.0  \n",
       "1       None                0.0  "
      ]
     },
     "execution_count": 32,
     "metadata": {},
     "output_type": "execute_result"
    }
   ],
   "source": [
    "pd.read_sql(\"\"\"SELECT * FROM movie_akas LIMIT 2\"\"\",conn)"
   ]
  },
  {
   "cell_type": "code",
   "execution_count": 33,
   "metadata": {},
   "outputs": [
    {
     "data": {
      "text/html": [
       "<div>\n",
       "<style scoped>\n",
       "    .dataframe tbody tr th:only-of-type {\n",
       "        vertical-align: middle;\n",
       "    }\n",
       "\n",
       "    .dataframe tbody tr th {\n",
       "        vertical-align: top;\n",
       "    }\n",
       "\n",
       "    .dataframe thead th {\n",
       "        text-align: right;\n",
       "    }\n",
       "</style>\n",
       "<table border=\"1\" class=\"dataframe\">\n",
       "  <thead>\n",
       "    <tr style=\"text-align: right;\">\n",
       "      <th></th>\n",
       "      <th>movie_id</th>\n",
       "      <th>averagerating</th>\n",
       "      <th>numvotes</th>\n",
       "    </tr>\n",
       "  </thead>\n",
       "  <tbody>\n",
       "    <tr>\n",
       "      <th>0</th>\n",
       "      <td>tt10356526</td>\n",
       "      <td>8.3</td>\n",
       "      <td>31</td>\n",
       "    </tr>\n",
       "    <tr>\n",
       "      <th>1</th>\n",
       "      <td>tt10384606</td>\n",
       "      <td>8.9</td>\n",
       "      <td>559</td>\n",
       "    </tr>\n",
       "  </tbody>\n",
       "</table>\n",
       "</div>"
      ],
      "text/plain": [
       "     movie_id  averagerating  numvotes\n",
       "0  tt10356526            8.3        31\n",
       "1  tt10384606            8.9       559"
      ]
     },
     "execution_count": 33,
     "metadata": {},
     "output_type": "execute_result"
    }
   ],
   "source": [
    "pd.read_sql(\"\"\"SELECT * FROM movie_ratings LIMIT 2\"\"\",conn)"
   ]
  },
  {
   "cell_type": "code",
   "execution_count": 34,
   "metadata": {},
   "outputs": [
    {
     "data": {
      "text/html": [
       "<div>\n",
       "<style scoped>\n",
       "    .dataframe tbody tr th:only-of-type {\n",
       "        vertical-align: middle;\n",
       "    }\n",
       "\n",
       "    .dataframe tbody tr th {\n",
       "        vertical-align: top;\n",
       "    }\n",
       "\n",
       "    .dataframe thead th {\n",
       "        text-align: right;\n",
       "    }\n",
       "</style>\n",
       "<table border=\"1\" class=\"dataframe\">\n",
       "  <thead>\n",
       "    <tr style=\"text-align: right;\">\n",
       "      <th></th>\n",
       "      <th>person_id</th>\n",
       "      <th>primary_name</th>\n",
       "      <th>birth_year</th>\n",
       "      <th>death_year</th>\n",
       "      <th>primary_profession</th>\n",
       "    </tr>\n",
       "  </thead>\n",
       "  <tbody>\n",
       "    <tr>\n",
       "      <th>0</th>\n",
       "      <td>nm0061671</td>\n",
       "      <td>Mary Ellen Bauder</td>\n",
       "      <td>None</td>\n",
       "      <td>None</td>\n",
       "      <td>miscellaneous,production_manager,producer</td>\n",
       "    </tr>\n",
       "    <tr>\n",
       "      <th>1</th>\n",
       "      <td>nm0061865</td>\n",
       "      <td>Joseph Bauer</td>\n",
       "      <td>None</td>\n",
       "      <td>None</td>\n",
       "      <td>composer,music_department,sound_department</td>\n",
       "    </tr>\n",
       "  </tbody>\n",
       "</table>\n",
       "</div>"
      ],
      "text/plain": [
       "   person_id       primary_name birth_year death_year  \\\n",
       "0  nm0061671  Mary Ellen Bauder       None       None   \n",
       "1  nm0061865       Joseph Bauer       None       None   \n",
       "\n",
       "                           primary_profession  \n",
       "0   miscellaneous,production_manager,producer  \n",
       "1  composer,music_department,sound_department  "
      ]
     },
     "execution_count": 34,
     "metadata": {},
     "output_type": "execute_result"
    }
   ],
   "source": [
    "pd.read_sql(\"\"\"SELECT * FROM persons LIMIT 2\"\"\",conn)"
   ]
  },
  {
   "cell_type": "code",
   "execution_count": 35,
   "metadata": {},
   "outputs": [
    {
     "data": {
      "text/html": [
       "<div>\n",
       "<style scoped>\n",
       "    .dataframe tbody tr th:only-of-type {\n",
       "        vertical-align: middle;\n",
       "    }\n",
       "\n",
       "    .dataframe tbody tr th {\n",
       "        vertical-align: top;\n",
       "    }\n",
       "\n",
       "    .dataframe thead th {\n",
       "        text-align: right;\n",
       "    }\n",
       "</style>\n",
       "<table border=\"1\" class=\"dataframe\">\n",
       "  <thead>\n",
       "    <tr style=\"text-align: right;\">\n",
       "      <th></th>\n",
       "      <th>movie_id</th>\n",
       "      <th>ordering</th>\n",
       "      <th>person_id</th>\n",
       "      <th>category</th>\n",
       "      <th>job</th>\n",
       "      <th>characters</th>\n",
       "    </tr>\n",
       "  </thead>\n",
       "  <tbody>\n",
       "    <tr>\n",
       "      <th>0</th>\n",
       "      <td>tt0111414</td>\n",
       "      <td>1</td>\n",
       "      <td>nm0246005</td>\n",
       "      <td>actor</td>\n",
       "      <td>None</td>\n",
       "      <td>[\"The Man\"]</td>\n",
       "    </tr>\n",
       "    <tr>\n",
       "      <th>1</th>\n",
       "      <td>tt0111414</td>\n",
       "      <td>2</td>\n",
       "      <td>nm0398271</td>\n",
       "      <td>director</td>\n",
       "      <td>None</td>\n",
       "      <td>None</td>\n",
       "    </tr>\n",
       "  </tbody>\n",
       "</table>\n",
       "</div>"
      ],
      "text/plain": [
       "    movie_id  ordering  person_id  category   job   characters\n",
       "0  tt0111414         1  nm0246005     actor  None  [\"The Man\"]\n",
       "1  tt0111414         2  nm0398271  director  None         None"
      ]
     },
     "execution_count": 35,
     "metadata": {},
     "output_type": "execute_result"
    }
   ],
   "source": [
    "pd.read_sql(\"\"\"SELECT * FROM principals LIMIT 2\"\"\",conn)"
   ]
  },
  {
   "cell_type": "code",
   "execution_count": 36,
   "metadata": {},
   "outputs": [
    {
     "data": {
      "text/html": [
       "<div>\n",
       "<style scoped>\n",
       "    .dataframe tbody tr th:only-of-type {\n",
       "        vertical-align: middle;\n",
       "    }\n",
       "\n",
       "    .dataframe tbody tr th {\n",
       "        vertical-align: top;\n",
       "    }\n",
       "\n",
       "    .dataframe thead th {\n",
       "        text-align: right;\n",
       "    }\n",
       "</style>\n",
       "<table border=\"1\" class=\"dataframe\">\n",
       "  <thead>\n",
       "    <tr style=\"text-align: right;\">\n",
       "      <th></th>\n",
       "      <th>movie_id</th>\n",
       "      <th>person_id</th>\n",
       "    </tr>\n",
       "  </thead>\n",
       "  <tbody>\n",
       "    <tr>\n",
       "      <th>0</th>\n",
       "      <td>tt0285252</td>\n",
       "      <td>nm0899854</td>\n",
       "    </tr>\n",
       "    <tr>\n",
       "      <th>1</th>\n",
       "      <td>tt0438973</td>\n",
       "      <td>nm0175726</td>\n",
       "    </tr>\n",
       "  </tbody>\n",
       "</table>\n",
       "</div>"
      ],
      "text/plain": [
       "    movie_id  person_id\n",
       "0  tt0285252  nm0899854\n",
       "1  tt0438973  nm0175726"
      ]
     },
     "execution_count": 36,
     "metadata": {},
     "output_type": "execute_result"
    }
   ],
   "source": [
    "pd.read_sql(\"\"\"SELECT * FROM writers LIMIT 2\"\"\",conn)"
   ]
  },
  {
   "cell_type": "markdown",
   "metadata": {},
   "source": [
    "Based on this preliminary exploration, we can evaluate the content of every table within thew database, creating tin that way one solely chart that will have all we need for further exploration"
   ]
  },
  {
   "cell_type": "markdown",
   "metadata": {},
   "source": [
    "We're going to evaluate what makes a movie win awards, so let's dive in what we need from each table.\n",
    "\n",
    "movie_basics: We need the name of the movie, the runtime in minutes thast it playead and the genres, we decided to keep both the primary and the original name, to evaluate later which one is easire to pair the other dataframes with\n",
    "\n",
    "directors: We're going to add the director of each movie.\n",
    "\n",
    "known_for: We don't find any relevant information to add.\n",
    "\n",
    "movie_akas: We don;t find any relevant information to add.\n",
    "\n",
    "movie_ratings: We might want to see if there's any correlation in the awards and the rating and votes they get.\n",
    "\n",
    "persons: We need the name of the directors of our movies, We also want to know if the person is still alive\n",
    "\n",
    "principal: Having found above the relevant information about the directors, we don't need the information about them.\n",
    "\n",
    "writers: We don't find any relevant information to add."
   ]
  },
  {
   "cell_type": "markdown",
   "metadata": {},
   "source": [
    "### Movie_ratings\n",
    "\n",
    "We're evaluating if the amount of votes will be a necessary value to keep, we plot an histogram on a logaritmic scale."
   ]
  },
  {
   "cell_type": "code",
   "execution_count": 37,
   "metadata": {},
   "outputs": [
    {
     "name": "stdout",
     "output_type": "stream",
     "text": [
      "This Column has a mean of 3523.66 a median of 49.0 and a standard deviation of 30294.02, is not worth to keep, is far from normally distributed\n"
     ]
    },
    {
     "data": {
      "image/png": "[encoded data removed]",
      "text/plain": [
       "<Figure size 640x480 with 1 Axes>"
      ]
     },
     "metadata": {},
     "output_type": "display_data"
    }
   ],
   "source": [
    "votes = pd.read_sql(\"\"\"SELECT * FROM movie_ratings \"\"\",conn)['numvotes']\n",
    "plt.hist(votes, log=True);\n",
    "plt.title('Logaritmic scale of ocurrences of votes');\n",
    "print(f\"This Column has a mean of {round(votes.mean(),2)} a median of {votes.median()} and a \\\n",
    "standard deviation of {round(votes.std(),2)}, is not worth to keep, is far from normally distributed\")"
   ]
  },
  {
   "cell_type": "markdown",
   "metadata": {},
   "source": [
    "Now on the average rating, we evaluate the distribution."
   ]
  },
  {
   "cell_type": "code",
   "execution_count": 38,
   "metadata": {},
   "outputs": [
    {
     "data": {
      "image/png": "[encoded data removed]",
      "text/plain": [
       "<Figure size 640x480 with 1 Axes>"
      ]
     },
     "metadata": {},
     "output_type": "display_data"
    }
   ],
   "source": [
    "rating = pd.read_sql(\"\"\"SELECT * FROM movie_ratings\"\"\",conn)['averagerating']\n",
    "plt.hist(rating, bins=15);\n",
    "plt.title('Distribution of rating on Movies');"
   ]
  },
  {
   "cell_type": "markdown",
   "metadata": {},
   "source": [
    "We notice that the average rating has a normal distribution, we're going to keep it for further analysis."
   ]
  },
  {
   "cell_type": "markdown",
   "metadata": {
    "jp-MarkdownHeadingCollapsed": true
   },
   "source": [
    "## Creating the Query to extract the desired DataFrame"
   ]
  },
  {
   "cell_type": "code",
   "execution_count": 39,
   "metadata": {},
   "outputs": [],
   "source": [
    "#Creating a Query for this database to Extract the Desired Data From it\n",
    "\n",
    "imdb = pd.read_sql(\"\"\"\n",
    "SELECT primary_title, original_title, start_year, runtime_minutes, primary_name AS director_name, death_year, averagerating, genres\n",
    "FROM movie_basics\n",
    "LEFT JOIN directors USING(movie_id)\n",
    "LEFT JOIN persons USING(person_id)\n",
    "LEFT JOIN movie_ratings USING(movie_id)\n",
    "GROUP BY movie_id\n",
    "\"\"\",conn)"
   ]
  },
  {
   "cell_type": "markdown",
   "metadata": {
    "jp-MarkdownHeadingCollapsed": true
   },
   "source": [
    "## Dealing with the Genre"
   ]
  },
  {
   "cell_type": "markdown",
   "metadata": {},
   "source": [
    "As we notice above, the genres column has more than one value per movie, that'd make it hard to analyze going forward. We decided isntead to created columns for the different genres and assign a binary value in case the movie falls into that specific genre."
   ]
  },
  {
   "cell_type": "code",
   "execution_count": 40,
   "metadata": {},
   "outputs": [],
   "source": [
    "#We make sure that every row has a value in the genre column.\n",
    "imdb = imdb.drop_duplicates(subset=['primary_title'])\n",
    "imdb['genres'].fillna('No Genre', inplace=True)\n",
    "# Split the 'genres' column into a list of genres and then explode them into separate rows\n",
    "imdb['genres'] = imdb['genres'].str.split(',')\n",
    "imdb = imdb.explode('genres')\n",
    "# Create binary indicators for each genre\n",
    "for genre in imdb['genres'].dropna().unique():\n",
    "    imdb[genre] = imdb['genres'].str.contains(genre).astype(int)\n",
    "# Drop the original genres column\n",
    "imdb.drop(columns=['genres'], inplace=True)"
   ]
  },
  {
   "cell_type": "markdown",
   "metadata": {},
   "source": [
    "That made what we needed, but now we have as many rows per movie as genres they're in, we need to consolidate them"
   ]
  },
  {
   "cell_type": "code",
   "execution_count": 41,
   "metadata": {},
   "outputs": [],
   "source": [
    "# Separate what are \"genres column\" from \"non genres column\"\n",
    "non_genre_columns = ['primary_title', 'original_title','start_year','runtime_minutes','director_name','death_year','averagerating']\n",
    "genre_columns = imdb.columns.difference(non_genre_columns)\n",
    "# Group by 'primary_title' and sum the genre columns\n",
    "genres_consolidated = imdb.groupby('primary_title', as_index=False)[genre_columns].sum()\n",
    "\n",
    "#Merging all the columns together\n",
    "imdb = pd.merge(imdb[non_genre_columns], genres_consolidated, on='primary_title')\n",
    "#Elimintating duplicates based on primary_title\n",
    "imdb = imdb.drop_duplicates(subset=['primary_title'])\n",
    "imdb.reset_index(drop=True, inplace=True)"
   ]
  },
  {
   "cell_type": "markdown",
   "metadata": {},
   "source": [
    "### Dealing with null values"
   ]
  },
  {
   "cell_type": "code",
   "execution_count": 42,
   "metadata": {},
   "outputs": [],
   "source": [
    "#If we don't have the original_title, we'll just keep the primary_title.\n",
    "imdb['original_title'].fillna(imdb['primary_title'], inplace=True)\n",
    "#For runtime_minutes and death_year, we'll use 0 as a placeholder value\n",
    "imdb['runtime_minutes'].fillna(0, inplace=True)\n",
    "imdb['death_year'].fillna(0, inplace=True)\n",
    "#For directors, we'll replace with 'Unknown'\n",
    "imdb['director_name'].fillna('Unknown',inplace=True)\n",
    "#For the averagerating we decided to fill the null values with the median.\n",
    "imdb['averagerating'].fillna(imdb['averagerating'].median(),inplace=True)\n",
    "\n"
   ]
  },
  {
   "cell_type": "markdown",
   "metadata": {},
   "source": [
    "### Exploring Resulting Data"
   ]
  },
  {
   "cell_type": "code",
   "execution_count": 43,
   "metadata": {},
   "outputs": [
    {
     "data": {
      "text/html": [
       "<div>\n",
       "<style scoped>\n",
       "    .dataframe tbody tr th:only-of-type {\n",
       "        vertical-align: middle;\n",
       "    }\n",
       "\n",
       "    .dataframe tbody tr th {\n",
       "        vertical-align: top;\n",
       "    }\n",
       "\n",
       "    .dataframe thead th {\n",
       "        text-align: right;\n",
       "    }\n",
       "</style>\n",
       "<table border=\"1\" class=\"dataframe\">\n",
       "  <thead>\n",
       "    <tr style=\"text-align: right;\">\n",
       "      <th></th>\n",
       "      <th>primary_title</th>\n",
       "      <th>original_title</th>\n",
       "      <th>start_year</th>\n",
       "      <th>runtime_minutes</th>\n",
       "      <th>director_name</th>\n",
       "      <th>death_year</th>\n",
       "      <th>averagerating</th>\n",
       "      <th>Action</th>\n",
       "      <th>Adult</th>\n",
       "      <th>Adventure</th>\n",
       "      <th>...</th>\n",
       "      <th>No Genre</th>\n",
       "      <th>Reality-TV</th>\n",
       "      <th>Romance</th>\n",
       "      <th>Sci-Fi</th>\n",
       "      <th>Short</th>\n",
       "      <th>Sport</th>\n",
       "      <th>Talk-Show</th>\n",
       "      <th>Thriller</th>\n",
       "      <th>War</th>\n",
       "      <th>Western</th>\n",
       "    </tr>\n",
       "  </thead>\n",
       "  <tbody>\n",
       "    <tr>\n",
       "      <th>0</th>\n",
       "      <td>Sunghursh</td>\n",
       "      <td>Sunghursh</td>\n",
       "      <td>2013</td>\n",
       "      <td>175.0</td>\n",
       "      <td>Harnam Singh Rawail</td>\n",
       "      <td>2004.0</td>\n",
       "      <td>7.0</td>\n",
       "      <td>1</td>\n",
       "      <td>0</td>\n",
       "      <td>0</td>\n",
       "      <td>...</td>\n",
       "      <td>0</td>\n",
       "      <td>0</td>\n",
       "      <td>0</td>\n",
       "      <td>0</td>\n",
       "      <td>0</td>\n",
       "      <td>0</td>\n",
       "      <td>0</td>\n",
       "      <td>0</td>\n",
       "      <td>0</td>\n",
       "      <td>0</td>\n",
       "    </tr>\n",
       "    <tr>\n",
       "      <th>1</th>\n",
       "      <td>One Day Before the Rainy Season</td>\n",
       "      <td>Ashad Ka Ek Din</td>\n",
       "      <td>2019</td>\n",
       "      <td>114.0</td>\n",
       "      <td>Mani Kaul</td>\n",
       "      <td>2011.0</td>\n",
       "      <td>7.2</td>\n",
       "      <td>0</td>\n",
       "      <td>0</td>\n",
       "      <td>0</td>\n",
       "      <td>...</td>\n",
       "      <td>0</td>\n",
       "      <td>0</td>\n",
       "      <td>0</td>\n",
       "      <td>0</td>\n",
       "      <td>0</td>\n",
       "      <td>0</td>\n",
       "      <td>0</td>\n",
       "      <td>0</td>\n",
       "      <td>0</td>\n",
       "      <td>0</td>\n",
       "    </tr>\n",
       "    <tr>\n",
       "      <th>2</th>\n",
       "      <td>The Other Side of the Wind</td>\n",
       "      <td>The Other Side of the Wind</td>\n",
       "      <td>2018</td>\n",
       "      <td>122.0</td>\n",
       "      <td>Orson Welles</td>\n",
       "      <td>1985.0</td>\n",
       "      <td>6.9</td>\n",
       "      <td>0</td>\n",
       "      <td>0</td>\n",
       "      <td>0</td>\n",
       "      <td>...</td>\n",
       "      <td>0</td>\n",
       "      <td>0</td>\n",
       "      <td>0</td>\n",
       "      <td>0</td>\n",
       "      <td>0</td>\n",
       "      <td>0</td>\n",
       "      <td>0</td>\n",
       "      <td>0</td>\n",
       "      <td>0</td>\n",
       "      <td>0</td>\n",
       "    </tr>\n",
       "    <tr>\n",
       "      <th>3</th>\n",
       "      <td>Sabse Bada Sukh</td>\n",
       "      <td>Sabse Bada Sukh</td>\n",
       "      <td>2018</td>\n",
       "      <td>0.0</td>\n",
       "      <td>Hrishikesh Mukherjee</td>\n",
       "      <td>2006.0</td>\n",
       "      <td>6.1</td>\n",
       "      <td>0</td>\n",
       "      <td>0</td>\n",
       "      <td>0</td>\n",
       "      <td>...</td>\n",
       "      <td>0</td>\n",
       "      <td>0</td>\n",
       "      <td>0</td>\n",
       "      <td>0</td>\n",
       "      <td>0</td>\n",
       "      <td>0</td>\n",
       "      <td>0</td>\n",
       "      <td>0</td>\n",
       "      <td>0</td>\n",
       "      <td>0</td>\n",
       "    </tr>\n",
       "    <tr>\n",
       "      <th>4</th>\n",
       "      <td>The Wandering Soap Opera</td>\n",
       "      <td>La Telenovela Errante</td>\n",
       "      <td>2017</td>\n",
       "      <td>80.0</td>\n",
       "      <td>Raoul Ruiz</td>\n",
       "      <td>2011.0</td>\n",
       "      <td>6.5</td>\n",
       "      <td>0</td>\n",
       "      <td>0</td>\n",
       "      <td>0</td>\n",
       "      <td>...</td>\n",
       "      <td>0</td>\n",
       "      <td>0</td>\n",
       "      <td>0</td>\n",
       "      <td>0</td>\n",
       "      <td>0</td>\n",
       "      <td>0</td>\n",
       "      <td>0</td>\n",
       "      <td>0</td>\n",
       "      <td>0</td>\n",
       "      <td>0</td>\n",
       "    </tr>\n",
       "  </tbody>\n",
       "</table>\n",
       "<p>5 rows × 35 columns</p>\n",
       "</div>"
      ],
      "text/plain": [
       "                     primary_title              original_title  start_year  \\\n",
       "0                        Sunghursh                   Sunghursh        2013   \n",
       "1  One Day Before the Rainy Season             Ashad Ka Ek Din        2019   \n",
       "2       The Other Side of the Wind  The Other Side of the Wind        2018   \n",
       "3                  Sabse Bada Sukh             Sabse Bada Sukh        2018   \n",
       "4         The Wandering Soap Opera       La Telenovela Errante        2017   \n",
       "\n",
       "   runtime_minutes         director_name  death_year  averagerating  Action  \\\n",
       "0            175.0   Harnam Singh Rawail      2004.0            7.0       1   \n",
       "1            114.0             Mani Kaul      2011.0            7.2       0   \n",
       "2            122.0          Orson Welles      1985.0            6.9       0   \n",
       "3              0.0  Hrishikesh Mukherjee      2006.0            6.1       0   \n",
       "4             80.0            Raoul Ruiz      2011.0            6.5       0   \n",
       "\n",
       "   Adult  Adventure  ...  No Genre  Reality-TV  Romance  Sci-Fi  Short  Sport  \\\n",
       "0      0          0  ...         0           0        0       0      0      0   \n",
       "1      0          0  ...         0           0        0       0      0      0   \n",
       "2      0          0  ...         0           0        0       0      0      0   \n",
       "3      0          0  ...         0           0        0       0      0      0   \n",
       "4      0          0  ...         0           0        0       0      0      0   \n",
       "\n",
       "   Talk-Show  Thriller  War  Western  \n",
       "0          0         0    0        0  \n",
       "1          0         0    0        0  \n",
       "2          0         0    0        0  \n",
       "3          0         0    0        0  \n",
       "4          0         0    0        0  \n",
       "\n",
       "[5 rows x 35 columns]"
      ]
     },
     "execution_count": 43,
     "metadata": {},
     "output_type": "execute_result"
    }
   ],
   "source": [
    "imdb.head()"
   ]
  },
  {
   "cell_type": "markdown",
   "metadata": {},
   "source": [
    "### Runtime\n",
    "\n",
    "We can advert that there are some outliers that don't allow us to examine the complete data distribution, so we're going to compare the complete dataset with one that'll have a threshold to be able to show it properly"
   ]
  },
  {
   "cell_type": "code",
   "execution_count": 44,
   "metadata": {},
   "outputs": [
    {
     "data": {
      "image/png": "[encoded data removed]",
      "text/plain": [
       "<Figure size 1500x600 with 2 Axes>"
      ]
     },
     "metadata": {},
     "output_type": "display_data"
    }
   ],
   "source": [
    "fig, (ax1,ax2) = plt.subplots(ncols=2, figsize=(15,6))\n",
    "ax1.violinplot(imdb['runtime_minutes'])\n",
    "ax1.set_title('Violinplot of Runtime in minutes per Movies')\n",
    "ax1.set_ylabel('Minutes');\n",
    "\n",
    "threshold = 200  # Adjust this threshold based on your data\n",
    "runtime_with_threshold = [x for x in imdb['runtime_minutes'] if x <= threshold]\n",
    "ax2.violinplot(runtime_with_threshold)\n",
    "ax2.set_title('Violinplot of Runtime in minutes per Movies, adjusted');"
   ]
  },
  {
   "cell_type": "markdown",
   "metadata": {
    "jp-MarkdownHeadingCollapsed": true
   },
   "source": [
    "## What genres the movies are?\n",
    "\n",
    "Now we continue to analyze the dataset by vieweing the number of genres ocurrences in the dataset."
   ]
  },
  {
   "cell_type": "code",
   "execution_count": 45,
   "metadata": {},
   "outputs": [
    {
     "data": {
      "image/png": "[encoded data removed]",
      "text/plain": [
       "<Figure size 1500x600 with 1 Axes>"
      ]
     },
     "metadata": {},
     "output_type": "display_data"
    }
   ],
   "source": [
    "category_columns = ['Action', 'Adult',\n",
    "       'Adventure', 'Animation', 'Biography', 'Comedy', 'Crime', 'Documentary',\n",
    "       'Drama', 'Family', 'Fantasy', 'Game-Show', 'History', 'Horror', 'Music',\n",
    "       'Musical', 'Mystery', 'News', 'No Genre', 'Reality-TV', 'Romance',\n",
    "       'Sci-Fi', 'Short', 'Sport', 'Talk-Show', 'Thriller', 'War', 'Western']\n",
    "columns_sums = imdb[category_columns].sum()\n",
    "fig, ax = plt.subplots(figsize=(15,6))\n",
    "plt.bar(columns_sums.index, columns_sums)\n",
    "plt.xticks(rotation=60)\n",
    "plt.title('Genres by Movies')\n",
    "plt.xlabel('Genres')\n",
    "plt.ylabel('# of Movies');\n",
    "        "
   ]
  },
  {
   "cell_type": "markdown",
   "metadata": {},
   "source": [
    "As we can see there's a big number of movies that falls in either documentary or drama. We need to keep in mind that some movies might fall into more than once category."
   ]
  },
  {
   "cell_type": "markdown",
   "metadata": {
    "jp-MarkdownHeadingCollapsed": true
   },
   "source": [
    "## Movie_gross\n",
    "Since we're going to work only with US based awards, we're going to focus on domestic gross rather than foreign_gross.\n",
    "\n",
    "We drop all the columns and rows that we don't need or are irrelevant for our analysis."
   ]
  },
  {
   "cell_type": "code",
   "execution_count": 46,
   "metadata": {},
   "outputs": [],
   "source": [
    "#Dropping unnecessary columns and rows\n",
    "#movie_gross.drop(columns=['studio','year','foreign_gross'],inplace=True)\n",
    "#movie_gross.dropna(axis=0, inplace=True)\n",
    "#movie_gross.info()"
   ]
  },
  {
   "cell_type": "markdown",
   "metadata": {
    "jp-MarkdownHeadingCollapsed": true
   },
   "source": [
    "## TMDB movies"
   ]
  },
  {
   "cell_type": "code",
   "execution_count": 47,
   "metadata": {},
   "outputs": [
    {
     "name": "stdout",
     "output_type": "stream",
     "text": [
      "<class 'pandas.core.frame.DataFrame'>\n",
      "RangeIndex: 26517 entries, 0 to 26516\n",
      "Data columns (total 10 columns):\n",
      " #   Column             Non-Null Count  Dtype  \n",
      "---  ------             --------------  -----  \n",
      " 0   Unnamed: 0         26517 non-null  int64  \n",
      " 1   genre_ids          26517 non-null  object \n",
      " 2   id                 26517 non-null  int64  \n",
      " 3   original_language  26517 non-null  object \n",
      " 4   original_title     26517 non-null  object \n",
      " 5   popularity         26517 non-null  float64\n",
      " 6   release_date       26517 non-null  object \n",
      " 7   title              26517 non-null  object \n",
      " 8   vote_average       26517 non-null  float64\n",
      " 9   vote_count         26517 non-null  int64  \n",
      "dtypes: float64(2), int64(3), object(5)\n",
      "memory usage: 2.0+ MB\n"
     ]
    }
   ],
   "source": [
    "tmdb_movies.info()"
   ]
  },
  {
   "cell_type": "code",
   "execution_count": 48,
   "metadata": {},
   "outputs": [
    {
     "data": {
      "text/html": [
       "<div>\n",
       "<style scoped>\n",
       "    .dataframe tbody tr th:only-of-type {\n",
       "        vertical-align: middle;\n",
       "    }\n",
       "\n",
       "    .dataframe tbody tr th {\n",
       "        vertical-align: top;\n",
       "    }\n",
       "\n",
       "    .dataframe thead th {\n",
       "        text-align: right;\n",
       "    }\n",
       "</style>\n",
       "<table border=\"1\" class=\"dataframe\">\n",
       "  <thead>\n",
       "    <tr style=\"text-align: right;\">\n",
       "      <th></th>\n",
       "      <th>Unnamed: 0</th>\n",
       "      <th>genre_ids</th>\n",
       "      <th>id</th>\n",
       "      <th>original_language</th>\n",
       "      <th>original_title</th>\n",
       "      <th>popularity</th>\n",
       "      <th>release_date</th>\n",
       "      <th>title</th>\n",
       "      <th>vote_average</th>\n",
       "      <th>vote_count</th>\n",
       "    </tr>\n",
       "  </thead>\n",
       "  <tbody>\n",
       "    <tr>\n",
       "      <th>0</th>\n",
       "      <td>0</td>\n",
       "      <td>[12, 14, 10751]</td>\n",
       "      <td>12444</td>\n",
       "      <td>en</td>\n",
       "      <td>Harry Potter and the Deathly Hallows: Part 1</td>\n",
       "      <td>33.533</td>\n",
       "      <td>2010-11-19</td>\n",
       "      <td>Harry Potter and the Deathly Hallows: Part 1</td>\n",
       "      <td>7.7</td>\n",
       "      <td>10788</td>\n",
       "    </tr>\n",
       "    <tr>\n",
       "      <th>1</th>\n",
       "      <td>1</td>\n",
       "      <td>[14, 12, 16, 10751]</td>\n",
       "      <td>10191</td>\n",
       "      <td>en</td>\n",
       "      <td>How to Train Your Dragon</td>\n",
       "      <td>28.734</td>\n",
       "      <td>2010-03-26</td>\n",
       "      <td>How to Train Your Dragon</td>\n",
       "      <td>7.7</td>\n",
       "      <td>7610</td>\n",
       "    </tr>\n",
       "    <tr>\n",
       "      <th>2</th>\n",
       "      <td>2</td>\n",
       "      <td>[12, 28, 878]</td>\n",
       "      <td>10138</td>\n",
       "      <td>en</td>\n",
       "      <td>Iron Man 2</td>\n",
       "      <td>28.515</td>\n",
       "      <td>2010-05-07</td>\n",
       "      <td>Iron Man 2</td>\n",
       "      <td>6.8</td>\n",
       "      <td>12368</td>\n",
       "    </tr>\n",
       "    <tr>\n",
       "      <th>3</th>\n",
       "      <td>3</td>\n",
       "      <td>[16, 35, 10751]</td>\n",
       "      <td>862</td>\n",
       "      <td>en</td>\n",
       "      <td>Toy Story</td>\n",
       "      <td>28.005</td>\n",
       "      <td>1995-11-22</td>\n",
       "      <td>Toy Story</td>\n",
       "      <td>7.9</td>\n",
       "      <td>10174</td>\n",
       "    </tr>\n",
       "    <tr>\n",
       "      <th>4</th>\n",
       "      <td>4</td>\n",
       "      <td>[28, 878, 12]</td>\n",
       "      <td>27205</td>\n",
       "      <td>en</td>\n",
       "      <td>Inception</td>\n",
       "      <td>27.920</td>\n",
       "      <td>2010-07-16</td>\n",
       "      <td>Inception</td>\n",
       "      <td>8.3</td>\n",
       "      <td>22186</td>\n",
       "    </tr>\n",
       "  </tbody>\n",
       "</table>\n",
       "</div>"
      ],
      "text/plain": [
       "   Unnamed: 0            genre_ids     id original_language  \\\n",
       "0           0      [12, 14, 10751]  12444                en   \n",
       "1           1  [14, 12, 16, 10751]  10191                en   \n",
       "2           2        [12, 28, 878]  10138                en   \n",
       "3           3      [16, 35, 10751]    862                en   \n",
       "4           4        [28, 878, 12]  27205                en   \n",
       "\n",
       "                                 original_title  popularity release_date  \\\n",
       "0  Harry Potter and the Deathly Hallows: Part 1      33.533   2010-11-19   \n",
       "1                      How to Train Your Dragon      28.734   2010-03-26   \n",
       "2                                    Iron Man 2      28.515   2010-05-07   \n",
       "3                                     Toy Story      28.005   1995-11-22   \n",
       "4                                     Inception      27.920   2010-07-16   \n",
       "\n",
       "                                          title  vote_average  vote_count  \n",
       "0  Harry Potter and the Deathly Hallows: Part 1           7.7       10788  \n",
       "1                      How to Train Your Dragon           7.7        7610  \n",
       "2                                    Iron Man 2           6.8       12368  \n",
       "3                                     Toy Story           7.9       10174  \n",
       "4                                     Inception           8.3       22186  "
      ]
     },
     "execution_count": 48,
     "metadata": {},
     "output_type": "execute_result"
    }
   ],
   "source": [
    "tmdb_movies.head()"
   ]
  },
  {
   "cell_type": "code",
   "execution_count": 49,
   "metadata": {},
   "outputs": [],
   "source": [
    "#Keeping just the release year instead of the full date\n",
    "tmdb_movies['release_year'] = tmdb_movies['release_date'].str[:4]\n",
    "# drop unnecessary columns\n",
    "tmdb_movies.drop(columns=['Unnamed: 0','original_language','popularity','vote_average','vote_count','release_date'],inplace=True)\n",
    "# Keep just the year inthe release date"
   ]
  },
  {
   "cell_type": "markdown",
   "metadata": {
    "jp-MarkdownHeadingCollapsed": true
   },
   "source": [
    "## Genre unification\n",
    "In this dataframe, the Genre column was identified just as ids. Founding online a dictionary with the corresponding Genre by map.\n",
    "We're able to replace the numbers by the actual genre name.\n",
    "\n",
    "After doing this, we found the same issue that on our IMBD database, having the genres combined instead of separated. Therefore, we create a new set of columns for the genres with binary values if the movie belongs to it"
   ]
  },
  {
   "cell_type": "code",
   "execution_count": 50,
   "metadata": {},
   "outputs": [],
   "source": [
    "genre_mapping = {12: 'Adventure',\n",
    "                 14: 'Fantasy',     \n",
    "                 16: 'Animation',     \n",
    "                 18: 'Drama',     \n",
    "                 27: 'Horror',     \n",
    "                 28: 'Action',     \n",
    "                 35: 'Comedy',     \n",
    "                 36: 'History',     \n",
    "                 37: 'Western',     \n",
    "                 53: 'Thriller',     \n",
    "                 80: 'Crime',     \n",
    "                 99: 'Documentary',     \n",
    "                 9648: 'Mystery',     \n",
    "                 10402: 'Music',     \n",
    "                 10749: 'Romance',     \n",
    "                 10751: 'Family',     \n",
    "                 10752: 'War',     \n",
    "                 10770: 'TV Movie',     \n",
    "                 878: 'Science Fiction'} \n",
    "\n",
    "def map_genre_ids(ids_str):\n",
    "    ids = eval(ids_str)\n",
    "    genres = [genre_mapping.get(id, 'Unknown') for id in ids]\n",
    "    return ','.join(genres)\n",
    "    \n",
    "tmdb_movies['genres'] = tmdb_movies['genre_ids'].apply(map_genre_ids)\n",
    "tmdb_movies.drop(columns='genre_ids',inplace=True)\n",
    "tmdb_movies.loc[tmdb_movies['genres'] == '', 'genres'] = 'Unknown'"
   ]
  },
  {
   "cell_type": "code",
   "execution_count": 51,
   "metadata": {},
   "outputs": [],
   "source": [
    "#We make sure that every row has a value in the genre column.\n",
    "tmdb_movies = tmdb_movies.drop_duplicates(subset=['id'])\n",
    "\n",
    "# Split the 'genres' column into a list of genres and then explode them into separate rows\n",
    "tmdb_movies['genres'] = tmdb_movies['genres'].str.split(',')\n",
    "\n",
    "tmdb_movies = tmdb_movies.explode('genres')\n",
    "\n",
    "# Create binary indicators for each genre\n",
    "for genre in tmdb_movies['genres'].dropna().unique():\n",
    "    tmdb_movies[genre] = tmdb_movies['genres'].str.contains(genre).astype(int)\n",
    "# Drop the original genres column\n",
    "tmdb_movies.drop(columns=['genres'], inplace=True)\n",
    "\n",
    "# Separate what are \"genres column\" from \"non genres column\"\n",
    "non_genre_columns = ['id','original_title','title','release_year']\n",
    "genre_columns = tmdb_movies.columns.difference(non_genre_columns)\n",
    "# Group by 'primary_title' and sum the genre columns\n",
    "genres_consolidated = tmdb_movies.groupby('id', as_index=False)[genre_columns].sum()\n",
    "\n",
    "#Merging all the columns together\n",
    "tmdb_movies = pd.merge(tmdb_movies[non_genre_columns], genres_consolidated, on='id')\n",
    "#Elimintating duplicates based on primary_title\n",
    "tmdb_movies = tmdb_movies.drop_duplicates(subset=['id'])\n",
    "tmdb_movies.reset_index(drop=True, inplace=True)"
   ]
  },
  {
   "cell_type": "markdown",
   "metadata": {
    "jp-MarkdownHeadingCollapsed": true
   },
   "source": [
    "## Movie_budgets"
   ]
  },
  {
   "cell_type": "code",
   "execution_count": 52,
   "metadata": {},
   "outputs": [
    {
     "data": {
      "text/html": [
       "<div>\n",
       "<style scoped>\n",
       "    .dataframe tbody tr th:only-of-type {\n",
       "        vertical-align: middle;\n",
       "    }\n",
       "\n",
       "    .dataframe tbody tr th {\n",
       "        vertical-align: top;\n",
       "    }\n",
       "\n",
       "    .dataframe thead th {\n",
       "        text-align: right;\n",
       "    }\n",
       "</style>\n",
       "<table border=\"1\" class=\"dataframe\">\n",
       "  <thead>\n",
       "    <tr style=\"text-align: right;\">\n",
       "      <th></th>\n",
       "      <th>id</th>\n",
       "      <th>release_date</th>\n",
       "      <th>movie</th>\n",
       "      <th>production_budget</th>\n",
       "      <th>domestic_gross</th>\n",
       "      <th>worldwide_gross</th>\n",
       "      <th>worldwide_gross/production_budget</th>\n",
       "      <th>domestic_gross/production_budget</th>\n",
       "    </tr>\n",
       "  </thead>\n",
       "  <tbody>\n",
       "    <tr>\n",
       "      <th>0</th>\n",
       "      <td>1</td>\n",
       "      <td>Dec 18, 2009</td>\n",
       "      <td>Avatar</td>\n",
       "      <td>425000000</td>\n",
       "      <td>760507625</td>\n",
       "      <td>2776345279</td>\n",
       "      <td>6.532577</td>\n",
       "      <td>1.78943</td>\n",
       "    </tr>\n",
       "  </tbody>\n",
       "</table>\n",
       "</div>"
      ],
      "text/plain": [
       "   id  release_date   movie  production_budget  domestic_gross  \\\n",
       "0   1  Dec 18, 2009  Avatar          425000000       760507625   \n",
       "\n",
       "   worldwide_gross  worldwide_gross/production_budget  \\\n",
       "0       2776345279                           6.532577   \n",
       "\n",
       "   domestic_gross/production_budget  \n",
       "0                           1.78943  "
      ]
     },
     "execution_count": 52,
     "metadata": {},
     "output_type": "execute_result"
    }
   ],
   "source": [
    "#converting columns from string to numeric data types\n",
    "columns_to_convert = ['worldwide_gross', 'production_budget', 'domestic_gross']\n",
    "for col in columns_to_convert:\n",
    "    movie_budgets[col] = pd.to_numeric(movie_budgets[col].str.replace('[$,]', '', regex=True), errors='coerce')\n",
    "#creating a new column for worldwide_gross/production_budget measuring the amount made vs the amount spent\n",
    "movie_budgets['worldwide_gross/production_budget'] = movie_budgets['worldwide_gross']/movie_budgets['production_budget']\n",
    "#doing the same but for domestic gross\n",
    "movie_budgets['domestic_gross/production_budget'] = movie_budgets['domestic_gross']/movie_budgets['production_budget']\n",
    "#checking that it worked\n",
    "movie_budgets.head(1)"
   ]
  },
  {
   "cell_type": "code",
   "execution_count": null,
   "metadata": {},
   "outputs": [],
   "source": []
  },
  {
   "cell_type": "code",
   "execution_count": null,
   "metadata": {},
   "outputs": [],
   "source": []
  },
  {
   "cell_type": "markdown",
   "metadata": {},
   "source": [
    "# Awards Databases\n",
    "\n",
    "Since we're trying to figure out which movies provide the most awards, we got access to a Database of the golge globe Awards from 1944 to 2020.\n",
    "\n",
    "We'll try to explore the data to determine which factors make a movie worth of awards"
   ]
  },
  {
   "cell_type": "markdown",
   "metadata": {},
   "source": [
    "## Golden Globes"
   ]
  },
  {
   "cell_type": "markdown",
   "metadata": {},
   "source": [
    "### Exploring the data"
   ]
  },
  {
   "cell_type": "code",
   "execution_count": 54,
   "metadata": {},
   "outputs": [],
   "source": [
    "#Import the Golden Globe Database\n",
    "golden_globe_awards = pd.read_csv('golden_globe_awards.csv')"
   ]
  },
  {
   "cell_type": "code",
   "execution_count": 55,
   "metadata": {},
   "outputs": [
    {
     "data": {
      "text/html": [
       "<div>\n",
       "<style scoped>\n",
       "    .dataframe tbody tr th:only-of-type {\n",
       "        vertical-align: middle;\n",
       "    }\n",
       "\n",
       "    .dataframe tbody tr th {\n",
       "        vertical-align: top;\n",
       "    }\n",
       "\n",
       "    .dataframe thead th {\n",
       "        text-align: right;\n",
       "    }\n",
       "</style>\n",
       "<table border=\"1\" class=\"dataframe\">\n",
       "  <thead>\n",
       "    <tr style=\"text-align: right;\">\n",
       "      <th></th>\n",
       "      <th>year_film</th>\n",
       "      <th>year_award</th>\n",
       "      <th>ceremony</th>\n",
       "      <th>category</th>\n",
       "      <th>nominee</th>\n",
       "      <th>film</th>\n",
       "      <th>win</th>\n",
       "    </tr>\n",
       "  </thead>\n",
       "  <tbody>\n",
       "    <tr>\n",
       "      <th>0</th>\n",
       "      <td>1943</td>\n",
       "      <td>1944</td>\n",
       "      <td>1</td>\n",
       "      <td>Best Performance by an Actress in a Supporting...</td>\n",
       "      <td>Katina Paxinou</td>\n",
       "      <td>For Whom The Bell Tolls</td>\n",
       "      <td>True</td>\n",
       "    </tr>\n",
       "    <tr>\n",
       "      <th>1</th>\n",
       "      <td>1943</td>\n",
       "      <td>1944</td>\n",
       "      <td>1</td>\n",
       "      <td>Best Performance by an Actor in a Supporting R...</td>\n",
       "      <td>Akim Tamiroff</td>\n",
       "      <td>For Whom The Bell Tolls</td>\n",
       "      <td>True</td>\n",
       "    </tr>\n",
       "    <tr>\n",
       "      <th>2</th>\n",
       "      <td>1943</td>\n",
       "      <td>1944</td>\n",
       "      <td>1</td>\n",
       "      <td>Best Director - Motion Picture</td>\n",
       "      <td>Henry King</td>\n",
       "      <td>The Song Of Bernadette</td>\n",
       "      <td>True</td>\n",
       "    </tr>\n",
       "    <tr>\n",
       "      <th>3</th>\n",
       "      <td>1943</td>\n",
       "      <td>1944</td>\n",
       "      <td>1</td>\n",
       "      <td>Picture</td>\n",
       "      <td>The Song Of Bernadette</td>\n",
       "      <td>NaN</td>\n",
       "      <td>True</td>\n",
       "    </tr>\n",
       "    <tr>\n",
       "      <th>4</th>\n",
       "      <td>1943</td>\n",
       "      <td>1944</td>\n",
       "      <td>1</td>\n",
       "      <td>Actress In A Leading Role</td>\n",
       "      <td>Jennifer Jones</td>\n",
       "      <td>The Song Of Bernadette</td>\n",
       "      <td>True</td>\n",
       "    </tr>\n",
       "  </tbody>\n",
       "</table>\n",
       "</div>"
      ],
      "text/plain": [
       "   year_film  year_award  ceremony  \\\n",
       "0       1943        1944         1   \n",
       "1       1943        1944         1   \n",
       "2       1943        1944         1   \n",
       "3       1943        1944         1   \n",
       "4       1943        1944         1   \n",
       "\n",
       "                                            category                 nominee  \\\n",
       "0  Best Performance by an Actress in a Supporting...          Katina Paxinou   \n",
       "1  Best Performance by an Actor in a Supporting R...           Akim Tamiroff   \n",
       "2                     Best Director - Motion Picture              Henry King   \n",
       "3                                            Picture  The Song Of Bernadette   \n",
       "4                          Actress In A Leading Role          Jennifer Jones   \n",
       "\n",
       "                      film   win  \n",
       "0  For Whom The Bell Tolls  True  \n",
       "1  For Whom The Bell Tolls  True  \n",
       "2   The Song Of Bernadette  True  \n",
       "3                      NaN  True  \n",
       "4   The Song Of Bernadette  True  "
      ]
     },
     "execution_count": 55,
     "metadata": {},
     "output_type": "execute_result"
    }
   ],
   "source": [
    "golden_globe_awards.head()"
   ]
  },
  {
   "cell_type": "code",
   "execution_count": 56,
   "metadata": {},
   "outputs": [
    {
     "name": "stdout",
     "output_type": "stream",
     "text": [
      "<class 'pandas.core.frame.DataFrame'>\n",
      "RangeIndex: 7991 entries, 0 to 7990\n",
      "Data columns (total 7 columns):\n",
      " #   Column      Non-Null Count  Dtype \n",
      "---  ------      --------------  ----- \n",
      " 0   year_film   7991 non-null   int64 \n",
      " 1   year_award  7991 non-null   int64 \n",
      " 2   ceremony    7991 non-null   int64 \n",
      " 3   category    7991 non-null   object\n",
      " 4   nominee     7991 non-null   object\n",
      " 5   film        6191 non-null   object\n",
      " 6   win         7991 non-null   bool  \n",
      "dtypes: bool(1), int64(3), object(3)\n",
      "memory usage: 382.5+ KB\n"
     ]
    }
   ],
   "source": [
    "golden_globe_awards.info()"
   ]
  },
  {
   "cell_type": "code",
   "execution_count": 57,
   "metadata": {},
   "outputs": [],
   "source": [
    "#Keeping only the winners, and dropping unnecessary columns\n",
    "#When the nominee was the movie itself instead of an specific Crew member, the film cell was null.\n",
    "# Having the Name of the film in the 'nominee' column. We replace accordingly\n",
    "golden_globe_awards = golden_globe_awards.loc[golden_globe_awards['win'] == True]\n",
    "golden_globe_awards.drop(columns=['year_award','ceremony','win'],inplace=True)\n",
    "golden_globe_awards['film'] = golden_globe_awards['film'].fillna(golden_globe_awards['nominee'])"
   ]
  },
  {
   "cell_type": "code",
   "execution_count": 58,
   "metadata": {},
   "outputs": [],
   "source": [
    "#Removing awards not related to US movies\n",
    "golden_globe_awards = golden_globe_awards[~golden_globe_awards['category'].str.contains('Television')]\n",
    "golden_globe_awards = golden_globe_awards[~golden_globe_awards['category'].str.contains('Foreign')]"
   ]
  },
  {
   "cell_type": "code",
   "execution_count": 59,
   "metadata": {},
   "outputs": [
    {
     "data": {
      "text/plain": [
       "Best Performance by an Actress in a Supporting Role in any Motion Picture    79\n",
       "Best Performance by an Actor in a Supporting Role in any Motion Picture      77\n",
       "Best Director - Motion Picture                                               77\n",
       "Best Performance by an Actor in a Motion Picture - Drama                     71\n",
       "Best Performance by an Actress in a Motion Picture - Drama                   71\n",
       "Best Performance by an Actor in a Motion Picture - Musical or Comedy         70\n",
       "Best Motion Picture - Drama                                                  69\n",
       "Best Original Score - Motion Picture                                         66\n",
       "Best Screenplay - Motion Picture                                             63\n",
       "Best Motion Picture - Musical or Comedy                                      63\n",
       "New Star Of The Year - Actress                                               60\n",
       "Henrietta Award (World Film Favorites)                                       59\n",
       "Best Original Song - Motion Picture                                          58\n",
       "New Star Of The Year - Actor                                                 57\n",
       "Best Performance by an Actress in a Motion Picture - Musical or Comedy       50\n",
       "Actress In A Leading Role - Musical Or Comedy                                23\n",
       "Promoting International Understanding                                        18\n",
       "Best Motion Picture - Animated                                               14\n",
       "Picture                                                                       9\n",
       "Actor In A Leading Role                                                       7\n",
       "Documentary                                                                   7\n",
       "Actress In A Leading Role                                                     7\n",
       "Samuel Goldwyn International Award                                            6\n",
       "Cinematography - Color                                                        5\n",
       "Cinematography - Black And White                                              5\n",
       "Picture - Musical                                                             5\n",
       "Picture - Comedy                                                              5\n",
       "Juvenile Performance                                                          4\n",
       "Cinematography                                                                3\n",
       "Henrietta Award (World Film Favorite)                                         2\n",
       "Hollywood Citizenship Award                                                   2\n",
       "New Star Of The Year                                                          2\n",
       "Outstanding Use Of Color                                                      1\n",
       "International News Coverage                                                   1\n",
       "Name: category, dtype: int64"
      ]
     },
     "execution_count": 59,
     "metadata": {},
     "output_type": "execute_result"
    }
   ],
   "source": [
    "golden_globe_awards['category'].value_counts()"
   ]
  },
  {
   "cell_type": "code",
   "execution_count": 60,
   "metadata": {},
   "outputs": [],
   "source": [
    "#Unifying categories to keep just the ones that include Crew's individual work, production type or the movie as a whole\n",
    "def cat_cleaner(char, cat):\n",
    "    for i in char:\n",
    "       golden_globe_awards.loc[golden_globe_awards['category'].str.contains(i,case=False), 'category'] = cat\n",
    "\n",
    "crew_member = ['actress','actor','director','new star']\n",
    "production = ['cinematography','screenplay','song','use of color']\n",
    "cat_cleaner(crew_member, 'Crew member')\n",
    "cat_cleaner(production, 'Production')\n",
    "golden_globe_awards.loc[((golden_globe_awards['category'] != 'Crew member') & (golden_globe_awards['category'] != 'Production')), 'category'] = 'Overall Movie' "
   ]
  },
  {
   "cell_type": "code",
   "execution_count": 61,
   "metadata": {},
   "outputs": [
    {
     "data": {
      "text/plain": [
       "Crew member      651\n",
       "Overall Movie    330\n",
       "Production       135\n",
       "Name: category, dtype: int64"
      ]
     },
     "execution_count": 61,
     "metadata": {},
     "output_type": "execute_result"
    }
   ],
   "source": [
    "golden_globe_awards['category'].value_counts()"
   ]
  },
  {
   "cell_type": "code",
   "execution_count": 62,
   "metadata": {},
   "outputs": [
    {
     "data": {
      "text/html": [
       "<div>\n",
       "<style scoped>\n",
       "    .dataframe tbody tr th:only-of-type {\n",
       "        vertical-align: middle;\n",
       "    }\n",
       "\n",
       "    .dataframe tbody tr th {\n",
       "        vertical-align: top;\n",
       "    }\n",
       "\n",
       "    .dataframe thead th {\n",
       "        text-align: right;\n",
       "    }\n",
       "</style>\n",
       "<table border=\"1\" class=\"dataframe\">\n",
       "  <thead>\n",
       "    <tr style=\"text-align: right;\">\n",
       "      <th></th>\n",
       "      <th>year_film</th>\n",
       "      <th>category</th>\n",
       "      <th>nominee</th>\n",
       "      <th>film</th>\n",
       "    </tr>\n",
       "  </thead>\n",
       "  <tbody>\n",
       "    <tr>\n",
       "      <th>0</th>\n",
       "      <td>1943</td>\n",
       "      <td>Crew member</td>\n",
       "      <td>Katina Paxinou</td>\n",
       "      <td>For Whom The Bell Tolls</td>\n",
       "    </tr>\n",
       "    <tr>\n",
       "      <th>1</th>\n",
       "      <td>1943</td>\n",
       "      <td>Crew member</td>\n",
       "      <td>Akim Tamiroff</td>\n",
       "      <td>For Whom The Bell Tolls</td>\n",
       "    </tr>\n",
       "    <tr>\n",
       "      <th>2</th>\n",
       "      <td>1943</td>\n",
       "      <td>Crew member</td>\n",
       "      <td>Henry King</td>\n",
       "      <td>The Song Of Bernadette</td>\n",
       "    </tr>\n",
       "    <tr>\n",
       "      <th>3</th>\n",
       "      <td>1943</td>\n",
       "      <td>Overall Movie</td>\n",
       "      <td>The Song Of Bernadette</td>\n",
       "      <td>The Song Of Bernadette</td>\n",
       "    </tr>\n",
       "    <tr>\n",
       "      <th>4</th>\n",
       "      <td>1943</td>\n",
       "      <td>Crew member</td>\n",
       "      <td>Jennifer Jones</td>\n",
       "      <td>The Song Of Bernadette</td>\n",
       "    </tr>\n",
       "  </tbody>\n",
       "</table>\n",
       "</div>"
      ],
      "text/plain": [
       "   year_film       category                 nominee                     film\n",
       "0       1943    Crew member          Katina Paxinou  For Whom The Bell Tolls\n",
       "1       1943    Crew member           Akim Tamiroff  For Whom The Bell Tolls\n",
       "2       1943    Crew member              Henry King   The Song Of Bernadette\n",
       "3       1943  Overall Movie  The Song Of Bernadette   The Song Of Bernadette\n",
       "4       1943    Crew member          Jennifer Jones   The Song Of Bernadette"
      ]
     },
     "execution_count": 62,
     "metadata": {},
     "output_type": "execute_result"
    }
   ],
   "source": [
    "golden_globe_awards.head()"
   ]
  },
  {
   "cell_type": "code",
   "execution_count": 63,
   "metadata": {},
   "outputs": [],
   "source": [
    "yearly = golden_globe_awards.groupby('year_film').count()"
   ]
  },
  {
   "cell_type": "code",
   "execution_count": 64,
   "metadata": {},
   "outputs": [
    {
     "data": {
      "image/png": "[encoded data removed]",
      "text/plain": [
       "<Figure size 640x480 with 1 Axes>"
      ]
     },
     "metadata": {},
     "output_type": "display_data"
    }
   ],
   "source": [
    "sns.set_style('darkgrid')\n",
    "sns.lineplot(x = yearly.index, y = yearly['category'])\n",
    "plt.title('Golden Globe Awards Per Year')\n",
    "plt.xlabel('Year')\n",
    "plt.ylabel('Number of Awards Granted');"
   ]
  },
  {
   "cell_type": "code",
   "execution_count": 65,
   "metadata": {},
   "outputs": [
    {
     "data": {
      "image/png": "[encoded data removed]",
      "text/plain": [
       "<Figure size 640x480 with 1 Axes>"
      ]
     },
     "metadata": {},
     "output_type": "display_data"
    }
   ],
   "source": [
    "golden_glob_categories = golden_globe_awards['category'].value_counts(normalize=True)\n",
    "sns.barplot(x = golden_glob_categories.index, y = golden_glob_categories)\n",
    "plt.title('Awards per Category')\n",
    "plt.xlabel('Category of the Award')\n",
    "plt.ylabel('% Of Awards');"
   ]
  },
  {
   "cell_type": "markdown",
   "metadata": {},
   "source": [
    "## Creating Pivot tables Grouping nominees and films for the Golden Globes"
   ]
  },
  {
   "cell_type": "code",
   "execution_count": 66,
   "metadata": {},
   "outputs": [],
   "source": [
    "\n",
    "golden_globe_by_film = golden_globe_awards.groupby('film').agg({'year_film': 'first', 'category': 'count'}).reset_index()\n",
    "golden_globe_by_film.columns = ['Name', 'Year', 'Number Of Awards']\n",
    "\n",
    "golden_globe_by_nominee = golden_globe_awards.groupby('nominee').agg({'year_film': 'first', 'category': 'count'}).reset_index()\n",
    "golden_globe_by_nominee.columns = ['Nominee', 'Year', 'Number Of Awards']"
   ]
  },
  {
   "cell_type": "code",
   "execution_count": null,
   "metadata": {},
   "outputs": [],
   "source": [
    "# Remove spaces from movie names and convert to lowercase for easier matching\n",
    "golden_globe_by_film['Name_formatted'] = golden_globe_by_film['Name'].str.replace(' ', '').str.lower()\n",
    "imdb['primary_title_cleaned'] = imdb['primary_title'].str.replace(' ', '').str.lower()"
   ]
  },
  {
   "cell_type": "code",
   "execution_count": null,
   "metadata": {},
   "outputs": [],
   "source": [
    "# Start the timer\n",
    "start_time = time.time()\n",
    "\n",
    "\n",
    "# Initialize an empty list to store pairs\n",
    "pairs = []\n",
    "\n",
    "# Set a similarity score threshold (adjust as needed)\n",
    "threshold = 90\n",
    "\n",
    "# Perform fuzzy matching and create pairs\n",
    "for name1 in golden_globe_by_film['Name_formatted']:\n",
    "    for name2 in imdb['primary_title_cleaned']:\n",
    "        similarity_score = fuzz.ratio(name1, name2)\n",
    "        if similarity_score >= threshold:\n",
    "            pairs.append((name1, name2, similarity_score))\n",
    "            \n",
    "\n",
    "\n",
    "# End the timer\n",
    "end_time = time.time()\n",
    "\n",
    "# Calculate the elapsed time\n",
    "elapsed_time = end_time - start_time\n",
    "\n",
    "print(f\"Elapsed time: {elapsed_time} seconds\")\n"
   ]
  },
  {
   "cell_type": "code",
   "execution_count": null,
   "metadata": {},
   "outputs": [],
   "source": [
    "# Create a DataFrame from the list of matching pairs\n",
    "pairs_GG_by_film = pd.DataFrame(pairs, columns=[ 'Golden_Globe_name','imdb_name', 'similarity_score'])"
   ]
  },
  {
   "cell_type": "code",
   "execution_count": null,
   "metadata": {},
   "outputs": [],
   "source": [
    "# Merge the two datasets based on the similarity score threshold\n",
    "pairs_GG_by_film = pd.merge(imdb, pairs_GG_by_film, left_on='primary_title_cleaned', right_on='imdb_name', how='inner')\n",
    "merged_data_GG_by_film = pd.merge(pairs_GG_by_film, golden_globe_by_film, left_on='Golden_Globe_name', right_on='Name_formatted', how='inner')\n",
    "merged_data_GG_by_film.head()"
   ]
  },
  {
   "cell_type": "code",
   "execution_count": null,
   "metadata": {},
   "outputs": [],
   "source": [
    "#creating a new column called year_difference, which will be used for cleaning mismatches that had high similarity scores\n",
    "merged_data_GG_by_film['year_difference'] = abs(merged_data_GG_by_film['start_year'] - merged_data_GG_by_film['Year'])\n",
    "merged_data_GG_by_film = merged_data_GG_by_film[merged_data_GG_by_film['year_difference'] < 2]\n",
    "\n",
    "merged_data_GG_by_film.head()"
   ]
  },
  {
   "cell_type": "code",
   "execution_count": null,
   "metadata": {},
   "outputs": [],
   "source": [
    "\n",
    "# Remove characters and convert to lowercase using chaining methods\n",
    "golden_globe_by_nominee['Nominee_formatted'] = (\n",
    "    golden_globe_by_nominee['Nominee']\n",
    "    .str.replace(',', '')\n",
    "    .str.replace(' ', '')\n",
    "    .str.replace('\"', '')\n",
    "    .str.lower()\n",
    ")\n",
    "\n",
    "# Remove characters and convert to lowercase using chaining methods\n",
    "imdb['primary_title_cleaned'] = (\n",
    "    imdb['primary_title']\n",
    "    .str.replace(',', '')\n",
    "    .str.replace(' ', '')\n",
    "    .str.replace('\"', '')\n",
    "    .str.lower()\n",
    ")\n",
    "\n",
    "#sanity check\n",
    "golden_globe_by_nominee.head()"
   ]
  },
  {
   "cell_type": "code",
   "execution_count": null,
   "metadata": {},
   "outputs": [],
   "source": [
    "# Start the timer\n",
    "start_time = time.time()\n",
    "\n",
    "\n",
    "# Initialize an empty list to store pairs\n",
    "pairs2 = []\n",
    "\n",
    "# Set a similarity score threshold (adjust as needed)\n",
    "threshold = 90\n",
    "\n",
    "# Perform fuzzy matching and create pairs\n",
    "for name1 in golden_globe_by_nominee['Nominee_formatted']:\n",
    "    for name2 in imdb['primary_title_cleaned']:\n",
    "        similarity_score = fuzz.ratio(name1, name2)\n",
    "        if similarity_score >= threshold:\n",
    "            pairs2.append((name1, name2, similarity_score))\n",
    "            \n",
    "\n",
    "\n",
    "# End the timer\n",
    "end_time = time.time()\n",
    "\n",
    "# Calculate the elapsed time\n",
    "elapsed_time = end_time - start_time\n",
    "\n",
    "print(f\"Elapsed time: {elapsed_time} seconds\")\n"
   ]
  },
  {
   "cell_type": "code",
   "execution_count": null,
   "metadata": {},
   "outputs": [],
   "source": [
    "# Create a DataFrame from the list of matching pairs\n",
    "pairs_GG_by_nominee = pd.DataFrame(pairs2, columns=[ 'Golden_Globe_nominee','imdb_name', 'similarity_score'])\n",
    "pairs_GG_by_nominee.head()"
   ]
  },
  {
   "cell_type": "code",
   "execution_count": null,
   "metadata": {},
   "outputs": [],
   "source": [
    "# Merge the two datasets based on the similarity score threshold\n",
    "pairs_GG_by_nominee = pd.merge(imdb, pairs_GG_by_nominee, left_on='primary_title_cleaned', right_on='imdb_name', how='inner')\n",
    "merged_data_GG_by_nominee = pd.merge(pairs_GG_by_nominee, golden_globe_by_nominee, left_on='Golden_Globe_nominee', right_on='Nominee_formatted', how='inner')\n",
    "\n",
    "merged_data_GG_by_nominee.head()"
   ]
  },
  {
   "cell_type": "code",
   "execution_count": null,
   "metadata": {},
   "outputs": [],
   "source": [
    "#creating a new column called year_difference, which will be used for cleaning mismatches that had high similarity scores\n",
    "merged_data_GG_by_nominee['year_difference'] = abs(merged_data_GG_by_nominee['start_year'] - merged_data_GG_by_nominee['Year'])\n",
    "merged_data_GG_by_nominee = merged_data_GG_by_nominee[merged_data_GG_by_nominee['year_difference'] < 2]\n",
    "\n",
    "merged_data_GG_by_nominee.head()"
   ]
  },
  {
   "cell_type": "code",
   "execution_count": null,
   "metadata": {},
   "outputs": [],
   "source": [
    "# Concatenate the dfs\n",
    "Golden_Globes_Winners = pd.concat([merged_data_GG_by_film, merged_data_GG_by_nominee], axis=0)\n",
    "#reset the index\n",
    "Golden_Globes_Winners.reset_index(drop=True, inplace=True)\n",
    "\n",
    "Golden_Globes_Winners"
   ]
  },
  {
   "cell_type": "code",
   "execution_count": null,
   "metadata": {},
   "outputs": [],
   "source": [
    "Golden_Globes_Winners.drop(\n",
    "    ['start_year',\n",
    "     'primary_title_cleaned',\n",
    "     'year_difference',\n",
    "     'Nominee_formatted',\n",
    "     'Name_formatted',\n",
    "     'Name',\n",
    "     'death_year',\n",
    "     'original_title',\n",
    "     'Golden_Globe_nominee',\n",
    "     'imdb_name',\n",
    "     'similarity_score',\n",
    "     'Nominee',\n",
    "     'Golden_Globe_name'\n",
    "     ], axis=1, inplace=True)"
   ]
  },
  {
   "cell_type": "code",
   "execution_count": null,
   "metadata": {},
   "outputs": [],
   "source": [
    "Golden_Globes_Winners.drop_duplicates(inplace=True)"
   ]
  },
  {
   "cell_type": "code",
   "execution_count": null,
   "metadata": {},
   "outputs": [],
   "source": [
    "Golden_Globes_Winners"
   ]
  },
  {
   "cell_type": "markdown",
   "metadata": {},
   "source": [
    "## Academy Awards"
   ]
  },
  {
   "cell_type": "code",
   "execution_count": 67,
   "metadata": {},
   "outputs": [
    {
     "data": {
      "text/html": [
       "<div>\n",
       "<style scoped>\n",
       "    .dataframe tbody tr th:only-of-type {\n",
       "        vertical-align: middle;\n",
       "    }\n",
       "\n",
       "    .dataframe tbody tr th {\n",
       "        vertical-align: top;\n",
       "    }\n",
       "\n",
       "    .dataframe thead th {\n",
       "        text-align: right;\n",
       "    }\n",
       "</style>\n",
       "<table border=\"1\" class=\"dataframe\">\n",
       "  <thead>\n",
       "    <tr style=\"text-align: right;\">\n",
       "      <th></th>\n",
       "      <th>Year</th>\n",
       "      <th>Ceremony</th>\n",
       "      <th>Award</th>\n",
       "      <th>Winner</th>\n",
       "      <th>Name</th>\n",
       "      <th>Film</th>\n",
       "    </tr>\n",
       "  </thead>\n",
       "  <tbody>\n",
       "    <tr>\n",
       "      <th>0</th>\n",
       "      <td>1927/1928</td>\n",
       "      <td>1</td>\n",
       "      <td>Actor</td>\n",
       "      <td>NaN</td>\n",
       "      <td>Richard Barthelmess</td>\n",
       "      <td>The Noose</td>\n",
       "    </tr>\n",
       "    <tr>\n",
       "      <th>1</th>\n",
       "      <td>1927/1928</td>\n",
       "      <td>1</td>\n",
       "      <td>Actor</td>\n",
       "      <td>1.0</td>\n",
       "      <td>Emil Jannings</td>\n",
       "      <td>The Last Command</td>\n",
       "    </tr>\n",
       "    <tr>\n",
       "      <th>2</th>\n",
       "      <td>1927/1928</td>\n",
       "      <td>1</td>\n",
       "      <td>Actress</td>\n",
       "      <td>NaN</td>\n",
       "      <td>Louise Dresser</td>\n",
       "      <td>A Ship Comes In</td>\n",
       "    </tr>\n",
       "    <tr>\n",
       "      <th>3</th>\n",
       "      <td>1927/1928</td>\n",
       "      <td>1</td>\n",
       "      <td>Actress</td>\n",
       "      <td>1.0</td>\n",
       "      <td>Janet Gaynor</td>\n",
       "      <td>7th Heaven</td>\n",
       "    </tr>\n",
       "    <tr>\n",
       "      <th>4</th>\n",
       "      <td>1927/1928</td>\n",
       "      <td>1</td>\n",
       "      <td>Actress</td>\n",
       "      <td>NaN</td>\n",
       "      <td>Gloria Swanson</td>\n",
       "      <td>Sadie Thompson</td>\n",
       "    </tr>\n",
       "  </tbody>\n",
       "</table>\n",
       "</div>"
      ],
      "text/plain": [
       "        Year  Ceremony    Award  Winner                 Name              Film\n",
       "0  1927/1928         1    Actor     NaN  Richard Barthelmess         The Noose\n",
       "1  1927/1928         1    Actor     1.0        Emil Jannings  The Last Command\n",
       "2  1927/1928         1  Actress     NaN       Louise Dresser   A Ship Comes In\n",
       "3  1927/1928         1  Actress     1.0         Janet Gaynor        7th Heaven\n",
       "4  1927/1928         1  Actress     NaN       Gloria Swanson    Sadie Thompson"
      ]
     },
     "execution_count": 67,
     "metadata": {},
     "output_type": "execute_result"
    }
   ],
   "source": [
    "academy_awards = pd.read_csv('academy_awards.csv')\n",
    "academy_awards.head()"
   ]
  },
  {
   "cell_type": "code",
   "execution_count": 68,
   "metadata": {},
   "outputs": [
    {
     "name": "stdout",
     "output_type": "stream",
     "text": [
      "<class 'pandas.core.frame.DataFrame'>\n",
      "RangeIndex: 9964 entries, 0 to 9963\n",
      "Data columns (total 6 columns):\n",
      " #   Column    Non-Null Count  Dtype  \n",
      "---  ------    --------------  -----  \n",
      " 0   Year      9964 non-null   object \n",
      " 1   Ceremony  9964 non-null   int64  \n",
      " 2   Award     9964 non-null   object \n",
      " 3   Winner    2321 non-null   float64\n",
      " 4   Name      9964 non-null   object \n",
      " 5   Film      9631 non-null   object \n",
      "dtypes: float64(1), int64(1), object(4)\n",
      "memory usage: 467.2+ KB\n"
     ]
    }
   ],
   "source": [
    "academy_awards.info()"
   ]
  },
  {
   "cell_type": "code",
   "execution_count": 69,
   "metadata": {},
   "outputs": [
    {
     "data": {
      "text/html": [
       "<div>\n",
       "<style scoped>\n",
       "    .dataframe tbody tr th:only-of-type {\n",
       "        vertical-align: middle;\n",
       "    }\n",
       "\n",
       "    .dataframe tbody tr th {\n",
       "        vertical-align: top;\n",
       "    }\n",
       "\n",
       "    .dataframe thead th {\n",
       "        text-align: right;\n",
       "    }\n",
       "</style>\n",
       "<table border=\"1\" class=\"dataframe\">\n",
       "  <thead>\n",
       "    <tr style=\"text-align: right;\">\n",
       "      <th></th>\n",
       "      <th>Year</th>\n",
       "      <th>Ceremony</th>\n",
       "      <th>Award</th>\n",
       "      <th>Winner</th>\n",
       "      <th>Name</th>\n",
       "      <th>Film</th>\n",
       "    </tr>\n",
       "  </thead>\n",
       "  <tbody>\n",
       "    <tr>\n",
       "      <th>count</th>\n",
       "      <td>9964</td>\n",
       "      <td>9964.000000</td>\n",
       "      <td>9964</td>\n",
       "      <td>2321.0</td>\n",
       "      <td>9964</td>\n",
       "      <td>9631</td>\n",
       "    </tr>\n",
       "    <tr>\n",
       "      <th>unique</th>\n",
       "      <td>88</td>\n",
       "      <td>NaN</td>\n",
       "      <td>114</td>\n",
       "      <td>NaN</td>\n",
       "      <td>5747</td>\n",
       "      <td>6363</td>\n",
       "    </tr>\n",
       "    <tr>\n",
       "      <th>top</th>\n",
       "      <td>1942</td>\n",
       "      <td>NaN</td>\n",
       "      <td>Directing</td>\n",
       "      <td>NaN</td>\n",
       "      <td>Meryl Streep</td>\n",
       "      <td>Metro-Goldwyn-Mayer</td>\n",
       "    </tr>\n",
       "    <tr>\n",
       "      <th>freq</th>\n",
       "      <td>186</td>\n",
       "      <td>NaN</td>\n",
       "      <td>429</td>\n",
       "      <td>NaN</td>\n",
       "      <td>19</td>\n",
       "      <td>60</td>\n",
       "    </tr>\n",
       "    <tr>\n",
       "      <th>mean</th>\n",
       "      <td>NaN</td>\n",
       "      <td>45.471798</td>\n",
       "      <td>NaN</td>\n",
       "      <td>1.0</td>\n",
       "      <td>NaN</td>\n",
       "      <td>NaN</td>\n",
       "    </tr>\n",
       "    <tr>\n",
       "      <th>std</th>\n",
       "      <td>NaN</td>\n",
       "      <td>24.841392</td>\n",
       "      <td>NaN</td>\n",
       "      <td>0.0</td>\n",
       "      <td>NaN</td>\n",
       "      <td>NaN</td>\n",
       "    </tr>\n",
       "    <tr>\n",
       "      <th>min</th>\n",
       "      <td>NaN</td>\n",
       "      <td>1.000000</td>\n",
       "      <td>NaN</td>\n",
       "      <td>1.0</td>\n",
       "      <td>NaN</td>\n",
       "      <td>NaN</td>\n",
       "    </tr>\n",
       "    <tr>\n",
       "      <th>25%</th>\n",
       "      <td>NaN</td>\n",
       "      <td>23.000000</td>\n",
       "      <td>NaN</td>\n",
       "      <td>1.0</td>\n",
       "      <td>NaN</td>\n",
       "      <td>NaN</td>\n",
       "    </tr>\n",
       "    <tr>\n",
       "      <th>50%</th>\n",
       "      <td>NaN</td>\n",
       "      <td>44.000000</td>\n",
       "      <td>NaN</td>\n",
       "      <td>1.0</td>\n",
       "      <td>NaN</td>\n",
       "      <td>NaN</td>\n",
       "    </tr>\n",
       "    <tr>\n",
       "      <th>75%</th>\n",
       "      <td>NaN</td>\n",
       "      <td>68.000000</td>\n",
       "      <td>NaN</td>\n",
       "      <td>1.0</td>\n",
       "      <td>NaN</td>\n",
       "      <td>NaN</td>\n",
       "    </tr>\n",
       "    <tr>\n",
       "      <th>max</th>\n",
       "      <td>NaN</td>\n",
       "      <td>88.000000</td>\n",
       "      <td>NaN</td>\n",
       "      <td>1.0</td>\n",
       "      <td>NaN</td>\n",
       "      <td>NaN</td>\n",
       "    </tr>\n",
       "  </tbody>\n",
       "</table>\n",
       "</div>"
      ],
      "text/plain": [
       "        Year     Ceremony      Award  Winner          Name  \\\n",
       "count   9964  9964.000000       9964  2321.0          9964   \n",
       "unique    88          NaN        114     NaN          5747   \n",
       "top     1942          NaN  Directing     NaN  Meryl Streep   \n",
       "freq     186          NaN        429     NaN            19   \n",
       "mean     NaN    45.471798        NaN     1.0           NaN   \n",
       "std      NaN    24.841392        NaN     0.0           NaN   \n",
       "min      NaN     1.000000        NaN     1.0           NaN   \n",
       "25%      NaN    23.000000        NaN     1.0           NaN   \n",
       "50%      NaN    44.000000        NaN     1.0           NaN   \n",
       "75%      NaN    68.000000        NaN     1.0           NaN   \n",
       "max      NaN    88.000000        NaN     1.0           NaN   \n",
       "\n",
       "                       Film  \n",
       "count                  9631  \n",
       "unique                 6363  \n",
       "top     Metro-Goldwyn-Mayer  \n",
       "freq                     60  \n",
       "mean                    NaN  \n",
       "std                     NaN  \n",
       "min                     NaN  \n",
       "25%                     NaN  \n",
       "50%                     NaN  \n",
       "75%                     NaN  \n",
       "max                     NaN  "
      ]
     },
     "execution_count": 69,
     "metadata": {},
     "output_type": "execute_result"
    }
   ],
   "source": [
    "academy_awards.describe(include='all')"
   ]
  },
  {
   "cell_type": "markdown",
   "metadata": {},
   "source": [
    "## Conditional switching"
   ]
  },
  {
   "cell_type": "code",
   "execution_count": 70,
   "metadata": {},
   "outputs": [],
   "source": [
    "condition = ((academy_awards['Year'] == '1929/1930') & ((academy_awards['Award'] == 'Art Direction')\\\n",
    "         | (academy_awards['Award'] == 'Cinematography') | (academy_awards['Award'] == 'Outstanding Production')\\\n",
    "         | (academy_awards['Award'] == 'Sound Recording') | (academy_awards['Award'] == 'Writing')))\n",
    "temp = academy_awards.loc[condition, 'Film'].copy()\n",
    "academy_awards.loc[condition, 'Film'] = academy_awards.loc[condition, 'Name']\n",
    "academy_awards.loc[condition, 'Name'] = temp"
   ]
  },
  {
   "cell_type": "code",
   "execution_count": 71,
   "metadata": {},
   "outputs": [],
   "source": [
    "awards_switched = [\n",
    "    'Writing (Adaptation)','Writing (Screenplay, Adapted)','Writing (Screenplay Adapted from Other Material)',\n",
    "    'Writing (Screenplay Based on Material Previously Produced or Published)',\n",
    "    'Writing (Screenplay Based on Material from Another Medium)',\n",
    "    'Writing (Screenplay, Based on Material from Another Medium)', 'Animated Feature Film',\n",
    "    'Writing (Original Screenplay)','Cinematography','Directing','Sound Mixing','Writing (Adapted Screenplay)','Documentary (Feature)',\n",
    "    'Sound Editing','Costume Design','Visual Effects','Documentary (Short Subject)','Film Editing','Foreign Language Film',\n",
    "    'Makeup and Hairstyling','Music (Original Score)','Best Picture','Production Design','Short Film (Animated)',\n",
    "    'Short Film (Live Action)','Writing (Screenplay)'\n",
    "]\n",
    "\n",
    "condition2 = (academy_awards['Award'].isin(awards_switched)) & (academy_awards['Year'] != '1927/1928')\n",
    "temp = academy_awards.loc[condition2, 'Film'].copy()\n",
    "academy_awards.loc[condition2, 'Film'] = academy_awards.loc[condition2, 'Name']\n",
    "academy_awards.loc[condition2, 'Name'] = temp"
   ]
  },
  {
   "cell_type": "code",
   "execution_count": 72,
   "metadata": {},
   "outputs": [],
   "source": [
    "#academy_awards.loc[(academy_awards['Award'] != 'Actor in a Leading Role') & (academy_awards['Award'] != 'Actor in a Supporting Role') & (academy_awards['Award'] != 'Actress in a Leading Role') & (academy_awards['Award'] != 'Actress in a Supporting Role') & (academy_awards['Award'] != 'Animated Feature Film') & (academy_awards['Award'] != 'Writing (Original Screenplay)') & (academy_awards['Award'] != 'Writing (Adapted Screenplay)') & (academy_awards['Award'] != 'Writing (Screenplay)') & (academy_awards['Award'] != 'Cinematography') & (academy_awards['Award'] != 'Jean Hersholt Humanitarian Award') & (academy_awards['Award'] != 'Honorary Award') & (academy_awards['Award'] != 'Costume Design') & (academy_awards['Award'] != 'Visual Effects') & (academy_awards['Award'] != 'Directing') & (academy_awards['Award'] != 'Sound Mixing') & (academy_awards['Award'] != 'Documentary (Feature)') & (academy_awards['Award'] != 'Sound Editing')]#['Award']#.value_counts()"
   ]
  },
  {
   "cell_type": "code",
   "execution_count": 73,
   "metadata": {},
   "outputs": [
    {
     "data": {
      "text/html": [
       "<div>\n",
       "<style scoped>\n",
       "    .dataframe tbody tr th:only-of-type {\n",
       "        vertical-align: middle;\n",
       "    }\n",
       "\n",
       "    .dataframe tbody tr th {\n",
       "        vertical-align: top;\n",
       "    }\n",
       "\n",
       "    .dataframe thead th {\n",
       "        text-align: right;\n",
       "    }\n",
       "</style>\n",
       "<table border=\"1\" class=\"dataframe\">\n",
       "  <thead>\n",
       "    <tr style=\"text-align: right;\">\n",
       "      <th></th>\n",
       "      <th>Year</th>\n",
       "      <th>Ceremony</th>\n",
       "      <th>Award</th>\n",
       "      <th>Winner</th>\n",
       "      <th>Name</th>\n",
       "      <th>Film</th>\n",
       "    </tr>\n",
       "  </thead>\n",
       "  <tbody>\n",
       "    <tr>\n",
       "      <th>0</th>\n",
       "      <td>1927/1928</td>\n",
       "      <td>1</td>\n",
       "      <td>Actor</td>\n",
       "      <td>NaN</td>\n",
       "      <td>Richard Barthelmess</td>\n",
       "      <td>The Noose</td>\n",
       "    </tr>\n",
       "    <tr>\n",
       "      <th>1</th>\n",
       "      <td>1927/1928</td>\n",
       "      <td>1</td>\n",
       "      <td>Actor</td>\n",
       "      <td>1.0</td>\n",
       "      <td>Emil Jannings</td>\n",
       "      <td>The Last Command</td>\n",
       "    </tr>\n",
       "    <tr>\n",
       "      <th>2</th>\n",
       "      <td>1927/1928</td>\n",
       "      <td>1</td>\n",
       "      <td>Actress</td>\n",
       "      <td>NaN</td>\n",
       "      <td>Louise Dresser</td>\n",
       "      <td>A Ship Comes In</td>\n",
       "    </tr>\n",
       "    <tr>\n",
       "      <th>3</th>\n",
       "      <td>1927/1928</td>\n",
       "      <td>1</td>\n",
       "      <td>Actress</td>\n",
       "      <td>1.0</td>\n",
       "      <td>Janet Gaynor</td>\n",
       "      <td>7th Heaven</td>\n",
       "    </tr>\n",
       "    <tr>\n",
       "      <th>4</th>\n",
       "      <td>1927/1928</td>\n",
       "      <td>1</td>\n",
       "      <td>Actress</td>\n",
       "      <td>NaN</td>\n",
       "      <td>Gloria Swanson</td>\n",
       "      <td>Sadie Thompson</td>\n",
       "    </tr>\n",
       "    <tr>\n",
       "      <th>...</th>\n",
       "      <td>...</td>\n",
       "      <td>...</td>\n",
       "      <td>...</td>\n",
       "      <td>...</td>\n",
       "      <td>...</td>\n",
       "      <td>...</td>\n",
       "    </tr>\n",
       "    <tr>\n",
       "      <th>9959</th>\n",
       "      <td>2015</td>\n",
       "      <td>88</td>\n",
       "      <td>Writing (Original Screenplay)</td>\n",
       "      <td>1.0</td>\n",
       "      <td>Written by Josh Singer &amp; Tom McCarthy</td>\n",
       "      <td>Spotlight</td>\n",
       "    </tr>\n",
       "    <tr>\n",
       "      <th>9960</th>\n",
       "      <td>2015</td>\n",
       "      <td>88</td>\n",
       "      <td>Writing (Original Screenplay)</td>\n",
       "      <td>NaN</td>\n",
       "      <td>Screenplay by Jonathan Herman and Andrea Berlo...</td>\n",
       "      <td>Straight Outta Compton</td>\n",
       "    </tr>\n",
       "    <tr>\n",
       "      <th>9961</th>\n",
       "      <td>2015</td>\n",
       "      <td>88</td>\n",
       "      <td>Jean Hersholt Humanitarian Award</td>\n",
       "      <td>1.0</td>\n",
       "      <td>Debbie Reynolds</td>\n",
       "      <td>NaN</td>\n",
       "    </tr>\n",
       "    <tr>\n",
       "      <th>9962</th>\n",
       "      <td>2015</td>\n",
       "      <td>88</td>\n",
       "      <td>Honorary Award</td>\n",
       "      <td>1.0</td>\n",
       "      <td>Spike Lee</td>\n",
       "      <td>NaN</td>\n",
       "    </tr>\n",
       "    <tr>\n",
       "      <th>9963</th>\n",
       "      <td>2015</td>\n",
       "      <td>88</td>\n",
       "      <td>Honorary Award</td>\n",
       "      <td>1.0</td>\n",
       "      <td>Gena Rowlands</td>\n",
       "      <td>NaN</td>\n",
       "    </tr>\n",
       "  </tbody>\n",
       "</table>\n",
       "<p>9964 rows × 6 columns</p>\n",
       "</div>"
      ],
      "text/plain": [
       "           Year  Ceremony                             Award  Winner  \\\n",
       "0     1927/1928         1                             Actor     NaN   \n",
       "1     1927/1928         1                             Actor     1.0   \n",
       "2     1927/1928         1                           Actress     NaN   \n",
       "3     1927/1928         1                           Actress     1.0   \n",
       "4     1927/1928         1                           Actress     NaN   \n",
       "...         ...       ...                               ...     ...   \n",
       "9959       2015        88     Writing (Original Screenplay)     1.0   \n",
       "9960       2015        88     Writing (Original Screenplay)     NaN   \n",
       "9961       2015        88  Jean Hersholt Humanitarian Award     1.0   \n",
       "9962       2015        88                    Honorary Award     1.0   \n",
       "9963       2015        88                    Honorary Award     1.0   \n",
       "\n",
       "                                                   Name  \\\n",
       "0                                   Richard Barthelmess   \n",
       "1                                         Emil Jannings   \n",
       "2                                        Louise Dresser   \n",
       "3                                          Janet Gaynor   \n",
       "4                                        Gloria Swanson   \n",
       "...                                                 ...   \n",
       "9959              Written by Josh Singer & Tom McCarthy   \n",
       "9960  Screenplay by Jonathan Herman and Andrea Berlo...   \n",
       "9961                                    Debbie Reynolds   \n",
       "9962                                          Spike Lee   \n",
       "9963                                      Gena Rowlands   \n",
       "\n",
       "                        Film  \n",
       "0                  The Noose  \n",
       "1           The Last Command  \n",
       "2            A Ship Comes In  \n",
       "3                 7th Heaven  \n",
       "4             Sadie Thompson  \n",
       "...                      ...  \n",
       "9959               Spotlight  \n",
       "9960  Straight Outta Compton  \n",
       "9961                     NaN  \n",
       "9962                     NaN  \n",
       "9963                     NaN  \n",
       "\n",
       "[9964 rows x 6 columns]"
      ]
     },
     "execution_count": 73,
     "metadata": {},
     "output_type": "execute_result"
    }
   ],
   "source": [
    "academy_awards"
   ]
  },
  {
   "cell_type": "markdown",
   "metadata": {},
   "source": [
    "## CATEGORY FIXING"
   ]
  },
  {
   "cell_type": "code",
   "execution_count": 74,
   "metadata": {},
   "outputs": [],
   "source": [
    "academy_awards.dropna(subset = 'Winner', axis=0, inplace = True)\n",
    "academy_awards.drop(columns=['Winner','Ceremony'],inplace=True)\n",
    "academy_awards['Year'] = academy_awards['Year'].str.slice(0,4)"
   ]
  },
  {
   "cell_type": "code",
   "execution_count": 75,
   "metadata": {},
   "outputs": [],
   "source": [
    "academy_awards = academy_awards[~academy_awards['Award'].str.contains('Commendation')]\n",
    "academy_awards = academy_awards[~academy_awards['Award'].str.contains('Honorary')]\n",
    "academy_awards = academy_awards[~academy_awards['Award'].str.contains('Foreign')]\n",
    "academy_awards = academy_awards[~academy_awards['Award'].str.contains('Humanitarian')]\n",
    "def cat_cleaner(char, cat):\n",
    "    for i in char:\n",
    "       academy_awards.loc[academy_awards['Award'].str.contains(i,case=False), 'Award'] = cat\n",
    "\n",
    "crew_member = ['actress','actor','direct','writing']\n",
    "production = ['music','cinematography','special ach','effects','sound','costume','makeup','production','editing']\n",
    "overall_movie = ['documentary','short','picture','special award','feature film','Irving G. Thalberg Memorial Award','Gordon E. Sawyer Award']\n",
    "cat_cleaner(crew_member, 'Crew member')\n",
    "cat_cleaner(production, 'Production')\n",
    "cat_cleaner(overall_movie, 'Overall Movie')"
   ]
  },
  {
   "cell_type": "code",
   "execution_count": 76,
   "metadata": {},
   "outputs": [],
   "source": [
    "academy_awards['Year'] = academy_awards['Year'].astype(int)"
   ]
  },
  {
   "cell_type": "markdown",
   "metadata": {},
   "source": [
    "## Creating Pivot tables Grouping nominees and films for the Academy Awards"
   ]
  },
  {
   "cell_type": "code",
   "execution_count": 77,
   "metadata": {},
   "outputs": [],
   "source": [
    "academy_by_film = academy_awards.groupby('Film').agg({'Year': 'first', 'Award': 'count'}).reset_index()\n",
    "academy_by_film.columns = ['Film', 'Year', 'Number Of Awards']\n",
    "\n",
    "academy_by_nominee = academy_awards.groupby('Name').agg({'Year': 'first', 'Award': 'count'}).reset_index()\n",
    "academy_by_nominee.columns = ['Name', 'Year', 'Number Of Awards']\n"
   ]
  },
  {
   "cell_type": "code",
   "execution_count": 78,
   "metadata": {},
   "outputs": [
    {
     "data": {
      "text/plain": [
       "Text(0, 0.5, 'Number of Awards Granted')"
      ]
     },
     "execution_count": 78,
     "metadata": {},
     "output_type": "execute_result"
    },
    {
     "data": {
      "image/png": "[encoded data removed]",
      "text/plain": [
       "<Figure size 640x480 with 1 Axes>"
      ]
     },
     "metadata": {},
     "output_type": "display_data"
    }
   ],
   "source": [
    "yearly_aa = academy_awards.groupby('Year').count()\n",
    "\n",
    "sns.set_style('darkgrid')\n",
    "sns.lineplot(x = yearly_aa.index, y = yearly_aa['Award'])\n",
    "plt.title('Academy Awards Per Year')\n",
    "plt.xlabel('Year')\n",
    "plt.ylabel('Number of Awards Granted')\n",
    "#plt.xticks([1925,1935,1945,1955,1965,1975,1985,1995,2005,2015])"
   ]
  },
  {
   "cell_type": "code",
   "execution_count": 79,
   "metadata": {},
   "outputs": [
    {
     "data": {
      "image/png": "[encoded data removed]",
      "text/plain": [
       "<Figure size 640x480 with 1 Axes>"
      ]
     },
     "metadata": {},
     "output_type": "display_data"
    }
   ],
   "source": [
    "academy_categories = academy_awards['Award'].value_counts(normalize=True)\n",
    "sns.barplot(x = academy_categories.index, y = academy_categories)\n",
    "plt.title('Awards per Category (Academy Awards)')\n",
    "plt.xlabel('Category of the Award')\n",
    "plt.ylabel('% Of Awards');"
   ]
  },
  {
   "cell_type": "code",
   "execution_count": 81,
   "metadata": {},
   "outputs": [
    {
     "data": {
      "text/html": [
       "<div>\n",
       "<style scoped>\n",
       "    .dataframe tbody tr th:only-of-type {\n",
       "        vertical-align: middle;\n",
       "    }\n",
       "\n",
       "    .dataframe tbody tr th {\n",
       "        vertical-align: top;\n",
       "    }\n",
       "\n",
       "    .dataframe thead th {\n",
       "        text-align: right;\n",
       "    }\n",
       "</style>\n",
       "<table border=\"1\" class=\"dataframe\">\n",
       "  <thead>\n",
       "    <tr style=\"text-align: right;\">\n",
       "      <th></th>\n",
       "      <th>Film</th>\n",
       "      <th>Year</th>\n",
       "      <th>Number Of Awards</th>\n",
       "      <th>Film_formatted</th>\n",
       "    </tr>\n",
       "  </thead>\n",
       "  <tbody>\n",
       "    <tr>\n",
       "      <th>0</th>\n",
       "      <td>\"Charlie McCarthy\"</td>\n",
       "      <td>1937</td>\n",
       "      <td>1</td>\n",
       "      <td>charliemccarthy</td>\n",
       "    </tr>\n",
       "    <tr>\n",
       "      <th>1</th>\n",
       "      <td>'Round Midnight</td>\n",
       "      <td>1986</td>\n",
       "      <td>1</td>\n",
       "      <td>roundmidnight</td>\n",
       "    </tr>\n",
       "    <tr>\n",
       "      <th>2</th>\n",
       "      <td>12 Years a Slave</td>\n",
       "      <td>2013</td>\n",
       "      <td>1</td>\n",
       "      <td>12yearsaslave</td>\n",
       "    </tr>\n",
       "    <tr>\n",
       "      <th>3</th>\n",
       "      <td>12 Years a Slave</td>\n",
       "      <td>2013</td>\n",
       "      <td>2</td>\n",
       "      <td>12yearsaslave</td>\n",
       "    </tr>\n",
       "    <tr>\n",
       "      <th>4</th>\n",
       "      <td>20 Feet from Stardom</td>\n",
       "      <td>2013</td>\n",
       "      <td>1</td>\n",
       "      <td>20feetfromstardom</td>\n",
       "    </tr>\n",
       "    <tr>\n",
       "      <th>...</th>\n",
       "      <td>...</td>\n",
       "      <td>...</td>\n",
       "      <td>...</td>\n",
       "      <td>...</td>\n",
       "    </tr>\n",
       "    <tr>\n",
       "      <th>1520</th>\n",
       "      <td>Zagreb Film</td>\n",
       "      <td>1961</td>\n",
       "      <td>1</td>\n",
       "      <td>zagrebfilm</td>\n",
       "    </tr>\n",
       "    <tr>\n",
       "      <th>1521</th>\n",
       "      <td>Zero Dark Thirty</td>\n",
       "      <td>2012</td>\n",
       "      <td>1</td>\n",
       "      <td>zerodarkthirty</td>\n",
       "    </tr>\n",
       "    <tr>\n",
       "      <th>1522</th>\n",
       "      <td>Zorba the Greek</td>\n",
       "      <td>1964</td>\n",
       "      <td>1</td>\n",
       "      <td>zorbathegreek</td>\n",
       "    </tr>\n",
       "    <tr>\n",
       "      <th>1523</th>\n",
       "      <td>the accountant</td>\n",
       "      <td>2001</td>\n",
       "      <td>1</td>\n",
       "      <td>theaccountant</td>\n",
       "    </tr>\n",
       "    <tr>\n",
       "      <th>1524</th>\n",
       "      <td>“Mickey Mouse”</td>\n",
       "      <td>1931</td>\n",
       "      <td>1</td>\n",
       "      <td>“mickeymouse”</td>\n",
       "    </tr>\n",
       "  </tbody>\n",
       "</table>\n",
       "<p>1525 rows × 4 columns</p>\n",
       "</div>"
      ],
      "text/plain": [
       "                       Film  Year  Number Of Awards     Film_formatted\n",
       "0        \"Charlie McCarthy\"  1937                 1    charliemccarthy\n",
       "1          'Round Midnight   1986                 1      roundmidnight\n",
       "2          12 Years a Slave  2013                 1      12yearsaslave\n",
       "3         12 Years a Slave   2013                 2      12yearsaslave\n",
       "4     20 Feet from Stardom   2013                 1  20feetfromstardom\n",
       "...                     ...   ...               ...                ...\n",
       "1520            Zagreb Film  1961                 1         zagrebfilm\n",
       "1521      Zero Dark Thirty   2012                 1     zerodarkthirty\n",
       "1522        Zorba the Greek  1964                 1      zorbathegreek\n",
       "1523        the accountant   2001                 1      theaccountant\n",
       "1524         “Mickey Mouse”  1931                 1      “mickeymouse”\n",
       "\n",
       "[1525 rows x 4 columns]"
      ]
     },
     "execution_count": 81,
     "metadata": {},
     "output_type": "execute_result"
    }
   ],
   "source": [
    "# Remove spaces from movie names and convert to lowercase for easier matching\n",
    "\n",
    "# Remove characters and convert to lowercase using chaining methods\n",
    "academy_by_film['Film_formatted'] = (\n",
    "    academy_by_film['Film']\n",
    "    .str.replace(',', '')\n",
    "    .str.replace(' ', '')\n",
    "    .str.replace('\"', '')\n",
    "    .str.replace(\"'\", '')\n",
    "    .str.lower()\n",
    ")\n",
    "\n",
    "# Remove characters and convert to lowercase using chaining methods\n",
    "imdb['primary_title_cleaned'] = (\n",
    "    imdb['primary_title']\n",
    "    .str.replace(',', '')\n",
    "    .str.replace(' ', '')\n",
    "    .str.replace('\"', '')\n",
    "    .str.replace(\"'\", '')\n",
    "    .str.lower()\n",
    ")\n",
    "\n",
    "#sanity check\n",
    "academy_by_film\n"
   ]
  },
  {
   "cell_type": "code",
   "execution_count": null,
   "metadata": {},
   "outputs": [],
   "source": [
    "# Start the timer\n",
    "start_time = time.time()\n",
    "\n",
    "\n",
    "# Initialize an empty list to store pairs\n",
    "pairs3 = []\n",
    "\n",
    "# Set a similarity score threshold (adjust as needed)\n",
    "threshold = 90\n",
    "\n",
    "# Perform fuzzy matching and create pairs\n",
    "for name1 in academy_by_film['Film_formatted']:\n",
    "    for name2 in imdb['primary_title_cleaned']:\n",
    "        similarity_score = fuzz.ratio(name1, name2)\n",
    "        if similarity_score >= threshold:\n",
    "            pairs3.append((name1, name2, similarity_score))\n",
    "            \n",
    "\n",
    "\n",
    "# End the timer\n",
    "end_time = time.time()\n",
    "\n",
    "# Calculate the elapsed time\n",
    "elapsed_time = end_time - start_time\n",
    "\n",
    "print(f\"Elapsed time: {elapsed_time} seconds\")\n"
   ]
  },
  {
   "cell_type": "code",
   "execution_count": null,
   "metadata": {},
   "outputs": [],
   "source": [
    "# Create a DataFrame from the list of matching pairs\n",
    "pairs_AA_by_film = pd.DataFrame(pairs3, columns=[ 'Academy_Film','imdb_name', 'similarity_score'])\n",
    "pairs_AA_by_film"
   ]
  },
  {
   "cell_type": "code",
   "execution_count": null,
   "metadata": {},
   "outputs": [],
   "source": [
    "# Merge the two datasets based on the similarity score threshold\n",
    "pairs_AA_by_film = pd.merge(imdb, pairs_AA_by_film, left_on='primary_title_cleaned', right_on='imdb_name', how='inner')\n",
    "merged_data_AA_by_film = pd.merge(pairs_AA_by_film, academy_by_film, left_on='Academy_Film', right_on='Film_formatted', how='inner')\n",
    "\n",
    "merged_data_AA_by_film"
   ]
  },
  {
   "cell_type": "code",
   "execution_count": null,
   "metadata": {},
   "outputs": [],
   "source": [
    "#creating a new column called year_difference, which will be used for cleaning mismatches that had high similarity scores\n",
    "merged_data_AA_by_film['year_difference'] = abs(merged_data_AA_by_film['start_year'] - merged_data_AA_by_film['Year'])\n",
    "merged_data_AA_by_film = merged_data_AA_by_film[merged_data_AA_by_film['year_difference'] < 2]\n",
    "\n",
    "merged_data_AA_by_film.head()"
   ]
  },
  {
   "cell_type": "code",
   "execution_count": null,
   "metadata": {},
   "outputs": [],
   "source": [
    "academy_by_nominee.head()"
   ]
  },
  {
   "cell_type": "code",
   "execution_count": null,
   "metadata": {},
   "outputs": [],
   "source": [
    "\n",
    "# Remove characters and convert to lowercase using chaining methods\n",
    "academy_by_nominee['Name_formatted'] = (\n",
    "    academy_by_nominee['Name']\n",
    "    .str.replace(',', '')\n",
    "    .str.replace(' ', '')\n",
    "    .str.replace('\"', '')\n",
    "    .str.replace('(', '')\n",
    "    .str.replace(')', '')\n",
    "    .str.lower()\n",
    ")\n",
    "\n",
    "# Remove characters and convert to lowercase using chaining methods\n",
    "imdb['primary_title_cleaned'] = (\n",
    "    imdb['primary_title']\n",
    "    .str.replace(',', '')\n",
    "    .str.replace(' ', '')\n",
    "    .str.replace('\"', '')\n",
    "    .str.replace('(', '')\n",
    "    .str.replace(')', '')\n",
    "    .str.lower()\n",
    ")\n",
    "\n",
    "#sanity check\n",
    "academy_by_nominee.head()"
   ]
  },
  {
   "cell_type": "code",
   "execution_count": null,
   "metadata": {},
   "outputs": [],
   "source": [
    "# Start the timer\n",
    "start_time = time.time()\n",
    "\n",
    "\n",
    "# Initialize an empty list to store pairs\n",
    "pairs4 = []\n",
    "\n",
    "# Set a similarity score threshold (adjust as needed)\n",
    "threshold = 90\n",
    "\n",
    "# Perform fuzzy matching and create pairs\n",
    "for name1 in academy_by_nominee['Name_formatted']:\n",
    "    for name2 in imdb['primary_title_cleaned']:\n",
    "        similarity_score = fuzz.ratio(name1, name2)\n",
    "        if similarity_score >= threshold:\n",
    "            pairs4.append((name1, name2, similarity_score))\n",
    "            \n",
    "\n",
    "\n",
    "# End the timer\n",
    "end_time = time.time()\n",
    "\n",
    "# Calculate the elapsed time\n",
    "elapsed_time = end_time - start_time\n",
    "\n",
    "print(f\"Elapsed time: {elapsed_time} seconds\")\n"
   ]
  },
  {
   "cell_type": "code",
   "execution_count": null,
   "metadata": {},
   "outputs": [],
   "source": [
    "# Create a DataFrame from the list of matching pairs\n",
    "pairs_AA_by_nominee = pd.DataFrame(pairs4, columns=[ 'Academy_nominee','imdb_name', 'similarity_score'])\n",
    "pairs_AA_by_nominee"
   ]
  },
  {
   "cell_type": "code",
   "execution_count": null,
   "metadata": {},
   "outputs": [],
   "source": [
    "# Merge the two datasets based on the similarity score threshold\n",
    "pairs_AA_by_nominee = pd.merge(imdb, pairs_AA_by_nominee, left_on='primary_title_cleaned', right_on='imdb_name', how='inner')\n",
    "merged_data_AA_by_nominee = pd.merge(pairs_AA_by_nominee, academy_by_nominee, left_on='Academy_nominee', right_on='Name_formatted', how='inner')\n",
    "\n",
    "merged_data_AA_by_nominee"
   ]
  },
  {
   "cell_type": "code",
   "execution_count": null,
   "metadata": {},
   "outputs": [],
   "source": [
    "#creating a new column called year_difference, which will be used for cleaning mismatches that had high similarity scores\n",
    "merged_data_AA_by_nominee['year_difference'] = abs(merged_data_AA_by_nominee['start_year'] - merged_data_AA_by_nominee['Year'])\n",
    "merged_data_AA_by_nominee = merged_data_AA_by_nominee[merged_data_AA_by_nominee['year_difference'] < 2]\n",
    "\n",
    "merged_data_AA_by_nominee.head()"
   ]
  },
  {
   "cell_type": "code",
   "execution_count": null,
   "metadata": {},
   "outputs": [],
   "source": [
    "# Concatenate the dfs\n",
    "Academy_Awards_Winners = pd.concat([merged_data_AA_by_film, merged_data_AA_by_nominee], axis=0)\n",
    "#reset the index\n",
    "Academy_Awards_Winners.reset_index(drop=True, inplace=True)\n",
    "\n",
    "Academy_Awards_Winners.head()"
   ]
  },
  {
   "cell_type": "code",
   "execution_count": null,
   "metadata": {},
   "outputs": [],
   "source": [
    "Academy_Awards_Winners.drop(\n",
    "    ['start_year',\n",
    "     'primary_title_cleaned',\n",
    "     'year_difference',\n",
    "     'Name_formatted',\n",
    "     'Name',\n",
    "     'death_year',\n",
    "     'original_title',\n",
    "     'Academy_nominee',\n",
    "     'imdb_name',\n",
    "     'similarity_score',\n",
    "     'Academy_Film',\n",
    "     'Film',\n",
    "     'Film_formatted',\n",
    "     ], axis=1, inplace=True)"
   ]
  },
  {
   "cell_type": "code",
   "execution_count": null,
   "metadata": {},
   "outputs": [],
   "source": [
    "Academy_Awards_Winners.drop_duplicates(inplace=True)\n",
    "Academy_Awards_Winners"
   ]
  },
  {
   "cell_type": "markdown",
   "metadata": {},
   "source": [
    "## Visualizing Golden Globe Award Winners"
   ]
  },
  {
   "cell_type": "code",
   "execution_count": null,
   "metadata": {},
   "outputs": [],
   "source": [
    "#histogram looking at the distribution of ratings for golden globe winning movies\n",
    "rating = Golden_Globes_Winners['averagerating']\n",
    "plt.hist(rating, bins=10);\n",
    "plt.title('Distribution of rating on Golden Globe Winning Movies');\n",
    "plt.axhline((Golden_Globes_Winners['averagerating'].mean()), color='red', linestyle='dashed', linewidth=2, label='Mean')\n",
    "plt.xlabel('Rating')\n",
    "plt.ylabel('# of Movies')"
   ]
  },
  {
   "cell_type": "code",
   "execution_count": null,
   "metadata": {},
   "outputs": [],
   "source": [
    "#violin plot of run times for all imdb movies v. academy award winning movies v. golden globe winning movies\n",
    "\n",
    "fig, (ax1,ax2,ax3) = plt.subplots(ncols=3, figsize=(15,6))\n",
    "ax2.violinplot(Golden_Globes_Winners['runtime_minutes'])\n",
    "ax2.set_title('Golden Globe Winning Movies')\n",
    "ax2.set_ylabel('Minutes');\n",
    "\n",
    "\n",
    "# Threshold adjusted due to outlier runtimes\n",
    "threshold = 300  \n",
    "runtime_with_threshold = [x for x in imdb['runtime_minutes'] if x <= threshold]\n",
    "ax1.violinplot(runtime_with_threshold)\n",
    "ax1.set_title('Movies, adjusted');\n",
    "ax1.set_ylabel('Minutes');\n",
    "\n",
    "ax3.violinplot(Academy_Awards_Winners['runtime_minutes'])\n",
    "ax3.set_title('Academy Award Winning Movies')\n",
    "ax3.set_ylabel('Minutes');"
   ]
  },
  {
   "cell_type": "markdown",
   "metadata": {},
   "source": [
    "## Visualizing Academy Award Winners"
   ]
  },
  {
   "cell_type": "code",
   "execution_count": null,
   "metadata": {},
   "outputs": [],
   "source": [
    "#histogram looking at the distribution of ratings for academy award winning movies\n",
    "rating = Academy_Awards_Winners['averagerating']\n",
    "plt.hist(rating, bins=10);\n",
    "plt.title('Distribution of rating on Academy Award Winning Movies');\n",
    "plt.axhline((Academy_Awards_Winners['averagerating'].mean()), color='red', linestyle='dashed', linewidth=2, label='Mean')\n",
    "plt.xlabel('Rating')\n",
    "plt.ylabel('# of Movies')"
   ]
  },
  {
   "cell_type": "code",
   "execution_count": null,
   "metadata": {},
   "outputs": [],
   "source": [
    "#violin plot of run times for all imdb movies v. academy award winning movies\n",
    "fig, (ax1,ax2) = plt.subplots(ncols=2, figsize=(15,6))\n",
    "ax2.violinplot(Academy_Awards_Winners['runtime_minutes'])\n",
    "ax2.set_title('Violinplot of Runtime in minutes per Academy Award Winning Movies')\n",
    "ax2.set_ylabel('Minutes');\n",
    "\n",
    "threshold = 300  # Adjust this threshold based on your data\n",
    "runtime_with_threshold = [x for x in imdb['runtime_minutes'] if x <= threshold]\n",
    "ax1.violinplot(runtime_with_threshold)\n",
    "ax1.set_title('Violinplot of Runtime in minutes per Movies, adjusted');"
   ]
  },
  {
   "cell_type": "code",
   "execution_count": null,
   "metadata": {},
   "outputs": [],
   "source": [
    "#Bar graph of the genres of Academy award winning movies\n",
    "category_columns = ['Action', 'Adult',\n",
    "       'Adventure', 'Animation', 'Biography', 'Comedy', 'Crime', 'Documentary',\n",
    "       'Drama', 'Family', 'Fantasy', 'Game-Show', 'History', 'Horror', 'Music',\n",
    "       'Musical', 'Mystery', 'News', 'No Genre', 'Reality-TV', 'Romance',\n",
    "       'Sci-Fi', 'Short', 'Sport', 'Talk-Show', 'Thriller', 'War', 'Western']\n",
    "columns_sums = Academy_Awards_Winners[category_columns].sum()\n",
    "fig, ax = plt.subplots(figsize=(15,6))\n",
    "plt.bar(columns_sums.index, columns_sums)\n",
    "plt.xticks(rotation=60)\n",
    "plt.title('Genres by Academy Award Winning Movies')\n",
    "plt.xlabel('Genres')\n",
    "plt.ylabel('# of Movies');\n",
    "        "
   ]
  },
  {
   "cell_type": "markdown",
   "metadata": {},
   "source": [
    "## Merging Golden Globe Awards with movie budgets"
   ]
  },
  {
   "cell_type": "code",
   "execution_count": null,
   "metadata": {},
   "outputs": [],
   "source": [
    "movie_budgets"
   ]
  },
  {
   "cell_type": "code",
   "execution_count": null,
   "metadata": {},
   "outputs": [],
   "source": [
    "def name_matcher(list1, list2, threshold):\n",
    "    pairs = []\n",
    "    for name1 in list1:\n",
    "        for name2 in list2:\n",
    "            similarity_score = fuzz.ratio(name1,name2)\n",
    "            if similarity_score >= threshold:\n",
    "                pairs.append((name1, name2, similarity_score))\n",
    "    return pairs"
   ]
  },
  {
   "cell_type": "code",
   "execution_count": null,
   "metadata": {},
   "outputs": [],
   "source": [
    "#name_matcher(academy_by_film['Film'],movie_budgets['movie'],92)"
   ]
  },
  {
   "cell_type": "code",
   "execution_count": null,
   "metadata": {},
   "outputs": [],
   "source": [
    "#pairs"
   ]
  },
  {
   "cell_type": "code",
   "execution_count": null,
   "metadata": {},
   "outputs": [],
   "source": [
    "# Create a DataFrame from the list of matching pairs\n",
    "matching_data = pd.DataFrame(pairs, columns=['gg_name', 'mb_name', 'similarity_score'])\n",
    "# Merge the two datasets based on the similarity score threshold\n",
    "golden_globes_movie_budgets = pd.merge(golden_globe_by_film, matching_data, left_on='Name', right_on='gg_name', how='inner')\n",
    "golden_globes_movie_budgets = pd.merge(golden_globes_movie_budgets, movie_budgets, left_on='mb_name', right_on='movie', how='inner')\n"
   ]
  },
  {
   "cell_type": "code",
   "execution_count": null,
   "metadata": {},
   "outputs": [],
   "source": [
    "golden_globes_movie_budgets"
   ]
  },
  {
   "cell_type": "code",
   "execution_count": null,
   "metadata": {},
   "outputs": [],
   "source": [
    "golden_globes_movie_budgets.drop(columns=['mb_name','gg_name','similarity_score','id','release_date','movie'], inplace=True)\n",
    "\n",
    "golden_globes_movie_budgets.drop_duplicates(keep='first',inplace=True)"
   ]
  },
  {
   "cell_type": "code",
   "execution_count": null,
   "metadata": {},
   "outputs": [],
   "source": [
    "golden_globes_movie_budgets"
   ]
  },
  {
   "cell_type": "code",
   "execution_count": null,
   "metadata": {},
   "outputs": [],
   "source": [
    "threshold = 20\n",
    "domestic_budgets_with_threshold = [x for x in movie_budgets['domestic_gross/production_budget'] if x <= threshold]\n",
    "award_winners_with_threshold = [x for x in golden_globes_movie_budgets['domestic_gross/production_budget'] if x <= threshold]\n",
    "\n",
    "fig, (ax1,ax2) = plt.subplots(ncols=2, figsize=(15,6))\n",
    "#ax1.bar(ggg.index, ggg)\n",
    "#ax1.axhline(y=movie_budgets['domestic_gross/production_budget'].mean(), color='red', linestyle='--', label='Mean of all movie gross')\n",
    "ax1.violinplot(domestic_budgets_with_threshold)\n",
    "#ax1.set_yticks(range(20))\n",
    "ax2.violinplot(award_winners_with_threshold)\n",
    "#ax2.set_yticks(range(20))\n",
    "ax1.set_title('Domestic Gross to Budget Ratio For All Movies')\n",
    "ax2.set_title('Domestic Gross to Budget Ratio For Award Winning Movies')\n",
    "ax1.set_xlabel('Domestic Gross to Budget Ratio')\n",
    "ax2.set_xlabel('Domestic Gross to Budget Ratio');"
   ]
  },
  {
   "cell_type": "code",
   "execution_count": null,
   "metadata": {},
   "outputs": [],
   "source": []
  },
  {
   "cell_type": "code",
   "execution_count": null,
   "metadata": {},
   "outputs": [],
   "source": []
  },
  {
   "cell_type": "code",
   "execution_count": null,
   "metadata": {},
   "outputs": [],
   "source": []
  },
  {
   "cell_type": "code",
   "execution_count": null,
   "metadata": {},
   "outputs": [],
   "source": []
  },
  {
   "cell_type": "code",
   "execution_count": null,
   "metadata": {},
   "outputs": [],
   "source": []
  },
  {
   "cell_type": "code",
   "execution_count": null,
   "metadata": {},
   "outputs": [],
   "source": []
  },
  {
   "cell_type": "code",
   "execution_count": null,
   "metadata": {},
   "outputs": [],
   "source": []
  },
  {
   "cell_type": "code",
   "execution_count": null,
   "metadata": {},
   "outputs": [],
   "source": []
  },
  {
   "cell_type": "code",
   "execution_count": null,
   "metadata": {},
   "outputs": [],
   "source": [
    "df_list"
   ]
  },
  {
   "cell_type": "code",
   "execution_count": null,
   "metadata": {},
   "outputs": [],
   "source": [
    "reviews"
   ]
  },
  {
   "cell_type": "code",
   "execution_count": null,
   "metadata": {},
   "outputs": [],
   "source": []
  }
 ],
 "metadata": {
  "kernelspec": {
   "display_name": "Python 3 (ipykernel)",
   "language": "python",
   "name": "python3"
  },
  "language_info": {
   "codemirror_mode": {
    "name": "ipython",
    "version": 3
   },
   "file_extension": ".py",
   "mimetype": "text/x-python",
   "name": "python",
   "nbconvert_exporter": "python",
   "pygments_lexer": "ipython3",
   "version": "3.9.7"
  }
 },
 "nbformat": 4,
 "nbformat_minor": 4
}
