{
 "cells": [
  {
   "cell_type": "markdown",
   "metadata": {},
   "source": [
    "## Final Project Submission\n",
    "\n",
    "Please fill out:\n",
    "* Student name: \n",
    "* Student pace: self paced / part time / full time\n",
    "* Scheduled project review date/time: \n",
    "* Instructor name: \n",
    "* Blog post URL:\n"
   ]
  },
  {
   "cell_type": "code",
   "execution_count": 1,
   "metadata": {},
   "outputs": [],
   "source": [
    "#Importing necessary libraries\n",
    "\n",
    "import pandas as pd\n",
    "import sqlite3\n",
    "import numpy as np\n",
    "import matplotlib.pyplot as plt\n",
    "import seaborn as sns\n",
    "import warnings\n",
    "import gzip\n",
    "warnings.filterwarnings('ignore')"
   ]
  },
  {
   "cell_type": "markdown",
   "metadata": {
    "jp-MarkdownHeadingCollapsed": true
   },
   "source": [
    "## Importing the data"
   ]
  },
  {
   "cell_type": "code",
   "execution_count": 2,
   "metadata": {},
   "outputs": [],
   "source": [
    "conn = sqlite3.connect('zippeddata/im.db')\n",
    "\n",
    "movie_gross = pd.read_csv('zippeddata/bom.movie_gross.csv.gz')\n",
    "\n",
    "with gzip.open('zippeddata/rt.movie_info.tsv.gz', 'rt', encoding='utf-8') as file:\n",
    "    movie_info = pd.read_csv(file, delimiter='\\t')\n",
    "\n",
    "with gzip.open('zippeddata/rt.reviews.tsv.gz', 'rt') as file:\n",
    "    reviews = pd.read_csv(file, delimiter='\\t')\n",
    "\n",
    "with gzip.open('zippeddata/tmdb.movies.csv.gz') as file:\n",
    "    tmdb_movies = pd.read_csv(file)\n",
    "\n",
    "with gzip.open('zippeddata/tn.movie_budgets.csv.gz') as file:\n",
    "    movie_budgets = pd.read_csv(file)"
   ]
  },
  {
   "cell_type": "code",
   "execution_count": 3,
   "metadata": {},
   "outputs": [],
   "source": [
    "df_list = ['conn','movie_gross','movie_info','reviews','tmdb_movies','movie_budgets']"
   ]
  },
  {
   "cell_type": "markdown",
   "metadata": {
    "jp-MarkdownHeadingCollapsed": true
   },
   "source": [
    "### Exploring the IM Database"
   ]
  },
  {
   "cell_type": "code",
   "execution_count": 4,
   "metadata": {},
   "outputs": [
    {
     "data": {
      "text/html": [
       "<div>\n",
       "<style scoped>\n",
       "    .dataframe tbody tr th:only-of-type {\n",
       "        vertical-align: middle;\n",
       "    }\n",
       "\n",
       "    .dataframe tbody tr th {\n",
       "        vertical-align: top;\n",
       "    }\n",
       "\n",
       "    .dataframe thead th {\n",
       "        text-align: right;\n",
       "    }\n",
       "</style>\n",
       "<table border=\"1\" class=\"dataframe\">\n",
       "  <thead>\n",
       "    <tr style=\"text-align: right;\">\n",
       "      <th></th>\n",
       "      <th>name</th>\n",
       "      <th>sql</th>\n",
       "    </tr>\n",
       "  </thead>\n",
       "  <tbody>\n",
       "    <tr>\n",
       "      <th>0</th>\n",
       "      <td>movie_basics</td>\n",
       "      <td>CREATE TABLE \"movie_basics\" (\\n\"movie_id\" TEXT...</td>\n",
       "    </tr>\n",
       "    <tr>\n",
       "      <th>1</th>\n",
       "      <td>directors</td>\n",
       "      <td>CREATE TABLE \"directors\" (\\n\"movie_id\" TEXT,\\n...</td>\n",
       "    </tr>\n",
       "    <tr>\n",
       "      <th>2</th>\n",
       "      <td>known_for</td>\n",
       "      <td>CREATE TABLE \"known_for\" (\\n\"person_id\" TEXT,\\...</td>\n",
       "    </tr>\n",
       "    <tr>\n",
       "      <th>3</th>\n",
       "      <td>movie_akas</td>\n",
       "      <td>CREATE TABLE \"movie_akas\" (\\n\"movie_id\" TEXT,\\...</td>\n",
       "    </tr>\n",
       "    <tr>\n",
       "      <th>4</th>\n",
       "      <td>movie_ratings</td>\n",
       "      <td>CREATE TABLE \"movie_ratings\" (\\n\"movie_id\" TEX...</td>\n",
       "    </tr>\n",
       "    <tr>\n",
       "      <th>5</th>\n",
       "      <td>persons</td>\n",
       "      <td>CREATE TABLE \"persons\" (\\n\"person_id\" TEXT,\\n ...</td>\n",
       "    </tr>\n",
       "    <tr>\n",
       "      <th>6</th>\n",
       "      <td>principals</td>\n",
       "      <td>CREATE TABLE \"principals\" (\\n\"movie_id\" TEXT,\\...</td>\n",
       "    </tr>\n",
       "    <tr>\n",
       "      <th>7</th>\n",
       "      <td>writers</td>\n",
       "      <td>CREATE TABLE \"writers\" (\\n\"movie_id\" TEXT,\\n  ...</td>\n",
       "    </tr>\n",
       "  </tbody>\n",
       "</table>\n",
       "</div>"
      ],
      "text/plain": [
       "            name                                                sql\n",
       "0   movie_basics  CREATE TABLE \"movie_basics\" (\\n\"movie_id\" TEXT...\n",
       "1      directors  CREATE TABLE \"directors\" (\\n\"movie_id\" TEXT,\\n...\n",
       "2      known_for  CREATE TABLE \"known_for\" (\\n\"person_id\" TEXT,\\...\n",
       "3     movie_akas  CREATE TABLE \"movie_akas\" (\\n\"movie_id\" TEXT,\\...\n",
       "4  movie_ratings  CREATE TABLE \"movie_ratings\" (\\n\"movie_id\" TEX...\n",
       "5        persons  CREATE TABLE \"persons\" (\\n\"person_id\" TEXT,\\n ...\n",
       "6     principals  CREATE TABLE \"principals\" (\\n\"movie_id\" TEXT,\\...\n",
       "7        writers  CREATE TABLE \"writers\" (\\n\"movie_id\" TEXT,\\n  ..."
      ]
     },
     "execution_count": 4,
     "metadata": {},
     "output_type": "execute_result"
    }
   ],
   "source": [
    "pd.read_sql(\"\"\"SELECT name, sql FROM sqlite_master WHERE type='table';\"\"\",conn)"
   ]
  },
  {
   "cell_type": "code",
   "execution_count": 5,
   "metadata": {},
   "outputs": [
    {
     "data": {
      "text/html": [
       "<div>\n",
       "<style scoped>\n",
       "    .dataframe tbody tr th:only-of-type {\n",
       "        vertical-align: middle;\n",
       "    }\n",
       "\n",
       "    .dataframe tbody tr th {\n",
       "        vertical-align: top;\n",
       "    }\n",
       "\n",
       "    .dataframe thead th {\n",
       "        text-align: right;\n",
       "    }\n",
       "</style>\n",
       "<table border=\"1\" class=\"dataframe\">\n",
       "  <thead>\n",
       "    <tr style=\"text-align: right;\">\n",
       "      <th></th>\n",
       "      <th>movie_id</th>\n",
       "      <th>primary_title</th>\n",
       "      <th>original_title</th>\n",
       "      <th>start_year</th>\n",
       "      <th>runtime_minutes</th>\n",
       "      <th>genres</th>\n",
       "    </tr>\n",
       "  </thead>\n",
       "  <tbody>\n",
       "    <tr>\n",
       "      <th>0</th>\n",
       "      <td>tt0063540</td>\n",
       "      <td>Sunghursh</td>\n",
       "      <td>Sunghursh</td>\n",
       "      <td>2013</td>\n",
       "      <td>175.0</td>\n",
       "      <td>Action,Crime,Drama</td>\n",
       "    </tr>\n",
       "    <tr>\n",
       "      <th>1</th>\n",
       "      <td>tt0066787</td>\n",
       "      <td>One Day Before the Rainy Season</td>\n",
       "      <td>Ashad Ka Ek Din</td>\n",
       "      <td>2019</td>\n",
       "      <td>114.0</td>\n",
       "      <td>Biography,Drama</td>\n",
       "    </tr>\n",
       "  </tbody>\n",
       "</table>\n",
       "</div>"
      ],
      "text/plain": [
       "    movie_id                    primary_title   original_title  start_year  \\\n",
       "0  tt0063540                        Sunghursh        Sunghursh        2013   \n",
       "1  tt0066787  One Day Before the Rainy Season  Ashad Ka Ek Din        2019   \n",
       "\n",
       "   runtime_minutes              genres  \n",
       "0            175.0  Action,Crime,Drama  \n",
       "1            114.0     Biography,Drama  "
      ]
     },
     "execution_count": 5,
     "metadata": {},
     "output_type": "execute_result"
    }
   ],
   "source": [
    "pd.read_sql(\"\"\"SELECT * FROM movie_basics LIMIT 2\"\"\",conn)"
   ]
  },
  {
   "cell_type": "code",
   "execution_count": 6,
   "metadata": {},
   "outputs": [
    {
     "data": {
      "text/html": [
       "<div>\n",
       "<style scoped>\n",
       "    .dataframe tbody tr th:only-of-type {\n",
       "        vertical-align: middle;\n",
       "    }\n",
       "\n",
       "    .dataframe tbody tr th {\n",
       "        vertical-align: top;\n",
       "    }\n",
       "\n",
       "    .dataframe thead th {\n",
       "        text-align: right;\n",
       "    }\n",
       "</style>\n",
       "<table border=\"1\" class=\"dataframe\">\n",
       "  <thead>\n",
       "    <tr style=\"text-align: right;\">\n",
       "      <th></th>\n",
       "      <th>movie_id</th>\n",
       "      <th>person_id</th>\n",
       "    </tr>\n",
       "  </thead>\n",
       "  <tbody>\n",
       "    <tr>\n",
       "      <th>0</th>\n",
       "      <td>tt0285252</td>\n",
       "      <td>nm0899854</td>\n",
       "    </tr>\n",
       "    <tr>\n",
       "      <th>1</th>\n",
       "      <td>tt0462036</td>\n",
       "      <td>nm1940585</td>\n",
       "    </tr>\n",
       "  </tbody>\n",
       "</table>\n",
       "</div>"
      ],
      "text/plain": [
       "    movie_id  person_id\n",
       "0  tt0285252  nm0899854\n",
       "1  tt0462036  nm1940585"
      ]
     },
     "execution_count": 6,
     "metadata": {},
     "output_type": "execute_result"
    }
   ],
   "source": [
    "pd.read_sql(\"\"\"SELECT * FROM directors LIMIT 2\"\"\",conn)"
   ]
  },
  {
   "cell_type": "code",
   "execution_count": 7,
   "metadata": {},
   "outputs": [
    {
     "data": {
      "text/html": [
       "<div>\n",
       "<style scoped>\n",
       "    .dataframe tbody tr th:only-of-type {\n",
       "        vertical-align: middle;\n",
       "    }\n",
       "\n",
       "    .dataframe tbody tr th {\n",
       "        vertical-align: top;\n",
       "    }\n",
       "\n",
       "    .dataframe thead th {\n",
       "        text-align: right;\n",
       "    }\n",
       "</style>\n",
       "<table border=\"1\" class=\"dataframe\">\n",
       "  <thead>\n",
       "    <tr style=\"text-align: right;\">\n",
       "      <th></th>\n",
       "      <th>person_id</th>\n",
       "      <th>movie_id</th>\n",
       "    </tr>\n",
       "  </thead>\n",
       "  <tbody>\n",
       "    <tr>\n",
       "      <th>0</th>\n",
       "      <td>nm0061671</td>\n",
       "      <td>tt0837562</td>\n",
       "    </tr>\n",
       "    <tr>\n",
       "      <th>1</th>\n",
       "      <td>nm0061671</td>\n",
       "      <td>tt2398241</td>\n",
       "    </tr>\n",
       "  </tbody>\n",
       "</table>\n",
       "</div>"
      ],
      "text/plain": [
       "   person_id   movie_id\n",
       "0  nm0061671  tt0837562\n",
       "1  nm0061671  tt2398241"
      ]
     },
     "execution_count": 7,
     "metadata": {},
     "output_type": "execute_result"
    }
   ],
   "source": [
    "pd.read_sql(\"\"\"SELECT * FROM known_for LIMIT 2\"\"\",conn)"
   ]
  },
  {
   "cell_type": "code",
   "execution_count": 8,
   "metadata": {},
   "outputs": [
    {
     "data": {
      "text/html": [
       "<div>\n",
       "<style scoped>\n",
       "    .dataframe tbody tr th:only-of-type {\n",
       "        vertical-align: middle;\n",
       "    }\n",
       "\n",
       "    .dataframe tbody tr th {\n",
       "        vertical-align: top;\n",
       "    }\n",
       "\n",
       "    .dataframe thead th {\n",
       "        text-align: right;\n",
       "    }\n",
       "</style>\n",
       "<table border=\"1\" class=\"dataframe\">\n",
       "  <thead>\n",
       "    <tr style=\"text-align: right;\">\n",
       "      <th></th>\n",
       "      <th>movie_id</th>\n",
       "      <th>ordering</th>\n",
       "      <th>title</th>\n",
       "      <th>region</th>\n",
       "      <th>language</th>\n",
       "      <th>types</th>\n",
       "      <th>attributes</th>\n",
       "      <th>is_original_title</th>\n",
       "    </tr>\n",
       "  </thead>\n",
       "  <tbody>\n",
       "    <tr>\n",
       "      <th>0</th>\n",
       "      <td>tt0369610</td>\n",
       "      <td>10</td>\n",
       "      <td>Джурасик свят</td>\n",
       "      <td>BG</td>\n",
       "      <td>bg</td>\n",
       "      <td>None</td>\n",
       "      <td>None</td>\n",
       "      <td>0.0</td>\n",
       "    </tr>\n",
       "    <tr>\n",
       "      <th>1</th>\n",
       "      <td>tt0369610</td>\n",
       "      <td>11</td>\n",
       "      <td>Jurashikku warudo</td>\n",
       "      <td>JP</td>\n",
       "      <td>None</td>\n",
       "      <td>imdbDisplay</td>\n",
       "      <td>None</td>\n",
       "      <td>0.0</td>\n",
       "    </tr>\n",
       "  </tbody>\n",
       "</table>\n",
       "</div>"
      ],
      "text/plain": [
       "    movie_id  ordering              title region language        types  \\\n",
       "0  tt0369610        10      Джурасик свят     BG       bg         None   \n",
       "1  tt0369610        11  Jurashikku warudo     JP     None  imdbDisplay   \n",
       "\n",
       "  attributes  is_original_title  \n",
       "0       None                0.0  \n",
       "1       None                0.0  "
      ]
     },
     "execution_count": 8,
     "metadata": {},
     "output_type": "execute_result"
    }
   ],
   "source": [
    "pd.read_sql(\"\"\"SELECT * FROM movie_akas LIMIT 2\"\"\",conn)"
   ]
  },
  {
   "cell_type": "code",
   "execution_count": 9,
   "metadata": {},
   "outputs": [
    {
     "data": {
      "text/html": [
       "<div>\n",
       "<style scoped>\n",
       "    .dataframe tbody tr th:only-of-type {\n",
       "        vertical-align: middle;\n",
       "    }\n",
       "\n",
       "    .dataframe tbody tr th {\n",
       "        vertical-align: top;\n",
       "    }\n",
       "\n",
       "    .dataframe thead th {\n",
       "        text-align: right;\n",
       "    }\n",
       "</style>\n",
       "<table border=\"1\" class=\"dataframe\">\n",
       "  <thead>\n",
       "    <tr style=\"text-align: right;\">\n",
       "      <th></th>\n",
       "      <th>movie_id</th>\n",
       "      <th>averagerating</th>\n",
       "      <th>numvotes</th>\n",
       "    </tr>\n",
       "  </thead>\n",
       "  <tbody>\n",
       "    <tr>\n",
       "      <th>0</th>\n",
       "      <td>tt10356526</td>\n",
       "      <td>8.3</td>\n",
       "      <td>31</td>\n",
       "    </tr>\n",
       "    <tr>\n",
       "      <th>1</th>\n",
       "      <td>tt10384606</td>\n",
       "      <td>8.9</td>\n",
       "      <td>559</td>\n",
       "    </tr>\n",
       "  </tbody>\n",
       "</table>\n",
       "</div>"
      ],
      "text/plain": [
       "     movie_id  averagerating  numvotes\n",
       "0  tt10356526            8.3        31\n",
       "1  tt10384606            8.9       559"
      ]
     },
     "execution_count": 9,
     "metadata": {},
     "output_type": "execute_result"
    }
   ],
   "source": [
    "pd.read_sql(\"\"\"SELECT * FROM movie_ratings LIMIT 2\"\"\",conn)"
   ]
  },
  {
   "cell_type": "code",
   "execution_count": 10,
   "metadata": {},
   "outputs": [
    {
     "data": {
      "text/html": [
       "<div>\n",
       "<style scoped>\n",
       "    .dataframe tbody tr th:only-of-type {\n",
       "        vertical-align: middle;\n",
       "    }\n",
       "\n",
       "    .dataframe tbody tr th {\n",
       "        vertical-align: top;\n",
       "    }\n",
       "\n",
       "    .dataframe thead th {\n",
       "        text-align: right;\n",
       "    }\n",
       "</style>\n",
       "<table border=\"1\" class=\"dataframe\">\n",
       "  <thead>\n",
       "    <tr style=\"text-align: right;\">\n",
       "      <th></th>\n",
       "      <th>person_id</th>\n",
       "      <th>primary_name</th>\n",
       "      <th>birth_year</th>\n",
       "      <th>death_year</th>\n",
       "      <th>primary_profession</th>\n",
       "    </tr>\n",
       "  </thead>\n",
       "  <tbody>\n",
       "    <tr>\n",
       "      <th>0</th>\n",
       "      <td>nm0061671</td>\n",
       "      <td>Mary Ellen Bauder</td>\n",
       "      <td>None</td>\n",
       "      <td>None</td>\n",
       "      <td>miscellaneous,production_manager,producer</td>\n",
       "    </tr>\n",
       "    <tr>\n",
       "      <th>1</th>\n",
       "      <td>nm0061865</td>\n",
       "      <td>Joseph Bauer</td>\n",
       "      <td>None</td>\n",
       "      <td>None</td>\n",
       "      <td>composer,music_department,sound_department</td>\n",
       "    </tr>\n",
       "  </tbody>\n",
       "</table>\n",
       "</div>"
      ],
      "text/plain": [
       "   person_id       primary_name birth_year death_year  \\\n",
       "0  nm0061671  Mary Ellen Bauder       None       None   \n",
       "1  nm0061865       Joseph Bauer       None       None   \n",
       "\n",
       "                           primary_profession  \n",
       "0   miscellaneous,production_manager,producer  \n",
       "1  composer,music_department,sound_department  "
      ]
     },
     "execution_count": 10,
     "metadata": {},
     "output_type": "execute_result"
    }
   ],
   "source": [
    "pd.read_sql(\"\"\"SELECT * FROM persons LIMIT 2\"\"\",conn)"
   ]
  },
  {
   "cell_type": "code",
   "execution_count": 11,
   "metadata": {},
   "outputs": [
    {
     "data": {
      "text/html": [
       "<div>\n",
       "<style scoped>\n",
       "    .dataframe tbody tr th:only-of-type {\n",
       "        vertical-align: middle;\n",
       "    }\n",
       "\n",
       "    .dataframe tbody tr th {\n",
       "        vertical-align: top;\n",
       "    }\n",
       "\n",
       "    .dataframe thead th {\n",
       "        text-align: right;\n",
       "    }\n",
       "</style>\n",
       "<table border=\"1\" class=\"dataframe\">\n",
       "  <thead>\n",
       "    <tr style=\"text-align: right;\">\n",
       "      <th></th>\n",
       "      <th>movie_id</th>\n",
       "      <th>ordering</th>\n",
       "      <th>person_id</th>\n",
       "      <th>category</th>\n",
       "      <th>job</th>\n",
       "      <th>characters</th>\n",
       "    </tr>\n",
       "  </thead>\n",
       "  <tbody>\n",
       "    <tr>\n",
       "      <th>0</th>\n",
       "      <td>tt0111414</td>\n",
       "      <td>1</td>\n",
       "      <td>nm0246005</td>\n",
       "      <td>actor</td>\n",
       "      <td>None</td>\n",
       "      <td>[\"The Man\"]</td>\n",
       "    </tr>\n",
       "    <tr>\n",
       "      <th>1</th>\n",
       "      <td>tt0111414</td>\n",
       "      <td>2</td>\n",
       "      <td>nm0398271</td>\n",
       "      <td>director</td>\n",
       "      <td>None</td>\n",
       "      <td>None</td>\n",
       "    </tr>\n",
       "  </tbody>\n",
       "</table>\n",
       "</div>"
      ],
      "text/plain": [
       "    movie_id  ordering  person_id  category   job   characters\n",
       "0  tt0111414         1  nm0246005     actor  None  [\"The Man\"]\n",
       "1  tt0111414         2  nm0398271  director  None         None"
      ]
     },
     "execution_count": 11,
     "metadata": {},
     "output_type": "execute_result"
    }
   ],
   "source": [
    "pd.read_sql(\"\"\"SELECT * FROM principals LIMIT 2\"\"\",conn)"
   ]
  },
  {
   "cell_type": "code",
   "execution_count": 12,
   "metadata": {},
   "outputs": [
    {
     "data": {
      "text/html": [
       "<div>\n",
       "<style scoped>\n",
       "    .dataframe tbody tr th:only-of-type {\n",
       "        vertical-align: middle;\n",
       "    }\n",
       "\n",
       "    .dataframe tbody tr th {\n",
       "        vertical-align: top;\n",
       "    }\n",
       "\n",
       "    .dataframe thead th {\n",
       "        text-align: right;\n",
       "    }\n",
       "</style>\n",
       "<table border=\"1\" class=\"dataframe\">\n",
       "  <thead>\n",
       "    <tr style=\"text-align: right;\">\n",
       "      <th></th>\n",
       "      <th>movie_id</th>\n",
       "      <th>person_id</th>\n",
       "    </tr>\n",
       "  </thead>\n",
       "  <tbody>\n",
       "    <tr>\n",
       "      <th>0</th>\n",
       "      <td>tt0285252</td>\n",
       "      <td>nm0899854</td>\n",
       "    </tr>\n",
       "    <tr>\n",
       "      <th>1</th>\n",
       "      <td>tt0438973</td>\n",
       "      <td>nm0175726</td>\n",
       "    </tr>\n",
       "  </tbody>\n",
       "</table>\n",
       "</div>"
      ],
      "text/plain": [
       "    movie_id  person_id\n",
       "0  tt0285252  nm0899854\n",
       "1  tt0438973  nm0175726"
      ]
     },
     "execution_count": 12,
     "metadata": {},
     "output_type": "execute_result"
    }
   ],
   "source": [
    "pd.read_sql(\"\"\"SELECT * FROM writers LIMIT 2\"\"\",conn)"
   ]
  },
  {
   "cell_type": "markdown",
   "metadata": {},
   "source": [
    "Based on this preliminary exploration, we can evaluate the content of every table within thew database, creating tin that way one solely chart that will have all we need for further exploration"
   ]
  },
  {
   "cell_type": "markdown",
   "metadata": {},
   "source": [
    "We're going to evaluate what makes a movie win awards, so let's dive in what we need from each table.\n",
    "\n",
    "movie_basics: We need the name of the movie, the runtime in minutes thast it playead and the genres, we decided to keep both the primary and the original name, to evaluate later which one is easire to pair the other dataframes with\n",
    "\n",
    "directors: We're going to add the director of each movie.\n",
    "\n",
    "known_for: We don't find any relevant information to add.\n",
    "\n",
    "movie_akas: We don;t find any relevant information to add.\n",
    "\n",
    "movie_ratings: We might want to see if there's any correlation in the awards and the rating and votes they get.\n",
    "\n",
    "persons: We need the name of the directors of our movies, We also want to know if the person is still alive\n",
    "\n",
    "principal: Having found above the relevant information about the directors, we don't need the information about them.\n",
    "\n",
    "writers: We don't find any relevant information to add."
   ]
  },
  {
   "cell_type": "markdown",
   "metadata": {
    "jp-MarkdownHeadingCollapsed": true
   },
   "source": [
    "### Movie_ratings\n",
    "\n",
    "We're evaluating if the amount of votes will be a necessary value to keep, we plot an histogram on a logaritmic scale."
   ]
  },
  {
   "cell_type": "code",
   "execution_count": 13,
   "metadata": {},
   "outputs": [
    {
     "name": "stdout",
     "output_type": "stream",
     "text": [
      "This Column has a mean of 3523.66 a median of 49.0 and a standard deviation of 30294.02, is not worth to keep, is far from normally distributed\n"
     ]
    },
    {
     "data": {
      "image/png": "[encoded data removed]",
      "text/plain": [
       "<Figure size 640x480 with 1 Axes>"
      ]
     },
     "metadata": {},
     "output_type": "display_data"
    }
   ],
   "source": [
    "votes = pd.read_sql(\"\"\"SELECT * FROM movie_ratings \"\"\",conn)['numvotes']\n",
    "plt.hist(votes, log=True);\n",
    "plt.title('Logaritmic scale of ocurrences of votes');\n",
    "print(f\"This Column has a mean of {round(votes.mean(),2)} a median of {votes.median()} and a \\\n",
    "standard deviation of {round(votes.std(),2)}, is not worth to keep, is far from normally distributed\")"
   ]
  },
  {
   "cell_type": "markdown",
   "metadata": {},
   "source": [
    "Now on the average rating, we evaluate the distribution."
   ]
  },
  {
   "cell_type": "code",
   "execution_count": 14,
   "metadata": {},
   "outputs": [
    {
     "data": {
      "image/png": "[encoded data removed]",
      "text/plain": [
       "<Figure size 640x480 with 1 Axes>"
      ]
     },
     "metadata": {},
     "output_type": "display_data"
    }
   ],
   "source": [
    "rating = pd.read_sql(\"\"\"SELECT * FROM movie_ratings\"\"\",conn)['averagerating']\n",
    "plt.hist(rating, bins=15);\n",
    "plt.title('Distribution of rating on Movies');"
   ]
  },
  {
   "cell_type": "markdown",
   "metadata": {},
   "source": [
    "We notice that the average rating has a normal distribution, we're going to keep it for further analysis."
   ]
  },
  {
   "cell_type": "markdown",
   "metadata": {
    "jp-MarkdownHeadingCollapsed": true
   },
   "source": [
    "## Creating the Query to extract the desired DataFrame"
   ]
  },
  {
   "cell_type": "code",
   "execution_count": 15,
   "metadata": {},
   "outputs": [],
   "source": [
    "#Creating a Query for this database to Extract the Desired Data From it\n",
    "\n",
    "imdb = pd.read_sql(\"\"\"\n",
    "SELECT primary_title, original_title, start_year, runtime_minutes, primary_name AS director_name, death_year, averagerating, genres\n",
    "FROM movie_basics\n",
    "LEFT JOIN directors USING(movie_id)\n",
    "LEFT JOIN persons USING(person_id)\n",
    "LEFT JOIN movie_ratings USING(movie_id)\n",
    "GROUP BY movie_id\n",
    "\"\"\",conn)"
   ]
  },
  {
   "cell_type": "markdown",
   "metadata": {
    "jp-MarkdownHeadingCollapsed": true
   },
   "source": [
    "## Dealing with the Genre"
   ]
  },
  {
   "cell_type": "markdown",
   "metadata": {},
   "source": [
    "As we notice above, the genres column has more than one value per movie, that'd make it hard to analyze going forward. We decided isntead to created columns for the different genres and assign a binary value in case the movie falls into that specific genre."
   ]
  },
  {
   "cell_type": "code",
   "execution_count": 16,
   "metadata": {},
   "outputs": [],
   "source": [
    "#We make sure that every row has a value in the genre column.\n",
    "imdb = imdb.drop_duplicates(subset=['primary_title'])\n",
    "imdb['genres'].fillna('No Genre', inplace=True)\n",
    "# Split the 'genres' column into a list of genres and then explode them into separate rows\n",
    "imdb['genres'] = imdb['genres'].str.split(',')\n",
    "imdb = imdb.explode('genres')\n",
    "# Create binary indicators for each genre\n",
    "for genre in imdb['genres'].dropna().unique():\n",
    "    imdb[genre] = imdb['genres'].str.contains(genre).astype(int)\n",
    "# Drop the original genres column\n",
    "imdb.drop(columns=['genres'], inplace=True)"
   ]
  },
  {
   "cell_type": "markdown",
   "metadata": {},
   "source": [
    "That made what we needed, but now we have as many rows per movie as genres they're in, we need to consolidate them"
   ]
  },
  {
   "cell_type": "code",
   "execution_count": 17,
   "metadata": {},
   "outputs": [],
   "source": [
    "# Separate what are \"genres column\" from \"non genres column\"\n",
    "non_genre_columns = ['primary_title', 'original_title','start_year','runtime_minutes','director_name','death_year','averagerating']\n",
    "genre_columns = imdb.columns.difference(non_genre_columns)\n",
    "# Group by 'primary_title' and sum the genre columns\n",
    "genres_consolidated = imdb.groupby('primary_title', as_index=False)[genre_columns].sum()\n",
    "\n",
    "#Merging all the columns together\n",
    "imdb = pd.merge(imdb[non_genre_columns], genres_consolidated, on='primary_title')\n",
    "#Elimintating duplicates based on primary_title\n",
    "imdb = imdb.drop_duplicates(subset=['primary_title'])\n",
    "imdb.reset_index(drop=True, inplace=True)"
   ]
  },
  {
   "cell_type": "markdown",
   "metadata": {},
   "source": [
    "### Dealing with null values"
   ]
  },
  {
   "cell_type": "code",
   "execution_count": 18,
   "metadata": {},
   "outputs": [
    {
     "data": {
      "text/plain": [
       "Action\n",
       "0    126541\n",
       "1      9530\n",
       "Name: count, dtype: int64"
      ]
     },
     "execution_count": 18,
     "metadata": {},
     "output_type": "execute_result"
    }
   ],
   "source": [
    "imdb['Action'].value_counts()"
   ]
  },
  {
   "cell_type": "code",
   "execution_count": 19,
   "metadata": {},
   "outputs": [],
   "source": [
    "#If we don't have the original_title, we'll just keep the primary_title.\n",
    "imdb['original_title'].fillna(imdb['primary_title'], inplace=True)\n",
    "#For runtime_minutes and death_year, we'll use 0 as a placeholder value\n",
    "imdb['runtime_minutes'].fillna(0, inplace=True)\n",
    "imdb['death_year'].fillna(0, inplace=True)\n",
    "#For directors, we'll replace with 'Unknown'\n",
    "imdb['director_name'].fillna('Unknown',inplace=True)\n",
    "#For the averagerating we decided to fill the null values with the median.\n",
    "imdb['averagerating'].fillna(imdb['averagerating'].median(),inplace=True)\n",
    "\n"
   ]
  },
  {
   "cell_type": "code",
   "execution_count": 20,
   "metadata": {},
   "outputs": [
    {
     "data": {
      "text/plain": [
       "Adventure\n",
       "0    129967\n",
       "1      6104\n",
       "Name: count, dtype: int64"
      ]
     },
     "execution_count": 20,
     "metadata": {},
     "output_type": "execute_result"
    }
   ],
   "source": [
    "imdb['Adventure'].value_counts()"
   ]
  },
  {
   "cell_type": "markdown",
   "metadata": {
    "jp-MarkdownHeadingCollapsed": true
   },
   "source": [
    "## Movie_gross\n",
    "Since we're going to work only with US based awards, we're going to focus on domestic gross rather than foreign_gross.\n",
    "\n",
    "We drop all the columns and rows that we don't need or are irrelevant for our analysis."
   ]
  },
  {
   "cell_type": "code",
   "execution_count": 21,
   "metadata": {},
   "outputs": [
    {
     "name": "stdout",
     "output_type": "stream",
     "text": [
      "<class 'pandas.core.frame.DataFrame'>\n",
      "Index: 3359 entries, 0 to 3386\n",
      "Data columns (total 2 columns):\n",
      " #   Column          Non-Null Count  Dtype  \n",
      "---  ------          --------------  -----  \n",
      " 0   title           3359 non-null   object \n",
      " 1   domestic_gross  3359 non-null   float64\n",
      "dtypes: float64(1), object(1)\n",
      "memory usage: 78.7+ KB\n"
     ]
    }
   ],
   "source": [
    "#Dropping unnecessary columns and rows\n",
    "movie_gross.drop(columns=['studio','year','foreign_gross'],inplace=True)\n",
    "movie_gross.dropna(axis=0, inplace=True)\n",
    "movie_gross.info()"
   ]
  },
  {
   "cell_type": "markdown",
   "metadata": {
    "jp-MarkdownHeadingCollapsed": true
   },
   "source": [
    "## TMDB movies"
   ]
  },
  {
   "cell_type": "code",
   "execution_count": 22,
   "metadata": {},
   "outputs": [
    {
     "name": "stdout",
     "output_type": "stream",
     "text": [
      "<class 'pandas.core.frame.DataFrame'>\n",
      "RangeIndex: 26517 entries, 0 to 26516\n",
      "Data columns (total 10 columns):\n",
      " #   Column             Non-Null Count  Dtype  \n",
      "---  ------             --------------  -----  \n",
      " 0   Unnamed: 0         26517 non-null  int64  \n",
      " 1   genre_ids          26517 non-null  object \n",
      " 2   id                 26517 non-null  int64  \n",
      " 3   original_language  26517 non-null  object \n",
      " 4   original_title     26517 non-null  object \n",
      " 5   popularity         26517 non-null  float64\n",
      " 6   release_date       26517 non-null  object \n",
      " 7   title              26517 non-null  object \n",
      " 8   vote_average       26517 non-null  float64\n",
      " 9   vote_count         26517 non-null  int64  \n",
      "dtypes: float64(2), int64(3), object(5)\n",
      "memory usage: 2.0+ MB\n"
     ]
    }
   ],
   "source": [
    "tmdb_movies.info()"
   ]
  },
  {
   "cell_type": "code",
   "execution_count": 23,
   "metadata": {},
   "outputs": [
    {
     "data": {
      "text/html": [
       "<div>\n",
       "<style scoped>\n",
       "    .dataframe tbody tr th:only-of-type {\n",
       "        vertical-align: middle;\n",
       "    }\n",
       "\n",
       "    .dataframe tbody tr th {\n",
       "        vertical-align: top;\n",
       "    }\n",
       "\n",
       "    .dataframe thead th {\n",
       "        text-align: right;\n",
       "    }\n",
       "</style>\n",
       "<table border=\"1\" class=\"dataframe\">\n",
       "  <thead>\n",
       "    <tr style=\"text-align: right;\">\n",
       "      <th></th>\n",
       "      <th>Unnamed: 0</th>\n",
       "      <th>genre_ids</th>\n",
       "      <th>id</th>\n",
       "      <th>original_language</th>\n",
       "      <th>original_title</th>\n",
       "      <th>popularity</th>\n",
       "      <th>release_date</th>\n",
       "      <th>title</th>\n",
       "      <th>vote_average</th>\n",
       "      <th>vote_count</th>\n",
       "    </tr>\n",
       "  </thead>\n",
       "  <tbody>\n",
       "    <tr>\n",
       "      <th>0</th>\n",
       "      <td>0</td>\n",
       "      <td>[12, 14, 10751]</td>\n",
       "      <td>12444</td>\n",
       "      <td>en</td>\n",
       "      <td>Harry Potter and the Deathly Hallows: Part 1</td>\n",
       "      <td>33.533</td>\n",
       "      <td>2010-11-19</td>\n",
       "      <td>Harry Potter and the Deathly Hallows: Part 1</td>\n",
       "      <td>7.7</td>\n",
       "      <td>10788</td>\n",
       "    </tr>\n",
       "    <tr>\n",
       "      <th>1</th>\n",
       "      <td>1</td>\n",
       "      <td>[14, 12, 16, 10751]</td>\n",
       "      <td>10191</td>\n",
       "      <td>en</td>\n",
       "      <td>How to Train Your Dragon</td>\n",
       "      <td>28.734</td>\n",
       "      <td>2010-03-26</td>\n",
       "      <td>How to Train Your Dragon</td>\n",
       "      <td>7.7</td>\n",
       "      <td>7610</td>\n",
       "    </tr>\n",
       "    <tr>\n",
       "      <th>2</th>\n",
       "      <td>2</td>\n",
       "      <td>[12, 28, 878]</td>\n",
       "      <td>10138</td>\n",
       "      <td>en</td>\n",
       "      <td>Iron Man 2</td>\n",
       "      <td>28.515</td>\n",
       "      <td>2010-05-07</td>\n",
       "      <td>Iron Man 2</td>\n",
       "      <td>6.8</td>\n",
       "      <td>12368</td>\n",
       "    </tr>\n",
       "    <tr>\n",
       "      <th>3</th>\n",
       "      <td>3</td>\n",
       "      <td>[16, 35, 10751]</td>\n",
       "      <td>862</td>\n",
       "      <td>en</td>\n",
       "      <td>Toy Story</td>\n",
       "      <td>28.005</td>\n",
       "      <td>1995-11-22</td>\n",
       "      <td>Toy Story</td>\n",
       "      <td>7.9</td>\n",
       "      <td>10174</td>\n",
       "    </tr>\n",
       "    <tr>\n",
       "      <th>4</th>\n",
       "      <td>4</td>\n",
       "      <td>[28, 878, 12]</td>\n",
       "      <td>27205</td>\n",
       "      <td>en</td>\n",
       "      <td>Inception</td>\n",
       "      <td>27.920</td>\n",
       "      <td>2010-07-16</td>\n",
       "      <td>Inception</td>\n",
       "      <td>8.3</td>\n",
       "      <td>22186</td>\n",
       "    </tr>\n",
       "  </tbody>\n",
       "</table>\n",
       "</div>"
      ],
      "text/plain": [
       "   Unnamed: 0            genre_ids     id original_language  \\\n",
       "0           0      [12, 14, 10751]  12444                en   \n",
       "1           1  [14, 12, 16, 10751]  10191                en   \n",
       "2           2        [12, 28, 878]  10138                en   \n",
       "3           3      [16, 35, 10751]    862                en   \n",
       "4           4        [28, 878, 12]  27205                en   \n",
       "\n",
       "                                 original_title  popularity release_date  \\\n",
       "0  Harry Potter and the Deathly Hallows: Part 1      33.533   2010-11-19   \n",
       "1                      How to Train Your Dragon      28.734   2010-03-26   \n",
       "2                                    Iron Man 2      28.515   2010-05-07   \n",
       "3                                     Toy Story      28.005   1995-11-22   \n",
       "4                                     Inception      27.920   2010-07-16   \n",
       "\n",
       "                                          title  vote_average  vote_count  \n",
       "0  Harry Potter and the Deathly Hallows: Part 1           7.7       10788  \n",
       "1                      How to Train Your Dragon           7.7        7610  \n",
       "2                                    Iron Man 2           6.8       12368  \n",
       "3                                     Toy Story           7.9       10174  \n",
       "4                                     Inception           8.3       22186  "
      ]
     },
     "execution_count": 23,
     "metadata": {},
     "output_type": "execute_result"
    }
   ],
   "source": [
    "tmdb_movies.head()"
   ]
  },
  {
   "cell_type": "code",
   "execution_count": 24,
   "metadata": {},
   "outputs": [],
   "source": [
    "#Keeping just the release year instead of the full date\n",
    "tmdb_movies['release_year'] = tmdb_movies['release_date'].str[:4]\n",
    "# drop unnecessary columns\n",
    "tmdb_movies.drop(columns=['Unnamed: 0','original_language','popularity','vote_average','vote_count','release_date'],inplace=True)\n",
    "# Keep just the year inthe release date"
   ]
  },
  {
   "cell_type": "markdown",
   "metadata": {
    "jp-MarkdownHeadingCollapsed": true
   },
   "source": [
    "## Genre unification\n",
    "In this dataframe, the Genre column was identified just as ids. Founding online a dictionary with the corresponding Genre by map.\n",
    "We're able to replace the numbers by the actual genre name.\n",
    "\n",
    "After doing this, we found the same issue that on our IMBD database, having the genres combined instead of separated. Therefore, we create a new set of columns for the genres with binary values if the movie belongs to it"
   ]
  },
  {
   "cell_type": "code",
   "execution_count": 25,
   "metadata": {},
   "outputs": [],
   "source": [
    "genre_mapping = {12: 'Adventure',\n",
    "                 14: 'Fantasy',     \n",
    "                 16: 'Animation',     \n",
    "                 18: 'Drama',     \n",
    "                 27: 'Horror',     \n",
    "                 28: 'Action',     \n",
    "                 35: 'Comedy',     \n",
    "                 36: 'History',     \n",
    "                 37: 'Western',     \n",
    "                 53: 'Thriller',     \n",
    "                 80: 'Crime',     \n",
    "                 99: 'Documentary',     \n",
    "                 9648: 'Mystery',     \n",
    "                 10402: 'Music',     \n",
    "                 10749: 'Romance',     \n",
    "                 10751: 'Family',     \n",
    "                 10752: 'War',     \n",
    "                 10770: 'TV Movie',     \n",
    "                 878: 'Science Fiction'} \n",
    "\n",
    "def map_genre_ids(ids_str):\n",
    "    ids = eval(ids_str)\n",
    "    genres = [genre_mapping.get(id, 'Unknown') for id in ids]\n",
    "    return ','.join(genres)\n",
    "    \n",
    "tmdb_movies['genres'] = tmdb_movies['genre_ids'].apply(map_genre_ids)\n",
    "tmdb_movies.drop(columns='genre_ids',inplace=True)\n",
    "tmdb_movies.loc[tmdb_movies['genres'] == '', 'genres'] = 'Unknown'"
   ]
  },
  {
   "cell_type": "code",
   "execution_count": 26,
   "metadata": {},
   "outputs": [],
   "source": [
    "#We make sure that every row has a value in the genre column.\n",
    "tmdb_movies = tmdb_movies.drop_duplicates(subset=['id'])\n",
    "\n",
    "# Split the 'genres' column into a list of genres and then explode them into separate rows\n",
    "tmdb_movies['genres'] = tmdb_movies['genres'].str.split(',')\n",
    "\n",
    "tmdb_movies = tmdb_movies.explode('genres')\n",
    "\n",
    "# Create binary indicators for each genre\n",
    "for genre in tmdb_movies['genres'].dropna().unique():\n",
    "    tmdb_movies[genre] = tmdb_movies['genres'].str.contains(genre).astype(int)\n",
    "# Drop the original genres column\n",
    "tmdb_movies.drop(columns=['genres'], inplace=True)\n",
    "\n",
    "# Separate what are \"genres column\" from \"non genres column\"\n",
    "non_genre_columns = ['id','original_title','title','release_year']\n",
    "genre_columns = tmdb_movies.columns.difference(non_genre_columns)\n",
    "# Group by 'primary_title' and sum the genre columns\n",
    "genres_consolidated = tmdb_movies.groupby('id', as_index=False)[genre_columns].sum()\n",
    "\n",
    "#Merging all the columns together\n",
    "tmdb_movies = pd.merge(tmdb_movies[non_genre_columns], genres_consolidated, on='id')\n",
    "#Elimintating duplicates based on primary_title\n",
    "tmdb_movies = tmdb_movies.drop_duplicates(subset=['id'])\n",
    "tmdb_movies.reset_index(drop=True, inplace=True)"
   ]
  },
  {
   "cell_type": "markdown",
   "metadata": {
    "jp-MarkdownHeadingCollapsed": true
   },
   "source": [
    "## Movie_budgets"
   ]
  },
  {
   "cell_type": "code",
   "execution_count": 27,
   "metadata": {},
   "outputs": [
    {
     "data": {
      "text/html": [
       "<div>\n",
       "<style scoped>\n",
       "    .dataframe tbody tr th:only-of-type {\n",
       "        vertical-align: middle;\n",
       "    }\n",
       "\n",
       "    .dataframe tbody tr th {\n",
       "        vertical-align: top;\n",
       "    }\n",
       "\n",
       "    .dataframe thead th {\n",
       "        text-align: right;\n",
       "    }\n",
       "</style>\n",
       "<table border=\"1\" class=\"dataframe\">\n",
       "  <thead>\n",
       "    <tr style=\"text-align: right;\">\n",
       "      <th></th>\n",
       "      <th>id</th>\n",
       "      <th>release_date</th>\n",
       "      <th>movie</th>\n",
       "      <th>production_budget</th>\n",
       "      <th>domestic_gross</th>\n",
       "      <th>worldwide_gross</th>\n",
       "      <th>worldwide_gross/production_budget</th>\n",
       "      <th>domestic_gross/production_budget</th>\n",
       "    </tr>\n",
       "  </thead>\n",
       "  <tbody>\n",
       "    <tr>\n",
       "      <th>0</th>\n",
       "      <td>1</td>\n",
       "      <td>Dec 18, 2009</td>\n",
       "      <td>Avatar</td>\n",
       "      <td>425000000</td>\n",
       "      <td>760507625</td>\n",
       "      <td>2776345279</td>\n",
       "      <td>6.532577</td>\n",
       "      <td>1.78943</td>\n",
       "    </tr>\n",
       "  </tbody>\n",
       "</table>\n",
       "</div>"
      ],
      "text/plain": [
       "   id  release_date   movie  production_budget  domestic_gross  \\\n",
       "0   1  Dec 18, 2009  Avatar          425000000       760507625   \n",
       "\n",
       "   worldwide_gross  worldwide_gross/production_budget  \\\n",
       "0       2776345279                           6.532577   \n",
       "\n",
       "   domestic_gross/production_budget  \n",
       "0                           1.78943  "
      ]
     },
     "execution_count": 27,
     "metadata": {},
     "output_type": "execute_result"
    }
   ],
   "source": [
    "#converting columns from string to numeric data types\n",
    "columns_to_convert = ['worldwide_gross', 'production_budget', 'domestic_gross']\n",
    "for col in columns_to_convert:\n",
    "    movie_budgets[col] = pd.to_numeric(movie_budgets[col].str.replace('[$,]', '', regex=True), errors='coerce')\n",
    "#creating a new column for worldwide_gross/production_budget measuring the amount made vs the amount spent\n",
    "movie_budgets['worldwide_gross/production_budget'] = movie_budgets['worldwide_gross']/movie_budgets['production_budget']\n",
    "#doing the same but for domestic gross\n",
    "movie_budgets['domestic_gross/production_budget'] = movie_budgets['domestic_gross']/movie_budgets['production_budget']\n",
    "#checking that it worked\n",
    "movie_budgets.head(1)"
   ]
  },
  {
   "cell_type": "markdown",
   "metadata": {},
   "source": [
    "## Awards Database\n",
    "\n",
    "Since we're trying to figure out which movies provide the most awards, we got access to a Database of the golge globe Awards from 1944 to 2020.\n",
    "\n",
    "We'll try to explore the data to determine which factors make a movie worth of awards"
   ]
  },
  {
   "cell_type": "code",
   "execution_count": 287,
   "metadata": {},
   "outputs": [],
   "source": [
    "#Import the Golden Globe Database\n",
    "golden_globe_awards = pd.read_csv('golden_globe_awards.csv')"
   ]
  },
  {
   "cell_type": "markdown",
   "metadata": {},
   "source": [
    "### Exploring the data"
   ]
  },
  {
   "cell_type": "code",
   "execution_count": 288,
   "metadata": {},
   "outputs": [
    {
     "data": {
      "text/html": [
       "<div>\n",
       "<style scoped>\n",
       "    .dataframe tbody tr th:only-of-type {\n",
       "        vertical-align: middle;\n",
       "    }\n",
       "\n",
       "    .dataframe tbody tr th {\n",
       "        vertical-align: top;\n",
       "    }\n",
       "\n",
       "    .dataframe thead th {\n",
       "        text-align: right;\n",
       "    }\n",
       "</style>\n",
       "<table border=\"1\" class=\"dataframe\">\n",
       "  <thead>\n",
       "    <tr style=\"text-align: right;\">\n",
       "      <th></th>\n",
       "      <th>year_film</th>\n",
       "      <th>year_award</th>\n",
       "      <th>ceremony</th>\n",
       "      <th>category</th>\n",
       "      <th>nominee</th>\n",
       "      <th>film</th>\n",
       "      <th>win</th>\n",
       "    </tr>\n",
       "  </thead>\n",
       "  <tbody>\n",
       "    <tr>\n",
       "      <th>0</th>\n",
       "      <td>1943</td>\n",
       "      <td>1944</td>\n",
       "      <td>1</td>\n",
       "      <td>Best Performance by an Actress in a Supporting...</td>\n",
       "      <td>Katina Paxinou</td>\n",
       "      <td>For Whom The Bell Tolls</td>\n",
       "      <td>True</td>\n",
       "    </tr>\n",
       "    <tr>\n",
       "      <th>1</th>\n",
       "      <td>1943</td>\n",
       "      <td>1944</td>\n",
       "      <td>1</td>\n",
       "      <td>Best Performance by an Actor in a Supporting R...</td>\n",
       "      <td>Akim Tamiroff</td>\n",
       "      <td>For Whom The Bell Tolls</td>\n",
       "      <td>True</td>\n",
       "    </tr>\n",
       "    <tr>\n",
       "      <th>2</th>\n",
       "      <td>1943</td>\n",
       "      <td>1944</td>\n",
       "      <td>1</td>\n",
       "      <td>Best Director - Motion Picture</td>\n",
       "      <td>Henry King</td>\n",
       "      <td>The Song Of Bernadette</td>\n",
       "      <td>True</td>\n",
       "    </tr>\n",
       "    <tr>\n",
       "      <th>3</th>\n",
       "      <td>1943</td>\n",
       "      <td>1944</td>\n",
       "      <td>1</td>\n",
       "      <td>Picture</td>\n",
       "      <td>The Song Of Bernadette</td>\n",
       "      <td>NaN</td>\n",
       "      <td>True</td>\n",
       "    </tr>\n",
       "    <tr>\n",
       "      <th>4</th>\n",
       "      <td>1943</td>\n",
       "      <td>1944</td>\n",
       "      <td>1</td>\n",
       "      <td>Actress In A Leading Role</td>\n",
       "      <td>Jennifer Jones</td>\n",
       "      <td>The Song Of Bernadette</td>\n",
       "      <td>True</td>\n",
       "    </tr>\n",
       "  </tbody>\n",
       "</table>\n",
       "</div>"
      ],
      "text/plain": [
       "   year_film  year_award  ceremony  \\\n",
       "0       1943        1944         1   \n",
       "1       1943        1944         1   \n",
       "2       1943        1944         1   \n",
       "3       1943        1944         1   \n",
       "4       1943        1944         1   \n",
       "\n",
       "                                            category                 nominee  \\\n",
       "0  Best Performance by an Actress in a Supporting...          Katina Paxinou   \n",
       "1  Best Performance by an Actor in a Supporting R...           Akim Tamiroff   \n",
       "2                     Best Director - Motion Picture              Henry King   \n",
       "3                                            Picture  The Song Of Bernadette   \n",
       "4                          Actress In A Leading Role          Jennifer Jones   \n",
       "\n",
       "                      film   win  \n",
       "0  For Whom The Bell Tolls  True  \n",
       "1  For Whom The Bell Tolls  True  \n",
       "2   The Song Of Bernadette  True  \n",
       "3                      NaN  True  \n",
       "4   The Song Of Bernadette  True  "
      ]
     },
     "execution_count": 288,
     "metadata": {},
     "output_type": "execute_result"
    }
   ],
   "source": [
    "golden_globe_awards.head()"
   ]
  },
  {
   "cell_type": "code",
   "execution_count": 289,
   "metadata": {},
   "outputs": [
    {
     "name": "stdout",
     "output_type": "stream",
     "text": [
      "<class 'pandas.core.frame.DataFrame'>\n",
      "RangeIndex: 7991 entries, 0 to 7990\n",
      "Data columns (total 7 columns):\n",
      " #   Column      Non-Null Count  Dtype \n",
      "---  ------      --------------  ----- \n",
      " 0   year_film   7991 non-null   int64 \n",
      " 1   year_award  7991 non-null   int64 \n",
      " 2   ceremony    7991 non-null   int64 \n",
      " 3   category    7991 non-null   object\n",
      " 4   nominee     7991 non-null   object\n",
      " 5   film        6191 non-null   object\n",
      " 6   win         7991 non-null   bool  \n",
      "dtypes: bool(1), int64(3), object(3)\n",
      "memory usage: 382.5+ KB\n"
     ]
    }
   ],
   "source": [
    "golden_globe_awards.info()"
   ]
  },
  {
   "cell_type": "code",
   "execution_count": 290,
   "metadata": {},
   "outputs": [],
   "source": [
    "#Keeping only the winners, and dropping unnecessary columns\n",
    "#When the nominee was the movie itself instead of an specific Crew member, the film cell was null.\n",
    "# Having the Name of the film in the 'nominee' column. We replace accordingly\n",
    "golden_globe_awards = golden_globe_awards.loc[golden_globe_awards['win'] == True]\n",
    "golden_globe_awards.drop(columns=['year_award','ceremony','win'],inplace=True)\n",
    "golden_globe_awards['film'] = golden_globe_awards['film'].fillna(golden_globe_awards['nominee'])"
   ]
  },
  {
   "cell_type": "code",
   "execution_count": 291,
   "metadata": {},
   "outputs": [],
   "source": [
    "#Removing awards not related to US movies\n",
    "golden_globe_awards = golden_globe_awards[~golden_globe_awards['category'].str.contains('Television')]\n",
    "golden_globe_awards = golden_globe_awards[~golden_globe_awards['category'].str.contains('Foreign')]"
   ]
  },
  {
   "cell_type": "code",
   "execution_count": 298,
   "metadata": {},
   "outputs": [
    {
     "data": {
      "text/plain": [
       "category\n",
       "Crew member      651\n",
       "Overall Movie    330\n",
       "Production       135\n",
       "Name: count, dtype: int64"
      ]
     },
     "execution_count": 298,
     "metadata": {},
     "output_type": "execute_result"
    }
   ],
   "source": [
    "golden_globe_awards['category'].value_counts()"
   ]
  },
  {
   "cell_type": "code",
   "execution_count": 297,
   "metadata": {},
   "outputs": [],
   "source": [
    "#Unifying categories to keep just the ones that include Crew's individual work, production type or the movie as a whole\n",
    "def cat_cleaner(char, cat):\n",
    "    for i in char:\n",
    "       golden_globe_awards.loc[golden_globe_awards['category'].str.contains(i,case=False), 'category'] = cat\n",
    "\n",
    "crew_member = ['actress','actor','director','new star']\n",
    "production = ['cinematography','screenplay','song','use of color']\n",
    "cat_cleaner(crew_member, 'Crew member')\n",
    "cat_cleaner(production, 'Production')\n",
    "cat_cleaner(overall_movie, 'Overall Movie')\n",
    "\n",
    "golden_globe_awards.loc[((golden_globe_awards['category'] != 'Crew member') & (golden_globe_awards['category'] != 'Production')), 'category'] = 'Overall Movie' "
   ]
  },
  {
   "cell_type": "code",
   "execution_count": 179,
   "metadata": {},
   "outputs": [
    {
     "data": {
      "text/plain": [
       "category\n",
       "Crew member      651\n",
       "Overall Movie    330\n",
       "Production       135\n",
       "Name: count, dtype: int64"
      ]
     },
     "execution_count": 179,
     "metadata": {},
     "output_type": "execute_result"
    }
   ],
   "source": [
    "golden_globe_awards['category'].value_counts()"
   ]
  },
  {
   "cell_type": "code",
   "execution_count": 180,
   "metadata": {},
   "outputs": [
    {
     "data": {
      "text/html": [
       "<div>\n",
       "<style scoped>\n",
       "    .dataframe tbody tr th:only-of-type {\n",
       "        vertical-align: middle;\n",
       "    }\n",
       "\n",
       "    .dataframe tbody tr th {\n",
       "        vertical-align: top;\n",
       "    }\n",
       "\n",
       "    .dataframe thead th {\n",
       "        text-align: right;\n",
       "    }\n",
       "</style>\n",
       "<table border=\"1\" class=\"dataframe\">\n",
       "  <thead>\n",
       "    <tr style=\"text-align: right;\">\n",
       "      <th></th>\n",
       "      <th>year_film</th>\n",
       "      <th>category</th>\n",
       "      <th>nominee</th>\n",
       "      <th>film</th>\n",
       "    </tr>\n",
       "  </thead>\n",
       "  <tbody>\n",
       "    <tr>\n",
       "      <th>0</th>\n",
       "      <td>1943</td>\n",
       "      <td>Crew member</td>\n",
       "      <td>Katina Paxinou</td>\n",
       "      <td>For Whom The Bell Tolls</td>\n",
       "    </tr>\n",
       "    <tr>\n",
       "      <th>1</th>\n",
       "      <td>1943</td>\n",
       "      <td>Crew member</td>\n",
       "      <td>Akim Tamiroff</td>\n",
       "      <td>For Whom The Bell Tolls</td>\n",
       "    </tr>\n",
       "    <tr>\n",
       "      <th>2</th>\n",
       "      <td>1943</td>\n",
       "      <td>Crew member</td>\n",
       "      <td>Henry King</td>\n",
       "      <td>The Song Of Bernadette</td>\n",
       "    </tr>\n",
       "    <tr>\n",
       "      <th>3</th>\n",
       "      <td>1943</td>\n",
       "      <td>Overall Movie</td>\n",
       "      <td>The Song Of Bernadette</td>\n",
       "      <td>The Song Of Bernadette</td>\n",
       "    </tr>\n",
       "    <tr>\n",
       "      <th>4</th>\n",
       "      <td>1943</td>\n",
       "      <td>Crew member</td>\n",
       "      <td>Jennifer Jones</td>\n",
       "      <td>The Song Of Bernadette</td>\n",
       "    </tr>\n",
       "  </tbody>\n",
       "</table>\n",
       "</div>"
      ],
      "text/plain": [
       "   year_film       category                 nominee                     film\n",
       "0       1943    Crew member          Katina Paxinou  For Whom The Bell Tolls\n",
       "1       1943    Crew member           Akim Tamiroff  For Whom The Bell Tolls\n",
       "2       1943    Crew member              Henry King   The Song Of Bernadette\n",
       "3       1943  Overall Movie  The Song Of Bernadette   The Song Of Bernadette\n",
       "4       1943    Crew member          Jennifer Jones   The Song Of Bernadette"
      ]
     },
     "execution_count": 180,
     "metadata": {},
     "output_type": "execute_result"
    }
   ],
   "source": [
    "golden_globe_awards.head()"
   ]
  },
  {
   "cell_type": "code",
   "execution_count": 183,
   "metadata": {},
   "outputs": [],
   "source": [
    "yearly = golden_globe_awards.groupby('year_film').count()"
   ]
  },
  {
   "cell_type": "code",
   "execution_count": 195,
   "metadata": {},
   "outputs": [
    {
     "data": {
      "image/png": "[encoded data removed]",
      "text/plain": [
       "<Figure size 640x480 with 1 Axes>"
      ]
     },
     "metadata": {},
     "output_type": "display_data"
    }
   ],
   "source": [
    "sns.set_style('darkgrid')\n",
    "sns.lineplot(x = yearly.index, y = yearly['category'])\n",
    "plt.title('Golden Globe Awards Per Year')\n",
    "plt.xlabel('Year')\n",
    "plt.ylabel('Number of Awards Granted');"
   ]
  },
  {
   "cell_type": "code",
   "execution_count": 206,
   "metadata": {},
   "outputs": [
    {
     "data": {
      "image/png": "[encoded data removed]",
      "text/plain": [
       "<Figure size 640x480 with 1 Axes>"
      ]
     },
     "metadata": {},
     "output_type": "display_data"
    }
   ],
   "source": [
    "golden_glob_categories = golden_globe_awards['category'].value_counts(normalize=True)\n",
    "sns.barplot(x = golden_glob_categories.index, y = golden_glob_categories)\n",
    "plt.title('Awards per Category')\n",
    "plt.xlabel('Category of the Award')\n",
    "plt.ylabel('% Of Awards');"
   ]
  },
  {
   "cell_type": "code",
   "execution_count": 212,
   "metadata": {},
   "outputs": [
    {
     "data": {
      "text/html": [
       "<div>\n",
       "<style scoped>\n",
       "    .dataframe tbody tr th:only-of-type {\n",
       "        vertical-align: middle;\n",
       "    }\n",
       "\n",
       "    .dataframe tbody tr th {\n",
       "        vertical-align: top;\n",
       "    }\n",
       "\n",
       "    .dataframe thead th {\n",
       "        text-align: right;\n",
       "    }\n",
       "</style>\n",
       "<table border=\"1\" class=\"dataframe\">\n",
       "  <thead>\n",
       "    <tr style=\"text-align: right;\">\n",
       "      <th></th>\n",
       "      <th>year_film</th>\n",
       "      <th>category</th>\n",
       "      <th>film</th>\n",
       "    </tr>\n",
       "    <tr>\n",
       "      <th>nominee</th>\n",
       "      <th></th>\n",
       "      <th></th>\n",
       "      <th></th>\n",
       "    </tr>\n",
       "  </thead>\n",
       "  <tbody>\n",
       "    <tr>\n",
       "      <th>Jane Fonda</th>\n",
       "      <td>7</td>\n",
       "      <td>7</td>\n",
       "      <td>7</td>\n",
       "    </tr>\n",
       "    <tr>\n",
       "      <th>Meryl Streep</th>\n",
       "      <td>7</td>\n",
       "      <td>7</td>\n",
       "      <td>7</td>\n",
       "    </tr>\n",
       "    <tr>\n",
       "      <th>Barbra Streisand</th>\n",
       "      <td>7</td>\n",
       "      <td>7</td>\n",
       "      <td>7</td>\n",
       "    </tr>\n",
       "    <tr>\n",
       "      <th>Jack Nicholson</th>\n",
       "      <td>6</td>\n",
       "      <td>6</td>\n",
       "      <td>6</td>\n",
       "    </tr>\n",
       "    <tr>\n",
       "      <th>Paul Newman</th>\n",
       "      <td>5</td>\n",
       "      <td>5</td>\n",
       "      <td>5</td>\n",
       "    </tr>\n",
       "    <tr>\n",
       "      <th>...</th>\n",
       "      <td>...</td>\n",
       "      <td>...</td>\n",
       "      <td>...</td>\n",
       "    </tr>\n",
       "    <tr>\n",
       "      <th>Godfather, The</th>\n",
       "      <td>1</td>\n",
       "      <td>1</td>\n",
       "      <td>1</td>\n",
       "    </tr>\n",
       "    <tr>\n",
       "      <th>Going My Way</th>\n",
       "      <td>1</td>\n",
       "      <td>1</td>\n",
       "      <td>1</td>\n",
       "    </tr>\n",
       "    <tr>\n",
       "      <th>Goldie Hawn</th>\n",
       "      <td>1</td>\n",
       "      <td>1</td>\n",
       "      <td>1</td>\n",
       "    </tr>\n",
       "    <tr>\n",
       "      <th>Goodbye Girl, The</th>\n",
       "      <td>1</td>\n",
       "      <td>1</td>\n",
       "      <td>1</td>\n",
       "    </tr>\n",
       "    <tr>\n",
       "      <th>Zootopia</th>\n",
       "      <td>1</td>\n",
       "      <td>1</td>\n",
       "      <td>1</td>\n",
       "    </tr>\n",
       "  </tbody>\n",
       "</table>\n",
       "<p>858 rows × 3 columns</p>\n",
       "</div>"
      ],
      "text/plain": [
       "                   year_film  category  film\n",
       "nominee                                     \n",
       "Jane Fonda                 7         7     7\n",
       "Meryl Streep               7         7     7\n",
       "Barbra Streisand           7         7     7\n",
       "Jack Nicholson             6         6     6\n",
       "Paul Newman                5         5     5\n",
       "...                      ...       ...   ...\n",
       "Godfather, The             1         1     1\n",
       "Going My Way               1         1     1\n",
       "Goldie Hawn                1         1     1\n",
       "Goodbye Girl, The          1         1     1\n",
       "Zootopia                   1         1     1\n",
       "\n",
       "[858 rows x 3 columns]"
      ]
     },
     "execution_count": 212,
     "metadata": {},
     "output_type": "execute_result"
    }
   ],
   "source": [
    "nominees = golden_globe_awards.groupby('nominee').count()\n",
    "nominees.sort_values(by='year_film', ascending=False)"
   ]
  },
  {
   "cell_type": "code",
   "execution_count": 214,
   "metadata": {},
   "outputs": [
    {
     "data": {
      "text/plain": [
       "81"
      ]
     },
     "execution_count": 214,
     "metadata": {},
     "output_type": "execute_result"
    }
   ],
   "source": [
    "nominees.index.isin(imdb['director_name']).sum()"
   ]
  },
  {
   "cell_type": "code",
   "execution_count": 215,
   "metadata": {},
   "outputs": [
    {
     "data": {
      "text/html": [
       "<div>\n",
       "<style scoped>\n",
       "    .dataframe tbody tr th:only-of-type {\n",
       "        vertical-align: middle;\n",
       "    }\n",
       "\n",
       "    .dataframe tbody tr th {\n",
       "        vertical-align: top;\n",
       "    }\n",
       "\n",
       "    .dataframe thead th {\n",
       "        text-align: right;\n",
       "    }\n",
       "</style>\n",
       "<table border=\"1\" class=\"dataframe\">\n",
       "  <thead>\n",
       "    <tr style=\"text-align: right;\">\n",
       "      <th></th>\n",
       "      <th>year_film</th>\n",
       "      <th>category</th>\n",
       "      <th>nominee</th>\n",
       "    </tr>\n",
       "    <tr>\n",
       "      <th>film</th>\n",
       "      <th></th>\n",
       "      <th></th>\n",
       "      <th></th>\n",
       "    </tr>\n",
       "  </thead>\n",
       "  <tbody>\n",
       "    <tr>\n",
       "      <th>12 Years a Slave</th>\n",
       "      <td>1</td>\n",
       "      <td>1</td>\n",
       "      <td>1</td>\n",
       "    </tr>\n",
       "    <tr>\n",
       "      <th>1917</th>\n",
       "      <td>2</td>\n",
       "      <td>2</td>\n",
       "      <td>2</td>\n",
       "    </tr>\n",
       "    <tr>\n",
       "      <th>5 Fingers</th>\n",
       "      <td>1</td>\n",
       "      <td>1</td>\n",
       "      <td>1</td>\n",
       "    </tr>\n",
       "    <tr>\n",
       "      <th>A Beautiful Mind</th>\n",
       "      <td>4</td>\n",
       "      <td>4</td>\n",
       "      <td>4</td>\n",
       "    </tr>\n",
       "    <tr>\n",
       "      <th>A Double Life</th>\n",
       "      <td>1</td>\n",
       "      <td>1</td>\n",
       "      <td>1</td>\n",
       "    </tr>\n",
       "    <tr>\n",
       "      <th>...</th>\n",
       "      <td>...</td>\n",
       "      <td>...</td>\n",
       "      <td>...</td>\n",
       "    </tr>\n",
       "    <tr>\n",
       "      <th>You Light Up My Life</th>\n",
       "      <td>1</td>\n",
       "      <td>1</td>\n",
       "      <td>1</td>\n",
       "    </tr>\n",
       "    <tr>\n",
       "      <th>Young Guns II</th>\n",
       "      <td>1</td>\n",
       "      <td>1</td>\n",
       "      <td>1</td>\n",
       "    </tr>\n",
       "    <tr>\n",
       "      <th>Youthquake</th>\n",
       "      <td>1</td>\n",
       "      <td>1</td>\n",
       "      <td>1</td>\n",
       "    </tr>\n",
       "    <tr>\n",
       "      <th>Zero Dark Thirty \\t</th>\n",
       "      <td>1</td>\n",
       "      <td>1</td>\n",
       "      <td>1</td>\n",
       "    </tr>\n",
       "    <tr>\n",
       "      <th>Zootopia</th>\n",
       "      <td>1</td>\n",
       "      <td>1</td>\n",
       "      <td>1</td>\n",
       "    </tr>\n",
       "  </tbody>\n",
       "</table>\n",
       "<p>745 rows × 3 columns</p>\n",
       "</div>"
      ],
      "text/plain": [
       "                      year_film  category  nominee\n",
       "film                                              \n",
       "12 Years a Slave              1         1        1\n",
       "1917                          2         2        2\n",
       "5 Fingers                     1         1        1\n",
       "A Beautiful Mind              4         4        4\n",
       "A Double Life                 1         1        1\n",
       "...                         ...       ...      ...\n",
       "You Light Up My Life          1         1        1\n",
       "Young Guns II                 1         1        1\n",
       "Youthquake                    1         1        1\n",
       "Zero Dark Thirty \\t           1         1        1\n",
       "Zootopia                      1         1        1\n",
       "\n",
       "[745 rows x 3 columns]"
      ]
     },
     "execution_count": 215,
     "metadata": {},
     "output_type": "execute_result"
    }
   ],
   "source": [
    "films = golden_globe_awards.groupby('film').count()\n",
    "films"
   ]
  },
  {
   "cell_type": "code",
   "execution_count": 219,
   "metadata": {},
   "outputs": [
    {
     "data": {
      "text/plain": [
       "164"
      ]
     },
     "execution_count": 219,
     "metadata": {},
     "output_type": "execute_result"
    }
   ],
   "source": [
    "films.index.isin(imdb['primary_title']).sum()"
   ]
  },
  {
   "cell_type": "code",
   "execution_count": 218,
   "metadata": {},
   "outputs": [
    {
     "data": {
      "text/html": [
       "<div>\n",
       "<style scoped>\n",
       "    .dataframe tbody tr th:only-of-type {\n",
       "        vertical-align: middle;\n",
       "    }\n",
       "\n",
       "    .dataframe tbody tr th {\n",
       "        vertical-align: top;\n",
       "    }\n",
       "\n",
       "    .dataframe thead th {\n",
       "        text-align: right;\n",
       "    }\n",
       "</style>\n",
       "<table border=\"1\" class=\"dataframe\">\n",
       "  <thead>\n",
       "    <tr style=\"text-align: right;\">\n",
       "      <th></th>\n",
       "      <th>primary_title</th>\n",
       "      <th>original_title</th>\n",
       "      <th>start_year</th>\n",
       "      <th>runtime_minutes</th>\n",
       "      <th>director_name</th>\n",
       "      <th>death_year</th>\n",
       "      <th>averagerating</th>\n",
       "      <th>Action</th>\n",
       "      <th>Adult</th>\n",
       "      <th>Adventure</th>\n",
       "      <th>...</th>\n",
       "      <th>No Genre</th>\n",
       "      <th>Reality-TV</th>\n",
       "      <th>Romance</th>\n",
       "      <th>Sci-Fi</th>\n",
       "      <th>Short</th>\n",
       "      <th>Sport</th>\n",
       "      <th>Talk-Show</th>\n",
       "      <th>Thriller</th>\n",
       "      <th>War</th>\n",
       "      <th>Western</th>\n",
       "    </tr>\n",
       "  </thead>\n",
       "  <tbody>\n",
       "    <tr>\n",
       "      <th>0</th>\n",
       "      <td>Sunghursh</td>\n",
       "      <td>Sunghursh</td>\n",
       "      <td>2013</td>\n",
       "      <td>175.0</td>\n",
       "      <td>Harnam Singh Rawail</td>\n",
       "      <td>2004.0</td>\n",
       "      <td>7.0</td>\n",
       "      <td>1</td>\n",
       "      <td>0</td>\n",
       "      <td>0</td>\n",
       "      <td>...</td>\n",
       "      <td>0</td>\n",
       "      <td>0</td>\n",
       "      <td>0</td>\n",
       "      <td>0</td>\n",
       "      <td>0</td>\n",
       "      <td>0</td>\n",
       "      <td>0</td>\n",
       "      <td>0</td>\n",
       "      <td>0</td>\n",
       "      <td>0</td>\n",
       "    </tr>\n",
       "    <tr>\n",
       "      <th>1</th>\n",
       "      <td>One Day Before the Rainy Season</td>\n",
       "      <td>Ashad Ka Ek Din</td>\n",
       "      <td>2019</td>\n",
       "      <td>114.0</td>\n",
       "      <td>Mani Kaul</td>\n",
       "      <td>2011.0</td>\n",
       "      <td>7.2</td>\n",
       "      <td>0</td>\n",
       "      <td>0</td>\n",
       "      <td>0</td>\n",
       "      <td>...</td>\n",
       "      <td>0</td>\n",
       "      <td>0</td>\n",
       "      <td>0</td>\n",
       "      <td>0</td>\n",
       "      <td>0</td>\n",
       "      <td>0</td>\n",
       "      <td>0</td>\n",
       "      <td>0</td>\n",
       "      <td>0</td>\n",
       "      <td>0</td>\n",
       "    </tr>\n",
       "    <tr>\n",
       "      <th>2</th>\n",
       "      <td>The Other Side of the Wind</td>\n",
       "      <td>The Other Side of the Wind</td>\n",
       "      <td>2018</td>\n",
       "      <td>122.0</td>\n",
       "      <td>Orson Welles</td>\n",
       "      <td>1985.0</td>\n",
       "      <td>6.9</td>\n",
       "      <td>0</td>\n",
       "      <td>0</td>\n",
       "      <td>0</td>\n",
       "      <td>...</td>\n",
       "      <td>0</td>\n",
       "      <td>0</td>\n",
       "      <td>0</td>\n",
       "      <td>0</td>\n",
       "      <td>0</td>\n",
       "      <td>0</td>\n",
       "      <td>0</td>\n",
       "      <td>0</td>\n",
       "      <td>0</td>\n",
       "      <td>0</td>\n",
       "    </tr>\n",
       "    <tr>\n",
       "      <th>3</th>\n",
       "      <td>Sabse Bada Sukh</td>\n",
       "      <td>Sabse Bada Sukh</td>\n",
       "      <td>2018</td>\n",
       "      <td>0.0</td>\n",
       "      <td>Hrishikesh Mukherjee</td>\n",
       "      <td>2006.0</td>\n",
       "      <td>6.1</td>\n",
       "      <td>0</td>\n",
       "      <td>0</td>\n",
       "      <td>0</td>\n",
       "      <td>...</td>\n",
       "      <td>0</td>\n",
       "      <td>0</td>\n",
       "      <td>0</td>\n",
       "      <td>0</td>\n",
       "      <td>0</td>\n",
       "      <td>0</td>\n",
       "      <td>0</td>\n",
       "      <td>0</td>\n",
       "      <td>0</td>\n",
       "      <td>0</td>\n",
       "    </tr>\n",
       "    <tr>\n",
       "      <th>4</th>\n",
       "      <td>The Wandering Soap Opera</td>\n",
       "      <td>La Telenovela Errante</td>\n",
       "      <td>2017</td>\n",
       "      <td>80.0</td>\n",
       "      <td>Raoul Ruiz</td>\n",
       "      <td>2011.0</td>\n",
       "      <td>6.5</td>\n",
       "      <td>0</td>\n",
       "      <td>0</td>\n",
       "      <td>0</td>\n",
       "      <td>...</td>\n",
       "      <td>0</td>\n",
       "      <td>0</td>\n",
       "      <td>0</td>\n",
       "      <td>0</td>\n",
       "      <td>0</td>\n",
       "      <td>0</td>\n",
       "      <td>0</td>\n",
       "      <td>0</td>\n",
       "      <td>0</td>\n",
       "      <td>0</td>\n",
       "    </tr>\n",
       "    <tr>\n",
       "      <th>...</th>\n",
       "      <td>...</td>\n",
       "      <td>...</td>\n",
       "      <td>...</td>\n",
       "      <td>...</td>\n",
       "      <td>...</td>\n",
       "      <td>...</td>\n",
       "      <td>...</td>\n",
       "      <td>...</td>\n",
       "      <td>...</td>\n",
       "      <td>...</td>\n",
       "      <td>...</td>\n",
       "      <td>...</td>\n",
       "      <td>...</td>\n",
       "      <td>...</td>\n",
       "      <td>...</td>\n",
       "      <td>...</td>\n",
       "      <td>...</td>\n",
       "      <td>...</td>\n",
       "      <td>...</td>\n",
       "      <td>...</td>\n",
       "      <td>...</td>\n",
       "    </tr>\n",
       "    <tr>\n",
       "      <th>136066</th>\n",
       "      <td>Kuambil Lagi Hatiku</td>\n",
       "      <td>Kuambil Lagi Hatiku</td>\n",
       "      <td>2019</td>\n",
       "      <td>123.0</td>\n",
       "      <td>Azhar Kinoi Lubis</td>\n",
       "      <td>0.0</td>\n",
       "      <td>6.5</td>\n",
       "      <td>0</td>\n",
       "      <td>0</td>\n",
       "      <td>0</td>\n",
       "      <td>...</td>\n",
       "      <td>0</td>\n",
       "      <td>0</td>\n",
       "      <td>0</td>\n",
       "      <td>0</td>\n",
       "      <td>0</td>\n",
       "      <td>0</td>\n",
       "      <td>0</td>\n",
       "      <td>0</td>\n",
       "      <td>0</td>\n",
       "      <td>0</td>\n",
       "    </tr>\n",
       "    <tr>\n",
       "      <th>136067</th>\n",
       "      <td>Rodolpho Teóphilo - O Legado de um Pioneiro</td>\n",
       "      <td>Rodolpho Teóphilo - O Legado de um Pioneiro</td>\n",
       "      <td>2015</td>\n",
       "      <td>0.0</td>\n",
       "      <td>Angela Gurgel</td>\n",
       "      <td>0.0</td>\n",
       "      <td>6.5</td>\n",
       "      <td>0</td>\n",
       "      <td>0</td>\n",
       "      <td>0</td>\n",
       "      <td>...</td>\n",
       "      <td>0</td>\n",
       "      <td>0</td>\n",
       "      <td>0</td>\n",
       "      <td>0</td>\n",
       "      <td>0</td>\n",
       "      <td>0</td>\n",
       "      <td>0</td>\n",
       "      <td>0</td>\n",
       "      <td>0</td>\n",
       "      <td>0</td>\n",
       "    </tr>\n",
       "    <tr>\n",
       "      <th>136068</th>\n",
       "      <td>Dankyavar Danka</td>\n",
       "      <td>Dankyavar Danka</td>\n",
       "      <td>2013</td>\n",
       "      <td>0.0</td>\n",
       "      <td>Kanchan Nayak</td>\n",
       "      <td>0.0</td>\n",
       "      <td>6.5</td>\n",
       "      <td>0</td>\n",
       "      <td>0</td>\n",
       "      <td>0</td>\n",
       "      <td>...</td>\n",
       "      <td>0</td>\n",
       "      <td>0</td>\n",
       "      <td>0</td>\n",
       "      <td>0</td>\n",
       "      <td>0</td>\n",
       "      <td>0</td>\n",
       "      <td>0</td>\n",
       "      <td>0</td>\n",
       "      <td>0</td>\n",
       "      <td>0</td>\n",
       "    </tr>\n",
       "    <tr>\n",
       "      <th>136069</th>\n",
       "      <td>6 Gunn</td>\n",
       "      <td>6 Gunn</td>\n",
       "      <td>2017</td>\n",
       "      <td>116.0</td>\n",
       "      <td>Kiran Gawade</td>\n",
       "      <td>0.0</td>\n",
       "      <td>6.5</td>\n",
       "      <td>0</td>\n",
       "      <td>0</td>\n",
       "      <td>0</td>\n",
       "      <td>...</td>\n",
       "      <td>1</td>\n",
       "      <td>0</td>\n",
       "      <td>0</td>\n",
       "      <td>0</td>\n",
       "      <td>0</td>\n",
       "      <td>0</td>\n",
       "      <td>0</td>\n",
       "      <td>0</td>\n",
       "      <td>0</td>\n",
       "      <td>0</td>\n",
       "    </tr>\n",
       "    <tr>\n",
       "      <th>136070</th>\n",
       "      <td>Chico Albuquerque - Revelações</td>\n",
       "      <td>Chico Albuquerque - Revelações</td>\n",
       "      <td>2013</td>\n",
       "      <td>0.0</td>\n",
       "      <td>Vinicius Augusto Bozzo</td>\n",
       "      <td>0.0</td>\n",
       "      <td>6.5</td>\n",
       "      <td>0</td>\n",
       "      <td>0</td>\n",
       "      <td>0</td>\n",
       "      <td>...</td>\n",
       "      <td>0</td>\n",
       "      <td>0</td>\n",
       "      <td>0</td>\n",
       "      <td>0</td>\n",
       "      <td>0</td>\n",
       "      <td>0</td>\n",
       "      <td>0</td>\n",
       "      <td>0</td>\n",
       "      <td>0</td>\n",
       "      <td>0</td>\n",
       "    </tr>\n",
       "  </tbody>\n",
       "</table>\n",
       "<p>136071 rows × 35 columns</p>\n",
       "</div>"
      ],
      "text/plain": [
       "                                      primary_title  \\\n",
       "0                                         Sunghursh   \n",
       "1                   One Day Before the Rainy Season   \n",
       "2                        The Other Side of the Wind   \n",
       "3                                   Sabse Bada Sukh   \n",
       "4                          The Wandering Soap Opera   \n",
       "...                                             ...   \n",
       "136066                          Kuambil Lagi Hatiku   \n",
       "136067  Rodolpho Teóphilo - O Legado de um Pioneiro   \n",
       "136068                              Dankyavar Danka   \n",
       "136069                                       6 Gunn   \n",
       "136070               Chico Albuquerque - Revelações   \n",
       "\n",
       "                                     original_title  start_year  \\\n",
       "0                                         Sunghursh        2013   \n",
       "1                                   Ashad Ka Ek Din        2019   \n",
       "2                        The Other Side of the Wind        2018   \n",
       "3                                   Sabse Bada Sukh        2018   \n",
       "4                             La Telenovela Errante        2017   \n",
       "...                                             ...         ...   \n",
       "136066                          Kuambil Lagi Hatiku        2019   \n",
       "136067  Rodolpho Teóphilo - O Legado de um Pioneiro        2015   \n",
       "136068                              Dankyavar Danka        2013   \n",
       "136069                                       6 Gunn        2017   \n",
       "136070               Chico Albuquerque - Revelações        2013   \n",
       "\n",
       "        runtime_minutes           director_name  death_year  averagerating  \\\n",
       "0                 175.0     Harnam Singh Rawail      2004.0            7.0   \n",
       "1                 114.0               Mani Kaul      2011.0            7.2   \n",
       "2                 122.0            Orson Welles      1985.0            6.9   \n",
       "3                   0.0    Hrishikesh Mukherjee      2006.0            6.1   \n",
       "4                  80.0              Raoul Ruiz      2011.0            6.5   \n",
       "...                 ...                     ...         ...            ...   \n",
       "136066            123.0       Azhar Kinoi Lubis         0.0            6.5   \n",
       "136067              0.0           Angela Gurgel         0.0            6.5   \n",
       "136068              0.0           Kanchan Nayak         0.0            6.5   \n",
       "136069            116.0            Kiran Gawade         0.0            6.5   \n",
       "136070              0.0  Vinicius Augusto Bozzo         0.0            6.5   \n",
       "\n",
       "        Action  Adult  Adventure  ...  No Genre  Reality-TV  Romance  Sci-Fi  \\\n",
       "0            1      0          0  ...         0           0        0       0   \n",
       "1            0      0          0  ...         0           0        0       0   \n",
       "2            0      0          0  ...         0           0        0       0   \n",
       "3            0      0          0  ...         0           0        0       0   \n",
       "4            0      0          0  ...         0           0        0       0   \n",
       "...        ...    ...        ...  ...       ...         ...      ...     ...   \n",
       "136066       0      0          0  ...         0           0        0       0   \n",
       "136067       0      0          0  ...         0           0        0       0   \n",
       "136068       0      0          0  ...         0           0        0       0   \n",
       "136069       0      0          0  ...         1           0        0       0   \n",
       "136070       0      0          0  ...         0           0        0       0   \n",
       "\n",
       "        Short  Sport  Talk-Show  Thriller  War  Western  \n",
       "0           0      0          0         0    0        0  \n",
       "1           0      0          0         0    0        0  \n",
       "2           0      0          0         0    0        0  \n",
       "3           0      0          0         0    0        0  \n",
       "4           0      0          0         0    0        0  \n",
       "...       ...    ...        ...       ...  ...      ...  \n",
       "136066      0      0          0         0    0        0  \n",
       "136067      0      0          0         0    0        0  \n",
       "136068      0      0          0         0    0        0  \n",
       "136069      0      0          0         0    0        0  \n",
       "136070      0      0          0         0    0        0  \n",
       "\n",
       "[136071 rows x 35 columns]"
      ]
     },
     "execution_count": 218,
     "metadata": {},
     "output_type": "execute_result"
    }
   ],
   "source": []
  },
  {
   "cell_type": "markdown",
   "metadata": {},
   "source": [
    "## Academy Awards"
   ]
  },
  {
   "cell_type": "code",
   "execution_count": 299,
   "metadata": {},
   "outputs": [
    {
     "data": {
      "text/html": [
       "<div>\n",
       "<style scoped>\n",
       "    .dataframe tbody tr th:only-of-type {\n",
       "        vertical-align: middle;\n",
       "    }\n",
       "\n",
       "    .dataframe tbody tr th {\n",
       "        vertical-align: top;\n",
       "    }\n",
       "\n",
       "    .dataframe thead th {\n",
       "        text-align: right;\n",
       "    }\n",
       "</style>\n",
       "<table border=\"1\" class=\"dataframe\">\n",
       "  <thead>\n",
       "    <tr style=\"text-align: right;\">\n",
       "      <th></th>\n",
       "      <th>Year</th>\n",
       "      <th>Ceremony</th>\n",
       "      <th>Award</th>\n",
       "      <th>Winner</th>\n",
       "      <th>Name</th>\n",
       "      <th>Film</th>\n",
       "    </tr>\n",
       "  </thead>\n",
       "  <tbody>\n",
       "    <tr>\n",
       "      <th>0</th>\n",
       "      <td>1927/1928</td>\n",
       "      <td>1</td>\n",
       "      <td>Actor</td>\n",
       "      <td>NaN</td>\n",
       "      <td>Richard Barthelmess</td>\n",
       "      <td>The Noose</td>\n",
       "    </tr>\n",
       "    <tr>\n",
       "      <th>1</th>\n",
       "      <td>1927/1928</td>\n",
       "      <td>1</td>\n",
       "      <td>Actor</td>\n",
       "      <td>1.0</td>\n",
       "      <td>Emil Jannings</td>\n",
       "      <td>The Last Command</td>\n",
       "    </tr>\n",
       "    <tr>\n",
       "      <th>2</th>\n",
       "      <td>1927/1928</td>\n",
       "      <td>1</td>\n",
       "      <td>Actress</td>\n",
       "      <td>NaN</td>\n",
       "      <td>Louise Dresser</td>\n",
       "      <td>A Ship Comes In</td>\n",
       "    </tr>\n",
       "    <tr>\n",
       "      <th>3</th>\n",
       "      <td>1927/1928</td>\n",
       "      <td>1</td>\n",
       "      <td>Actress</td>\n",
       "      <td>1.0</td>\n",
       "      <td>Janet Gaynor</td>\n",
       "      <td>7th Heaven</td>\n",
       "    </tr>\n",
       "    <tr>\n",
       "      <th>4</th>\n",
       "      <td>1927/1928</td>\n",
       "      <td>1</td>\n",
       "      <td>Actress</td>\n",
       "      <td>NaN</td>\n",
       "      <td>Gloria Swanson</td>\n",
       "      <td>Sadie Thompson</td>\n",
       "    </tr>\n",
       "  </tbody>\n",
       "</table>\n",
       "</div>"
      ],
      "text/plain": [
       "        Year  Ceremony    Award  Winner                 Name              Film\n",
       "0  1927/1928         1    Actor     NaN  Richard Barthelmess         The Noose\n",
       "1  1927/1928         1    Actor     1.0        Emil Jannings  The Last Command\n",
       "2  1927/1928         1  Actress     NaN       Louise Dresser   A Ship Comes In\n",
       "3  1927/1928         1  Actress     1.0         Janet Gaynor        7th Heaven\n",
       "4  1927/1928         1  Actress     NaN       Gloria Swanson    Sadie Thompson"
      ]
     },
     "execution_count": 299,
     "metadata": {},
     "output_type": "execute_result"
    }
   ],
   "source": [
    "academy_awards = pd.read_csv('academy_awards.csv')\n",
    "academy_awards.head()"
   ]
  },
  {
   "cell_type": "code",
   "execution_count": 301,
   "metadata": {},
   "outputs": [
    {
     "data": {
      "text/plain": [
       "Year           0\n",
       "Ceremony       0\n",
       "Award          0\n",
       "Winner      7643\n",
       "Name           0\n",
       "Film         333\n",
       "dtype: int64"
      ]
     },
     "execution_count": 301,
     "metadata": {},
     "output_type": "execute_result"
    }
   ],
   "source": [
    "academy_awards.isna().sum()"
   ]
  },
  {
   "cell_type": "code",
   "execution_count": 307,
   "metadata": {},
   "outputs": [],
   "source": [
    "academy_awards.dropna(subset = 'Winner', axis=0, inplace = True)\n",
    "academy_awards.drop(columns=['Winner','Ceremony'],inplace=True)\n",
    "academy_awards['Year'] = academy_awards['Year'].str.slice(0,4)"
   ]
  },
  {
   "cell_type": "code",
   "execution_count": 305,
   "metadata": {},
   "outputs": [
    {
     "data": {
      "text/plain": [
       "array(['Crew member', 'Production', 'Overall Movie'], dtype=object)"
      ]
     },
     "execution_count": 305,
     "metadata": {},
     "output_type": "execute_result"
    }
   ],
   "source": [
    "academy_awards['Award'].unique()"
   ]
  },
  {
   "cell_type": "code",
   "execution_count": 304,
   "metadata": {},
   "outputs": [],
   "source": [
    "academy_awards = academy_awards[~academy_awards['Award'].str.contains('Commendation')]\n",
    "academy_awards = academy_awards[~academy_awards['Award'].str.contains('Honorary')]\n",
    "academy_awards = academy_awards[~academy_awards['Award'].str.contains('Foreign')]\n",
    "academy_awards = academy_awards[~academy_awards['Award'].str.contains('Humanitarian')]\n",
    "def cat_cleaner(char, cat):\n",
    "    for i in char:\n",
    "       academy_awards.loc[academy_awards['Award'].str.contains(i,case=False), 'Award'] = cat\n",
    "\n",
    "crew_member = ['actress','actor','direct','writing']\n",
    "production = ['music','cinematography','special ach','effects','sound','costume','makeup','production','editing']\n",
    "overall_movie = ['documentary','short','picture','special award','feature film','Irving G. Thalberg Memorial Award','Gordon E. Sawyer Award']\n",
    "cat_cleaner(crew_member, 'Crew member')\n",
    "cat_cleaner(production, 'Production')\n",
    "cat_cleaner(overall_movie, 'Overall Movie')"
   ]
  },
  {
   "cell_type": "code",
   "execution_count": 316,
   "metadata": {},
   "outputs": [],
   "source": [
    "academy_awards['Year'] = academy_awards['Year'].astype(int)"
   ]
  },
  {
   "cell_type": "code",
   "execution_count": 319,
   "metadata": {},
   "outputs": [
    {
     "data": {
      "text/plain": [
       "Text(0, 0.5, 'Number of Awards Granted')"
      ]
     },
     "execution_count": 319,
     "metadata": {},
     "output_type": "execute_result"
    },
    {
     "data": {
      "image/png": "[encoded data removed]",
      "text/plain": [
       "<Figure size 640x480 with 1 Axes>"
      ]
     },
     "metadata": {},
     "output_type": "display_data"
    }
   ],
   "source": [
    "yearly_aa = academy_awards.groupby('Year').count()\n",
    "\n",
    "sns.set_style('darkgrid')\n",
    "sns.lineplot(x = yearly_aa.index, y = yearly_aa['Award'])\n",
    "plt.title('Academy Awards Per Year')\n",
    "plt.xlabel('Year')\n",
    "plt.ylabel('Number of Awards Granted')\n",
    "#plt.xticks([1925,1935,1945,1955,1965,1975,1985,1995,2005,2015])"
   ]
  },
  {
   "cell_type": "code",
   "execution_count": 321,
   "metadata": {},
   "outputs": [
    {
     "data": {
      "image/png": "[encoded data removed]",
      "text/plain": [
       "<Figure size 640x480 with 1 Axes>"
      ]
     },
     "metadata": {},
     "output_type": "display_data"
    }
   ],
   "source": [
    "academy_categories = academy_awards['Award'].value_counts(normalize=True)\n",
    "sns.barplot(x = academy_categories.index, y = academy_categories)\n",
    "plt.title('Awards per Category (Academy Awards)')\n",
    "plt.xlabel('Category of the Award')\n",
    "plt.ylabel('% Of Awards');"
   ]
  },
  {
   "cell_type": "code",
   "execution_count": 322,
   "metadata": {},
   "outputs": [
    {
     "data": {
      "text/html": [
       "<div>\n",
       "<style scoped>\n",
       "    .dataframe tbody tr th:only-of-type {\n",
       "        vertical-align: middle;\n",
       "    }\n",
       "\n",
       "    .dataframe tbody tr th {\n",
       "        vertical-align: top;\n",
       "    }\n",
       "\n",
       "    .dataframe thead th {\n",
       "        text-align: right;\n",
       "    }\n",
       "</style>\n",
       "<table border=\"1\" class=\"dataframe\">\n",
       "  <thead>\n",
       "    <tr style=\"text-align: right;\">\n",
       "      <th></th>\n",
       "      <th>Year</th>\n",
       "      <th>Award</th>\n",
       "      <th>Film</th>\n",
       "    </tr>\n",
       "    <tr>\n",
       "      <th>Name</th>\n",
       "      <th></th>\n",
       "      <th></th>\n",
       "      <th></th>\n",
       "    </tr>\n",
       "  </thead>\n",
       "  <tbody>\n",
       "    <tr>\n",
       "      <th>Titanic</th>\n",
       "      <td>11</td>\n",
       "      <td>11</td>\n",
       "      <td>11</td>\n",
       "    </tr>\n",
       "    <tr>\n",
       "      <th>The Lord of the Rings: The Return of the King</th>\n",
       "      <td>10</td>\n",
       "      <td>10</td>\n",
       "      <td>10</td>\n",
       "    </tr>\n",
       "    <tr>\n",
       "      <th>Ben-Hur</th>\n",
       "      <td>9</td>\n",
       "      <td>9</td>\n",
       "      <td>9</td>\n",
       "    </tr>\n",
       "    <tr>\n",
       "      <th>The Last Emperor</th>\n",
       "      <td>9</td>\n",
       "      <td>9</td>\n",
       "      <td>9</td>\n",
       "    </tr>\n",
       "    <tr>\n",
       "      <th>West Side Story</th>\n",
       "      <td>8</td>\n",
       "      <td>8</td>\n",
       "      <td>8</td>\n",
       "    </tr>\n",
       "    <tr>\n",
       "      <th>...</th>\n",
       "      <td>...</td>\n",
       "      <td>...</td>\n",
       "      <td>...</td>\n",
       "    </tr>\n",
       "    <tr>\n",
       "      <th>Green Dolphin Street</th>\n",
       "      <td>1</td>\n",
       "      <td>1</td>\n",
       "      <td>1</td>\n",
       "    </tr>\n",
       "    <tr>\n",
       "      <th>Great</th>\n",
       "      <td>1</td>\n",
       "      <td>1</td>\n",
       "      <td>1</td>\n",
       "    </tr>\n",
       "    <tr>\n",
       "      <th>Gravity Is My Enemy</th>\n",
       "      <td>1</td>\n",
       "      <td>1</td>\n",
       "      <td>1</td>\n",
       "    </tr>\n",
       "    <tr>\n",
       "      <th>Grandad of Races</th>\n",
       "      <td>1</td>\n",
       "      <td>1</td>\n",
       "      <td>1</td>\n",
       "    </tr>\n",
       "    <tr>\n",
       "      <th>tom thumb</th>\n",
       "      <td>1</td>\n",
       "      <td>1</td>\n",
       "      <td>1</td>\n",
       "    </tr>\n",
       "  </tbody>\n",
       "</table>\n",
       "<p>1453 rows × 3 columns</p>\n",
       "</div>"
      ],
      "text/plain": [
       "                                                Year  Award  Film\n",
       "Name                                                             \n",
       "Titanic                                           11     11    11\n",
       "The Lord of the Rings: The Return of the King     10     10    10\n",
       "Ben-Hur                                            9      9     9\n",
       "The Last Emperor                                   9      9     9\n",
       "West Side Story                                    8      8     8\n",
       "...                                              ...    ...   ...\n",
       "Green Dolphin Street                               1      1     1\n",
       "Great                                              1      1     1\n",
       "Gravity Is My Enemy                                1      1     1\n",
       "Grandad of Races                                   1      1     1\n",
       "tom thumb                                          1      1     1\n",
       "\n",
       "[1453 rows x 3 columns]"
      ]
     },
     "execution_count": 322,
     "metadata": {},
     "output_type": "execute_result"
    }
   ],
   "source": [
    "nominees_aa = academy_awards.groupby('Name').count()\n",
    "nominees_aa.sort_values(by='Year', ascending=False)"
   ]
  },
  {
   "cell_type": "code",
   "execution_count": 323,
   "metadata": {},
   "outputs": [
    {
     "data": {
      "text/plain": [
       "31"
      ]
     },
     "execution_count": 323,
     "metadata": {},
     "output_type": "execute_result"
    }
   ],
   "source": [
    "nominees_aa.index.isin(imdb['director_name']).sum()"
   ]
  },
  {
   "cell_type": "code",
   "execution_count": 324,
   "metadata": {},
   "outputs": [
    {
     "data": {
      "text/html": [
       "<div>\n",
       "<style scoped>\n",
       "    .dataframe tbody tr th:only-of-type {\n",
       "        vertical-align: middle;\n",
       "    }\n",
       "\n",
       "    .dataframe tbody tr th {\n",
       "        vertical-align: top;\n",
       "    }\n",
       "\n",
       "    .dataframe thead th {\n",
       "        text-align: right;\n",
       "    }\n",
       "</style>\n",
       "<table border=\"1\" class=\"dataframe\">\n",
       "  <thead>\n",
       "    <tr style=\"text-align: right;\">\n",
       "      <th></th>\n",
       "      <th>year_film</th>\n",
       "      <th>category</th>\n",
       "      <th>nominee</th>\n",
       "    </tr>\n",
       "    <tr>\n",
       "      <th>film</th>\n",
       "      <th></th>\n",
       "      <th></th>\n",
       "      <th></th>\n",
       "    </tr>\n",
       "  </thead>\n",
       "  <tbody>\n",
       "    <tr>\n",
       "      <th>12 Years a Slave</th>\n",
       "      <td>1</td>\n",
       "      <td>1</td>\n",
       "      <td>1</td>\n",
       "    </tr>\n",
       "    <tr>\n",
       "      <th>1917</th>\n",
       "      <td>2</td>\n",
       "      <td>2</td>\n",
       "      <td>2</td>\n",
       "    </tr>\n",
       "    <tr>\n",
       "      <th>5 Fingers</th>\n",
       "      <td>1</td>\n",
       "      <td>1</td>\n",
       "      <td>1</td>\n",
       "    </tr>\n",
       "    <tr>\n",
       "      <th>A Beautiful Mind</th>\n",
       "      <td>4</td>\n",
       "      <td>4</td>\n",
       "      <td>4</td>\n",
       "    </tr>\n",
       "    <tr>\n",
       "      <th>A Double Life</th>\n",
       "      <td>1</td>\n",
       "      <td>1</td>\n",
       "      <td>1</td>\n",
       "    </tr>\n",
       "    <tr>\n",
       "      <th>...</th>\n",
       "      <td>...</td>\n",
       "      <td>...</td>\n",
       "      <td>...</td>\n",
       "    </tr>\n",
       "    <tr>\n",
       "      <th>You Light Up My Life</th>\n",
       "      <td>1</td>\n",
       "      <td>1</td>\n",
       "      <td>1</td>\n",
       "    </tr>\n",
       "    <tr>\n",
       "      <th>Young Guns II</th>\n",
       "      <td>1</td>\n",
       "      <td>1</td>\n",
       "      <td>1</td>\n",
       "    </tr>\n",
       "    <tr>\n",
       "      <th>Youthquake</th>\n",
       "      <td>1</td>\n",
       "      <td>1</td>\n",
       "      <td>1</td>\n",
       "    </tr>\n",
       "    <tr>\n",
       "      <th>Zero Dark Thirty \\t</th>\n",
       "      <td>1</td>\n",
       "      <td>1</td>\n",
       "      <td>1</td>\n",
       "    </tr>\n",
       "    <tr>\n",
       "      <th>Zootopia</th>\n",
       "      <td>1</td>\n",
       "      <td>1</td>\n",
       "      <td>1</td>\n",
       "    </tr>\n",
       "  </tbody>\n",
       "</table>\n",
       "<p>745 rows × 3 columns</p>\n",
       "</div>"
      ],
      "text/plain": [
       "                      year_film  category  nominee\n",
       "film                                              \n",
       "12 Years a Slave              1         1        1\n",
       "1917                          2         2        2\n",
       "5 Fingers                     1         1        1\n",
       "A Beautiful Mind              4         4        4\n",
       "A Double Life                 1         1        1\n",
       "...                         ...       ...      ...\n",
       "You Light Up My Life          1         1        1\n",
       "Young Guns II                 1         1        1\n",
       "Youthquake                    1         1        1\n",
       "Zero Dark Thirty \\t           1         1        1\n",
       "Zootopia                      1         1        1\n",
       "\n",
       "[745 rows x 3 columns]"
      ]
     },
     "execution_count": 324,
     "metadata": {},
     "output_type": "execute_result"
    }
   ],
   "source": [
    "films_aa = academy_awards.groupby('Film').count()\n",
    "films"
   ]
  },
  {
   "cell_type": "code",
   "execution_count": 325,
   "metadata": {},
   "outputs": [
    {
     "data": {
      "text/plain": [
       "90"
      ]
     },
     "execution_count": 325,
     "metadata": {},
     "output_type": "execute_result"
    }
   ],
   "source": [
    "films_aa.index.isin(imdb['primary_title']).sum()"
   ]
  },
  {
   "cell_type": "code",
   "execution_count": 326,
   "metadata": {},
   "outputs": [
    {
     "data": {
      "text/html": [
       "<div>\n",
       "<style scoped>\n",
       "    .dataframe tbody tr th:only-of-type {\n",
       "        vertical-align: middle;\n",
       "    }\n",
       "\n",
       "    .dataframe tbody tr th {\n",
       "        vertical-align: top;\n",
       "    }\n",
       "\n",
       "    .dataframe thead th {\n",
       "        text-align: right;\n",
       "    }\n",
       "</style>\n",
       "<table border=\"1\" class=\"dataframe\">\n",
       "  <thead>\n",
       "    <tr style=\"text-align: right;\">\n",
       "      <th></th>\n",
       "      <th>Year</th>\n",
       "      <th>Award</th>\n",
       "      <th>Name</th>\n",
       "      <th>Film</th>\n",
       "    </tr>\n",
       "  </thead>\n",
       "  <tbody>\n",
       "    <tr>\n",
       "      <th>1</th>\n",
       "      <td>1927</td>\n",
       "      <td>Crew member</td>\n",
       "      <td>Emil Jannings</td>\n",
       "      <td>The Last Command</td>\n",
       "    </tr>\n",
       "    <tr>\n",
       "      <th>3</th>\n",
       "      <td>1927</td>\n",
       "      <td>Crew member</td>\n",
       "      <td>Janet Gaynor</td>\n",
       "      <td>7th Heaven</td>\n",
       "    </tr>\n",
       "    <tr>\n",
       "      <th>6</th>\n",
       "      <td>1927</td>\n",
       "      <td>Crew member</td>\n",
       "      <td>William Cameron Menzies</td>\n",
       "      <td>The Dove; Tempest</td>\n",
       "    </tr>\n",
       "    <tr>\n",
       "      <th>9</th>\n",
       "      <td>1927</td>\n",
       "      <td>Production</td>\n",
       "      <td>Charles Rosher</td>\n",
       "      <td>Sunrise</td>\n",
       "    </tr>\n",
       "    <tr>\n",
       "      <th>10</th>\n",
       "      <td>1927</td>\n",
       "      <td>Production</td>\n",
       "      <td>Karl Struss</td>\n",
       "      <td>Sunrise</td>\n",
       "    </tr>\n",
       "    <tr>\n",
       "      <th>...</th>\n",
       "      <td>...</td>\n",
       "      <td>...</td>\n",
       "      <td>...</td>\n",
       "      <td>...</td>\n",
       "    </tr>\n",
       "    <tr>\n",
       "      <th>9936</th>\n",
       "      <td>2015</td>\n",
       "      <td>Production</td>\n",
       "      <td>Mad Max: Fury Road</td>\n",
       "      <td>Mark Mangini and David White</td>\n",
       "    </tr>\n",
       "    <tr>\n",
       "      <th>9942</th>\n",
       "      <td>2015</td>\n",
       "      <td>Production</td>\n",
       "      <td>Mad Max: Fury Road</td>\n",
       "      <td>Chris Jenkins, Gregg Rudloff and Ben Osmo</td>\n",
       "    </tr>\n",
       "    <tr>\n",
       "      <th>9946</th>\n",
       "      <td>2015</td>\n",
       "      <td>Production</td>\n",
       "      <td>Ex Machina</td>\n",
       "      <td>Andrew Whitehurst, Paul Norris, Mark Ardington...</td>\n",
       "    </tr>\n",
       "    <tr>\n",
       "      <th>9951</th>\n",
       "      <td>2015</td>\n",
       "      <td>Crew member</td>\n",
       "      <td>The Big Short</td>\n",
       "      <td>Screenplay by Charles Randolph and Adam McKay</td>\n",
       "    </tr>\n",
       "    <tr>\n",
       "      <th>9959</th>\n",
       "      <td>2015</td>\n",
       "      <td>Crew member</td>\n",
       "      <td>Spotlight</td>\n",
       "      <td>Written by Josh Singer &amp; Tom McCarthy</td>\n",
       "    </tr>\n",
       "  </tbody>\n",
       "</table>\n",
       "<p>2057 rows × 4 columns</p>\n",
       "</div>"
      ],
      "text/plain": [
       "      Year        Award                     Name  \\\n",
       "1     1927  Crew member            Emil Jannings   \n",
       "3     1927  Crew member             Janet Gaynor   \n",
       "6     1927  Crew member  William Cameron Menzies   \n",
       "9     1927   Production           Charles Rosher   \n",
       "10    1927   Production              Karl Struss   \n",
       "...    ...          ...                      ...   \n",
       "9936  2015   Production       Mad Max: Fury Road   \n",
       "9942  2015   Production       Mad Max: Fury Road   \n",
       "9946  2015   Production               Ex Machina   \n",
       "9951  2015  Crew member            The Big Short   \n",
       "9959  2015  Crew member                Spotlight   \n",
       "\n",
       "                                                   Film  \n",
       "1                                      The Last Command  \n",
       "3                                            7th Heaven  \n",
       "6                                     The Dove; Tempest  \n",
       "9                                               Sunrise  \n",
       "10                                              Sunrise  \n",
       "...                                                 ...  \n",
       "9936                       Mark Mangini and David White  \n",
       "9942          Chris Jenkins, Gregg Rudloff and Ben Osmo  \n",
       "9946  Andrew Whitehurst, Paul Norris, Mark Ardington...  \n",
       "9951      Screenplay by Charles Randolph and Adam McKay  \n",
       "9959              Written by Josh Singer & Tom McCarthy  \n",
       "\n",
       "[2057 rows x 4 columns]"
      ]
     },
     "execution_count": 326,
     "metadata": {},
     "output_type": "execute_result"
    }
   ],
   "source": [
    "academy_awards"
   ]
  },
  {
   "cell_type": "code",
   "execution_count": 329,
   "metadata": {},
   "outputs": [
    {
     "data": {
      "text/html": [
       "<div>\n",
       "<style scoped>\n",
       "    .dataframe tbody tr th:only-of-type {\n",
       "        vertical-align: middle;\n",
       "    }\n",
       "\n",
       "    .dataframe tbody tr th {\n",
       "        vertical-align: top;\n",
       "    }\n",
       "\n",
       "    .dataframe thead th {\n",
       "        text-align: right;\n",
       "    }\n",
       "</style>\n",
       "<table border=\"1\" class=\"dataframe\">\n",
       "  <thead>\n",
       "    <tr style=\"text-align: right;\">\n",
       "      <th></th>\n",
       "      <th>year_film</th>\n",
       "      <th>category</th>\n",
       "      <th>nominee</th>\n",
       "      <th>film</th>\n",
       "    </tr>\n",
       "  </thead>\n",
       "  <tbody>\n",
       "    <tr>\n",
       "      <th>0</th>\n",
       "      <td>1943</td>\n",
       "      <td>Crew member</td>\n",
       "      <td>Katina Paxinou</td>\n",
       "      <td>For Whom The Bell Tolls</td>\n",
       "    </tr>\n",
       "    <tr>\n",
       "      <th>1</th>\n",
       "      <td>1943</td>\n",
       "      <td>Crew member</td>\n",
       "      <td>Akim Tamiroff</td>\n",
       "      <td>For Whom The Bell Tolls</td>\n",
       "    </tr>\n",
       "    <tr>\n",
       "      <th>2</th>\n",
       "      <td>1943</td>\n",
       "      <td>Crew member</td>\n",
       "      <td>Henry King</td>\n",
       "      <td>The Song Of Bernadette</td>\n",
       "    </tr>\n",
       "    <tr>\n",
       "      <th>3</th>\n",
       "      <td>1943</td>\n",
       "      <td>Overall Movie</td>\n",
       "      <td>The Song Of Bernadette</td>\n",
       "      <td>The Song Of Bernadette</td>\n",
       "    </tr>\n",
       "    <tr>\n",
       "      <th>4</th>\n",
       "      <td>1943</td>\n",
       "      <td>Crew member</td>\n",
       "      <td>Jennifer Jones</td>\n",
       "      <td>The Song Of Bernadette</td>\n",
       "    </tr>\n",
       "    <tr>\n",
       "      <th>...</th>\n",
       "      <td>...</td>\n",
       "      <td>...</td>\n",
       "      <td>...</td>\n",
       "      <td>...</td>\n",
       "    </tr>\n",
       "    <tr>\n",
       "      <th>7904</th>\n",
       "      <td>2019</td>\n",
       "      <td>Crew member</td>\n",
       "      <td>Sam Mendes</td>\n",
       "      <td>1917</td>\n",
       "    </tr>\n",
       "    <tr>\n",
       "      <th>7909</th>\n",
       "      <td>2019</td>\n",
       "      <td>Production</td>\n",
       "      <td>Quentin Tarantino</td>\n",
       "      <td>Once Upon a Time...in Hollywood</td>\n",
       "    </tr>\n",
       "    <tr>\n",
       "      <th>7914</th>\n",
       "      <td>2019</td>\n",
       "      <td>Overall Movie</td>\n",
       "      <td>Missing Link</td>\n",
       "      <td>Missing Link</td>\n",
       "    </tr>\n",
       "    <tr>\n",
       "      <th>7924</th>\n",
       "      <td>2019</td>\n",
       "      <td>Overall Movie</td>\n",
       "      <td>Hildur Guðnadóttir</td>\n",
       "      <td>Joker</td>\n",
       "    </tr>\n",
       "    <tr>\n",
       "      <th>7929</th>\n",
       "      <td>2019</td>\n",
       "      <td>Production</td>\n",
       "      <td>I'm Gonna Love Me Again, Elton John, Bernie Ta...</td>\n",
       "      <td>Rocketman</td>\n",
       "    </tr>\n",
       "  </tbody>\n",
       "</table>\n",
       "<p>1116 rows × 4 columns</p>\n",
       "</div>"
      ],
      "text/plain": [
       "      year_film       category  \\\n",
       "0          1943    Crew member   \n",
       "1          1943    Crew member   \n",
       "2          1943    Crew member   \n",
       "3          1943  Overall Movie   \n",
       "4          1943    Crew member   \n",
       "...         ...            ...   \n",
       "7904       2019    Crew member   \n",
       "7909       2019     Production   \n",
       "7914       2019  Overall Movie   \n",
       "7924       2019  Overall Movie   \n",
       "7929       2019     Production   \n",
       "\n",
       "                                                nominee  \\\n",
       "0                                        Katina Paxinou   \n",
       "1                                         Akim Tamiroff   \n",
       "2                                            Henry King   \n",
       "3                                The Song Of Bernadette   \n",
       "4                                        Jennifer Jones   \n",
       "...                                                 ...   \n",
       "7904                                         Sam Mendes   \n",
       "7909                                  Quentin Tarantino   \n",
       "7914                                       Missing Link   \n",
       "7924                                 Hildur Guðnadóttir   \n",
       "7929  I'm Gonna Love Me Again, Elton John, Bernie Ta...   \n",
       "\n",
       "                                 film  \n",
       "0             For Whom The Bell Tolls  \n",
       "1             For Whom The Bell Tolls  \n",
       "2              The Song Of Bernadette  \n",
       "3              The Song Of Bernadette  \n",
       "4              The Song Of Bernadette  \n",
       "...                               ...  \n",
       "7904                             1917  \n",
       "7909  Once Upon a Time...in Hollywood  \n",
       "7914                     Missing Link  \n",
       "7924                            Joker  \n",
       "7929                        Rocketman  \n",
       "\n",
       "[1116 rows x 4 columns]"
      ]
     },
     "execution_count": 329,
     "metadata": {},
     "output_type": "execute_result"
    }
   ],
   "source": [
    "golden_globe_awards"
   ]
  },
  {
   "cell_type": "code",
   "execution_count": null,
   "metadata": {},
   "outputs": [],
   "source": []
  }
 ],
 "metadata": {
  "kernelspec": {
   "display_name": "Python 3 (ipykernel)",
   "language": "python",
   "name": "python3"
  },
  "language_info": {
   "codemirror_mode": {
    "name": "ipython",
    "version": 3
   },
   "file_extension": ".py",
   "mimetype": "text/x-python",
   "name": "python",
   "nbconvert_exporter": "python",
   "pygments_lexer": "ipython3",
   "version": "3.8.5"
  }
 },
 "nbformat": 4,
 "nbformat_minor": 4
}
